{
 "cells": [
  {
   "cell_type": "markdown",
   "id": "ac2f3a05-49b2-4aa5-812e-72cc5760f517",
   "metadata": {},
   "source": [
    "# Conditional Probability"
   ]
  },
  {
   "cell_type": "markdown",
   "id": "cd0f5085",
   "metadata": {},
   "source": [
    "Probability with a condition on basis of another event occuring"
   ]
  },
  {
   "cell_type": "markdown",
   "id": "717e4f81",
   "metadata": {},
   "source": [
    "# Total Probability law "
   ]
  },
  {
   "cell_type": "markdown",
   "id": "c68b0061",
   "metadata": {},
   "source": [
    "The Probability of an event occuring with multiple permutation and combination of its sample set"
   ]
  },
  {
   "cell_type": "code",
   "execution_count": null,
   "id": "f3133195",
   "metadata": {},
   "outputs": [],
   "source": []
  }
 ],
 "metadata": {
  "kernelspec": {
   "display_name": "Python 3 (ipykernel)",
   "language": "python",
   "name": "python3"
  },
  "language_info": {
   "codemirror_mode": {
    "name": "ipython",
    "version": 3
   },
   "file_extension": ".py",
   "mimetype": "text/x-python",
   "name": "python",
   "nbconvert_exporter": "python",
   "pygments_lexer": "ipython3",
   "version": "3.12.1"
  }
 },
 "nbformat": 4,
 "nbformat_minor": 5
}
