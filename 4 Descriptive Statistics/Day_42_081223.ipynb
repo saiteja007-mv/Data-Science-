{
 "cells": [
  {
   "cell_type": "markdown",
   "id": "4e1b9f9b-9a9d-4e34-8de5-97e691ba83e9",
   "metadata": {},
   "source": [
    "# Descriptive Statistics"
   ]
  },
  {
   "cell_type": "markdown",
   "id": "7d7aa707-647f-4b83-b1c7-b57864a57428",
   "metadata": {},
   "source": [
    "* Probability and statistics is used for decision making\n",
    "* In statistics - we used to analyze, understand and getting shape of the data or A to z of the data\n",
    "* In probability - we used to predict, forecast the future using the past data / how likely something is to happen"
   ]
  },
  {
   "cell_type": "markdown",
   "id": "8885daf8-19cf-41e7-a28c-29a6a0b7bab5",
   "metadata": {},
   "source": [
    "## Statistical functions that describe the data"
   ]
  },
  {
   "cell_type": "markdown",
   "id": "e3898763-6e1e-48e0-899b-eb5da9393c0d",
   "metadata": {},
   "source": [
    "#### The first step in this is EDA ( Exploratary Data Analysis )"
   ]
  },
  {
   "cell_type": "markdown",
   "id": "478b48bb-77be-4b21-a738-7d8ec46db422",
   "metadata": {},
   "source": [
    "* Mean = Sum of elements / No of elements\n",
    "* Mode = Most occurance element\n",
    "* Median\n",
    "  > odd -- (n+1)/2 th element\n",
    "  > \n",
    "  > even -- ((n+1)/2 + ((n/2)+1)) / 2\n",
    "* Range = Maximum - Minimum\n",
    "* Quartile [ Q1, Q2, Q3, Q4 ] => [ 25, 50, 75, 100 ]\n",
    "* IQR = Q3 -Q1\n",
    "* Upper limit = Q3 + 1.5 * IQR\n",
    "* Lower limit = Q3 - 1.5 * IQR\n",
    "* When the data point is not in between upper and lower limit it is called outlier\n",
    "* Varience = Average Squared deviation of each datapoint from mean\n",
    "* Standard deviation = Square root of Varience\n",
    "* Kurtosis = Measure of Peakedness of the data\n",
    "  > Thin -- Leptokurtic ( +ve kurtosis )\n",
    "  >\n",
    "  > Normal -- Mesokurtic\n",
    "  >\n",
    "  > Flat -- Platykurtic ( -ve kurtosis )"
   ]
  },
  {
   "cell_type": "markdown",
   "id": "56aaf847-61bd-4f38-8c5b-cb46b38494fe",
   "metadata": {},
   "source": [
    "# Implementation of Descriptive Statistics"
   ]
  },
  {
   "cell_type": "markdown",
   "id": "ff1a8b04-607a-4745-a8d9-bab348545bab",
   "metadata": {},
   "source": [
    "## Importing required libraries"
   ]
  },
  {
   "cell_type": "code",
   "execution_count": 1,
   "id": "1556f0b7-be33-427e-8f90-b08cb08f0abd",
   "metadata": {},
   "outputs": [
    {
     "name": "stderr",
     "output_type": "stream",
     "text": [
      "C:\\Users\\saite\\AppData\\Local\\Temp\\ipykernel_1296\\555797462.py:1: DeprecationWarning: \n",
      "Pyarrow will become a required dependency of pandas in the next major release of pandas (pandas 3.0),\n",
      "(to allow more performant data types, such as the Arrow string type, and better interoperability with other libraries)\n",
      "but was not found to be installed on your system.\n",
      "If this would cause problems for you,\n",
      "please provide us feedback at https://github.com/pandas-dev/pandas/issues/54466\n",
      "        \n",
      "  import pandas as pd\n"
     ]
    }
   ],
   "source": [
    "import pandas as pd\n",
    "import numpy as np\n",
    "import matplotlib.pyplot as plt\n",
    "import seaborn as sns"
   ]
  },
  {
   "cell_type": "code",
   "execution_count": null,
   "id": "7e5fd69c-ea8e-46eb-a5e2-d5fe5d9f4550",
   "metadata": {},
   "outputs": [],
   "source": [
    "!wget https://d2beiqkhq929f0.cloudfront.net/public_assets/assets/000/035/130/original/sehwag.csv?1684996594 "
   ]
  },
  {
   "cell_type": "code",
   "execution_count": null,
   "id": "751e2ab5-660d-45e9-ab0b-09593b5f3773",
   "metadata": {},
   "outputs": [],
   "source": [
    "!wget https://d2beiqkhq929f0.cloudfront.net/public_assets/assets/000/035/131/original/dravid.csv?1684996749 "
   ]
  },
  {
   "cell_type": "markdown",
   "id": "6c3ea0cb-b0e2-406d-b3e5-14c058fb008b",
   "metadata": {},
   "source": [
    "## Reading the data"
   ]
  },
  {
   "cell_type": "code",
   "execution_count": 2,
   "id": "f4eaa402-7f84-490f-b091-aa400a5bd826",
   "metadata": {},
   "outputs": [],
   "source": [
    "sehwag = pd.read_csv(\"sehwag.csv\")\n",
    "dravid = pd.read_csv(\"dravid.csv\")"
   ]
  },
  {
   "cell_type": "code",
   "execution_count": 3,
   "id": "5cb90914-e046-47fc-91d6-9e4494bdf277",
   "metadata": {},
   "outputs": [
    {
     "data": {
      "text/html": [
       "<div>\n",
       "<style scoped>\n",
       "    .dataframe tbody tr th:only-of-type {\n",
       "        vertical-align: middle;\n",
       "    }\n",
       "\n",
       "    .dataframe tbody tr th {\n",
       "        vertical-align: top;\n",
       "    }\n",
       "\n",
       "    .dataframe thead th {\n",
       "        text-align: right;\n",
       "    }\n",
       "</style>\n",
       "<table border=\"1\" class=\"dataframe\">\n",
       "  <thead>\n",
       "    <tr style=\"text-align: right;\">\n",
       "      <th></th>\n",
       "      <th>Runs</th>\n",
       "      <th>Mins</th>\n",
       "      <th>BF</th>\n",
       "      <th>4s</th>\n",
       "      <th>6s</th>\n",
       "      <th>SR</th>\n",
       "      <th>Pos</th>\n",
       "      <th>Dismissal</th>\n",
       "      <th>Inns</th>\n",
       "      <th>Unnamed: 9</th>\n",
       "      <th>Opposition</th>\n",
       "      <th>Ground</th>\n",
       "      <th>Start Date</th>\n",
       "      <th>Unnamed: 13</th>\n",
       "    </tr>\n",
       "  </thead>\n",
       "  <tbody>\n",
       "    <tr>\n",
       "      <th>0</th>\n",
       "      <td>1</td>\n",
       "      <td>5</td>\n",
       "      <td>2</td>\n",
       "      <td>0</td>\n",
       "      <td>0</td>\n",
       "      <td>50.00</td>\n",
       "      <td>7</td>\n",
       "      <td>lbw</td>\n",
       "      <td>1</td>\n",
       "      <td>NaN</td>\n",
       "      <td>v Pakistan</td>\n",
       "      <td>Mohali</td>\n",
       "      <td>1 Apr 1999</td>\n",
       "      <td>ODI # 1427</td>\n",
       "    </tr>\n",
       "    <tr>\n",
       "      <th>1</th>\n",
       "      <td>19</td>\n",
       "      <td>18</td>\n",
       "      <td>24</td>\n",
       "      <td>0</td>\n",
       "      <td>1</td>\n",
       "      <td>79.16</td>\n",
       "      <td>6</td>\n",
       "      <td>caught</td>\n",
       "      <td>1</td>\n",
       "      <td>NaN</td>\n",
       "      <td>v Zimbabwe</td>\n",
       "      <td>Rajkot</td>\n",
       "      <td>14 Dec 2000</td>\n",
       "      <td>ODI # 1660</td>\n",
       "    </tr>\n",
       "    <tr>\n",
       "      <th>2</th>\n",
       "      <td>58</td>\n",
       "      <td>62</td>\n",
       "      <td>54</td>\n",
       "      <td>8</td>\n",
       "      <td>0</td>\n",
       "      <td>107.40</td>\n",
       "      <td>6</td>\n",
       "      <td>bowled</td>\n",
       "      <td>1</td>\n",
       "      <td>NaN</td>\n",
       "      <td>v Australia</td>\n",
       "      <td>Bengaluru</td>\n",
       "      <td>25 Mar 2001</td>\n",
       "      <td>ODI # 1696</td>\n",
       "    </tr>\n",
       "    <tr>\n",
       "      <th>3</th>\n",
       "      <td>2</td>\n",
       "      <td>7</td>\n",
       "      <td>7</td>\n",
       "      <td>0</td>\n",
       "      <td>0</td>\n",
       "      <td>28.57</td>\n",
       "      <td>6</td>\n",
       "      <td>caught</td>\n",
       "      <td>2</td>\n",
       "      <td>NaN</td>\n",
       "      <td>v Zimbabwe</td>\n",
       "      <td>Bulawayo</td>\n",
       "      <td>27 Jun 2001</td>\n",
       "      <td>ODI # 1730</td>\n",
       "    </tr>\n",
       "    <tr>\n",
       "      <th>4</th>\n",
       "      <td>11</td>\n",
       "      <td>19</td>\n",
       "      <td>16</td>\n",
       "      <td>1</td>\n",
       "      <td>0</td>\n",
       "      <td>68.75</td>\n",
       "      <td>6</td>\n",
       "      <td>not out</td>\n",
       "      <td>2</td>\n",
       "      <td>NaN</td>\n",
       "      <td>v West Indies</td>\n",
       "      <td>Bulawayo</td>\n",
       "      <td>30 Jun 2001</td>\n",
       "      <td>ODI # 1731</td>\n",
       "    </tr>\n",
       "  </tbody>\n",
       "</table>\n",
       "</div>"
      ],
      "text/plain": [
       "   Runs Mins  BF  4s  6s      SR  Pos Dismissal  Inns  Unnamed: 9  \\\n",
       "0     1    5   2   0   0   50.00    7       lbw     1         NaN   \n",
       "1    19   18  24   0   1   79.16    6    caught     1         NaN   \n",
       "2    58   62  54   8   0  107.40    6    bowled     1         NaN   \n",
       "3     2    7   7   0   0   28.57    6    caught     2         NaN   \n",
       "4    11   19  16   1   0   68.75    6   not out     2         NaN   \n",
       "\n",
       "      Opposition     Ground   Start Date Unnamed: 13  \n",
       "0     v Pakistan     Mohali   1 Apr 1999  ODI # 1427  \n",
       "1     v Zimbabwe     Rajkot  14 Dec 2000  ODI # 1660  \n",
       "2    v Australia  Bengaluru  25 Mar 2001  ODI # 1696  \n",
       "3     v Zimbabwe   Bulawayo  27 Jun 2001  ODI # 1730  \n",
       "4  v West Indies   Bulawayo  30 Jun 2001  ODI # 1731  "
      ]
     },
     "execution_count": 3,
     "metadata": {},
     "output_type": "execute_result"
    }
   ],
   "source": [
    "sehwag.head()"
   ]
  },
  {
   "cell_type": "code",
   "execution_count": 4,
   "id": "ee38dc8f-57ce-4fd5-af82-f11de6345907",
   "metadata": {},
   "outputs": [
    {
     "data": {
      "text/html": [
       "<div>\n",
       "<style scoped>\n",
       "    .dataframe tbody tr th:only-of-type {\n",
       "        vertical-align: middle;\n",
       "    }\n",
       "\n",
       "    .dataframe tbody tr th {\n",
       "        vertical-align: top;\n",
       "    }\n",
       "\n",
       "    .dataframe thead th {\n",
       "        text-align: right;\n",
       "    }\n",
       "</style>\n",
       "<table border=\"1\" class=\"dataframe\">\n",
       "  <thead>\n",
       "    <tr style=\"text-align: right;\">\n",
       "      <th></th>\n",
       "      <th>Runs</th>\n",
       "      <th>Mins</th>\n",
       "      <th>BF</th>\n",
       "      <th>4s</th>\n",
       "      <th>6s</th>\n",
       "      <th>SR</th>\n",
       "      <th>Pos</th>\n",
       "      <th>Dismissal</th>\n",
       "      <th>Inns</th>\n",
       "      <th>Unnamed: 9</th>\n",
       "      <th>Opposition</th>\n",
       "      <th>Ground</th>\n",
       "      <th>Start Date</th>\n",
       "      <th>Unnamed: 13</th>\n",
       "    </tr>\n",
       "  </thead>\n",
       "  <tbody>\n",
       "    <tr>\n",
       "      <th>0</th>\n",
       "      <td>3</td>\n",
       "      <td>-</td>\n",
       "      <td>4</td>\n",
       "      <td>0</td>\n",
       "      <td>0</td>\n",
       "      <td>75.00</td>\n",
       "      <td>4</td>\n",
       "      <td>caught</td>\n",
       "      <td>1</td>\n",
       "      <td>NaN</td>\n",
       "      <td>v Sri Lanka</td>\n",
       "      <td>Singapore</td>\n",
       "      <td>3 Apr 1996</td>\n",
       "      <td>ODI # 1089</td>\n",
       "    </tr>\n",
       "    <tr>\n",
       "      <th>1</th>\n",
       "      <td>4</td>\n",
       "      <td>-</td>\n",
       "      <td>7</td>\n",
       "      <td>0</td>\n",
       "      <td>0</td>\n",
       "      <td>57.14</td>\n",
       "      <td>4</td>\n",
       "      <td>run out</td>\n",
       "      <td>1</td>\n",
       "      <td>NaN</td>\n",
       "      <td>v Pakistan</td>\n",
       "      <td>Singapore</td>\n",
       "      <td>5 Apr 1996</td>\n",
       "      <td>ODI # 1091</td>\n",
       "    </tr>\n",
       "    <tr>\n",
       "      <th>2</th>\n",
       "      <td>3</td>\n",
       "      <td>-</td>\n",
       "      <td>5</td>\n",
       "      <td>0</td>\n",
       "      <td>0</td>\n",
       "      <td>60.00</td>\n",
       "      <td>5</td>\n",
       "      <td>caught</td>\n",
       "      <td>2</td>\n",
       "      <td>NaN</td>\n",
       "      <td>v Pakistan</td>\n",
       "      <td>Sharjah</td>\n",
       "      <td>12 Apr 1996</td>\n",
       "      <td>ODI # 1094</td>\n",
       "    </tr>\n",
       "    <tr>\n",
       "      <th>3</th>\n",
       "      <td>11</td>\n",
       "      <td>28</td>\n",
       "      <td>21</td>\n",
       "      <td>0</td>\n",
       "      <td>0</td>\n",
       "      <td>52.38</td>\n",
       "      <td>8</td>\n",
       "      <td>caught</td>\n",
       "      <td>2</td>\n",
       "      <td>NaN</td>\n",
       "      <td>v South Africa</td>\n",
       "      <td>Sharjah</td>\n",
       "      <td>14 Apr 1996</td>\n",
       "      <td>ODI # 1097</td>\n",
       "    </tr>\n",
       "    <tr>\n",
       "      <th>4</th>\n",
       "      <td>22</td>\n",
       "      <td>21</td>\n",
       "      <td>15</td>\n",
       "      <td>3</td>\n",
       "      <td>0</td>\n",
       "      <td>146.66</td>\n",
       "      <td>6</td>\n",
       "      <td>not out</td>\n",
       "      <td>1</td>\n",
       "      <td>NaN</td>\n",
       "      <td>v England</td>\n",
       "      <td>Manchester</td>\n",
       "      <td>26 May 1996</td>\n",
       "      <td>ODI # 1104</td>\n",
       "    </tr>\n",
       "  </tbody>\n",
       "</table>\n",
       "</div>"
      ],
      "text/plain": [
       "   Runs Mins  BF  4s  6s      SR  Pos Dismissal  Inns  Unnamed: 9  \\\n",
       "0     3    -   4   0   0   75.00    4    caught     1         NaN   \n",
       "1     4    -   7   0   0   57.14    4   run out     1         NaN   \n",
       "2     3    -   5   0   0   60.00    5    caught     2         NaN   \n",
       "3    11   28  21   0   0   52.38    8    caught     2         NaN   \n",
       "4    22   21  15   3   0  146.66    6   not out     1         NaN   \n",
       "\n",
       "       Opposition      Ground   Start Date Unnamed: 13  \n",
       "0     v Sri Lanka   Singapore   3 Apr 1996  ODI # 1089  \n",
       "1      v Pakistan   Singapore   5 Apr 1996  ODI # 1091  \n",
       "2      v Pakistan     Sharjah  12 Apr 1996  ODI # 1094  \n",
       "3  v South Africa     Sharjah  14 Apr 1996  ODI # 1097  \n",
       "4       v England  Manchester  26 May 1996  ODI # 1104  "
      ]
     },
     "execution_count": 4,
     "metadata": {},
     "output_type": "execute_result"
    }
   ],
   "source": [
    "dravid.head()"
   ]
  },
  {
   "cell_type": "markdown",
   "id": "7abef521-9cb6-40d2-8de1-c9ec46f637b5",
   "metadata": {},
   "source": [
    "# Analysis of Sehwag data"
   ]
  },
  {
   "cell_type": "code",
   "execution_count": 5,
   "id": "d40490d6-d454-488a-861d-0c62bf536b9d",
   "metadata": {},
   "outputs": [
    {
     "data": {
      "text/plain": [
       "count    245.000000\n",
       "mean      33.767347\n",
       "std       34.809419\n",
       "min        0.000000\n",
       "25%        8.000000\n",
       "50%       23.000000\n",
       "75%       46.000000\n",
       "max      219.000000\n",
       "Name: Runs, dtype: float64"
      ]
     },
     "execution_count": 5,
     "metadata": {},
     "output_type": "execute_result"
    }
   ],
   "source": [
    "sehwag.Runs.describe()"
   ]
  },
  {
   "cell_type": "markdown",
   "id": "9da8400d-7171-40eb-b4a2-24d292898c5b",
   "metadata": {},
   "source": [
    "## Finding percentile"
   ]
  },
  {
   "cell_type": "code",
   "execution_count": 6,
   "id": "f642bf36-b063-4942-9fff-3ebeb2386d0f",
   "metadata": {},
   "outputs": [
    {
     "data": {
      "text/plain": [
       "8.0"
      ]
     },
     "execution_count": 6,
     "metadata": {},
     "output_type": "execute_result"
    }
   ],
   "source": [
    "sp25 = np.percentile(sehwag.Runs,25)\n",
    "sp25"
   ]
  },
  {
   "cell_type": "code",
   "execution_count": 7,
   "id": "657e2fd6-c463-46f8-8215-e778db2b1d54",
   "metadata": {},
   "outputs": [
    {
     "data": {
      "text/plain": [
       "23.0"
      ]
     },
     "execution_count": 7,
     "metadata": {},
     "output_type": "execute_result"
    }
   ],
   "source": [
    "sp50 = np.percentile(sehwag.Runs,50)\n",
    "sp50"
   ]
  },
  {
   "cell_type": "code",
   "execution_count": 8,
   "id": "b68ea2d4-4bdd-41af-bad7-2443ac19c525",
   "metadata": {},
   "outputs": [
    {
     "data": {
      "text/plain": [
       "46.0"
      ]
     },
     "execution_count": 8,
     "metadata": {},
     "output_type": "execute_result"
    }
   ],
   "source": [
    "sp75 = np.percentile(sehwag.Runs,75)\n",
    "sp75"
   ]
  },
  {
   "cell_type": "markdown",
   "id": "fec80510-58c9-41f4-8989-7bb173fcb00c",
   "metadata": {},
   "source": [
    "## Finding IQR"
   ]
  },
  {
   "cell_type": "code",
   "execution_count": 9,
   "id": "24a81d66-1f2d-43c6-85f6-3dc408968334",
   "metadata": {},
   "outputs": [
    {
     "data": {
      "text/plain": [
       "38.0"
      ]
     },
     "execution_count": 9,
     "metadata": {},
     "output_type": "execute_result"
    }
   ],
   "source": [
    "siqr = sp75 - sp25\n",
    "siqr"
   ]
  },
  {
   "cell_type": "markdown",
   "id": "79b8ecb2-ed91-42db-9008-786746ca8a2c",
   "metadata": {},
   "source": [
    "## Box plot to demonstrate the Outliers and IQR"
   ]
  },
  {
   "cell_type": "code",
   "execution_count": 10,
   "id": "ee34cce5-f2b1-4d83-a319-94bd149f5a16",
   "metadata": {},
   "outputs": [
    {
     "name": "stderr",
     "output_type": "stream",
     "text": [
      "C:\\Data\\Data_science\\env\\Lib\\site-packages\\seaborn\\categorical.py:640: FutureWarning: SeriesGroupBy.grouper is deprecated and will be removed in a future version of pandas.\n",
      "  positions = grouped.grouper.result_index.to_numpy(dtype=float)\n"
     ]
    },
    {
     "data": {
      "text/plain": [
       "<Axes: xlabel='Runs'>"
      ]
     },
     "execution_count": 10,
     "metadata": {},
     "output_type": "execute_result"
    },
    {
     "data": {
      "image/png": "[encoded data removed]",
      "text/plain": [
       "<Figure size 640x480 with 1 Axes>"
      ]
     },
     "metadata": {},
     "output_type": "display_data"
    }
   ],
   "source": [
    "sns.boxplot(data = sehwag['Runs'],orient='h')"
   ]
  },
  {
   "cell_type": "markdown",
   "id": "dbb7de20-61da-4e58-8439-145c52a747d8",
   "metadata": {},
   "source": [
    "## Finding Upper and lower limit"
   ]
  },
  {
   "cell_type": "code",
   "execution_count": 11,
   "id": "85b2f95f-6341-42b9-86ea-b05dfce818bb",
   "metadata": {},
   "outputs": [
    {
     "data": {
      "text/plain": [
       "103.0"
      ]
     },
     "execution_count": 11,
     "metadata": {},
     "output_type": "execute_result"
    }
   ],
   "source": [
    "supper = sp75 + 1.5*siqr\n",
    "supper"
   ]
  },
  {
   "cell_type": "code",
   "execution_count": 12,
   "id": "7bc4dce7-2f78-4a7e-a8bd-80e268501740",
   "metadata": {},
   "outputs": [
    {
     "data": {
      "text/plain": [
       "-49.0"
      ]
     },
     "execution_count": 12,
     "metadata": {},
     "output_type": "execute_result"
    }
   ],
   "source": [
    "slower = sp25 - 1.5*siqr\n",
    "slower"
   ]
  },
  {
   "cell_type": "markdown",
   "id": "942cdf34-1108-443d-a460-50bce0ad874e",
   "metadata": {},
   "source": [
    "## Outliers "
   ]
  },
  {
   "cell_type": "code",
   "execution_count": 13,
   "id": "06896117-8442-4a18-9db9-761513d5c01d",
   "metadata": {},
   "outputs": [
    {
     "data": {
      "text/html": [
       "<div>\n",
       "<style scoped>\n",
       "    .dataframe tbody tr th:only-of-type {\n",
       "        vertical-align: middle;\n",
       "    }\n",
       "\n",
       "    .dataframe tbody tr th {\n",
       "        vertical-align: top;\n",
       "    }\n",
       "\n",
       "    .dataframe thead th {\n",
       "        text-align: right;\n",
       "    }\n",
       "</style>\n",
       "<table border=\"1\" class=\"dataframe\">\n",
       "  <thead>\n",
       "    <tr style=\"text-align: right;\">\n",
       "      <th></th>\n",
       "      <th>Runs</th>\n",
       "      <th>Mins</th>\n",
       "      <th>BF</th>\n",
       "      <th>4s</th>\n",
       "      <th>6s</th>\n",
       "      <th>SR</th>\n",
       "      <th>Pos</th>\n",
       "      <th>Dismissal</th>\n",
       "      <th>Inns</th>\n",
       "      <th>Unnamed: 9</th>\n",
       "      <th>Opposition</th>\n",
       "      <th>Ground</th>\n",
       "      <th>Start Date</th>\n",
       "      <th>Unnamed: 13</th>\n",
       "    </tr>\n",
       "  </thead>\n",
       "  <tbody>\n",
       "    <tr>\n",
       "      <th>37</th>\n",
       "      <td>126</td>\n",
       "      <td>136</td>\n",
       "      <td>104</td>\n",
       "      <td>21</td>\n",
       "      <td>1</td>\n",
       "      <td>121.15</td>\n",
       "      <td>1</td>\n",
       "      <td>caught</td>\n",
       "      <td>2</td>\n",
       "      <td>NaN</td>\n",
       "      <td>v England</td>\n",
       "      <td>Colombo (RPS)</td>\n",
       "      <td>22 Sep 2002</td>\n",
       "      <td>ODI # 1884</td>\n",
       "    </tr>\n",
       "    <tr>\n",
       "      <th>43</th>\n",
       "      <td>114</td>\n",
       "      <td>-</td>\n",
       "      <td>82</td>\n",
       "      <td>17</td>\n",
       "      <td>2</td>\n",
       "      <td>139.02</td>\n",
       "      <td>2</td>\n",
       "      <td>not out</td>\n",
       "      <td>2</td>\n",
       "      <td>NaN</td>\n",
       "      <td>v West Indies</td>\n",
       "      <td>Rajkot</td>\n",
       "      <td>12 Nov 2002</td>\n",
       "      <td>ODI # 1895</td>\n",
       "    </tr>\n",
       "    <tr>\n",
       "      <th>49</th>\n",
       "      <td>108</td>\n",
       "      <td>160</td>\n",
       "      <td>119</td>\n",
       "      <td>9</td>\n",
       "      <td>2</td>\n",
       "      <td>90.75</td>\n",
       "      <td>2</td>\n",
       "      <td>run out</td>\n",
       "      <td>2</td>\n",
       "      <td>NaN</td>\n",
       "      <td>v New Zealand</td>\n",
       "      <td>Napier</td>\n",
       "      <td>29 Dec 2002</td>\n",
       "      <td>ODI # 1927</td>\n",
       "    </tr>\n",
       "    <tr>\n",
       "      <th>53</th>\n",
       "      <td>112</td>\n",
       "      <td>175</td>\n",
       "      <td>139</td>\n",
       "      <td>11</td>\n",
       "      <td>3</td>\n",
       "      <td>80.57</td>\n",
       "      <td>2</td>\n",
       "      <td>caught</td>\n",
       "      <td>2</td>\n",
       "      <td>NaN</td>\n",
       "      <td>v New Zealand</td>\n",
       "      <td>Auckland</td>\n",
       "      <td>11 Jan 2003</td>\n",
       "      <td>ODI # 1933</td>\n",
       "    </tr>\n",
       "    <tr>\n",
       "      <th>75</th>\n",
       "      <td>130</td>\n",
       "      <td>193</td>\n",
       "      <td>134</td>\n",
       "      <td>15</td>\n",
       "      <td>2</td>\n",
       "      <td>97.01</td>\n",
       "      <td>1</td>\n",
       "      <td>caught</td>\n",
       "      <td>1</td>\n",
       "      <td>NaN</td>\n",
       "      <td>v New Zealand</td>\n",
       "      <td>Hyderabad (Deccan)</td>\n",
       "      <td>15 Nov 2003</td>\n",
       "      <td>ODI # 2062</td>\n",
       "    </tr>\n",
       "    <tr>\n",
       "      <th>104</th>\n",
       "      <td>108</td>\n",
       "      <td>156</td>\n",
       "      <td>95</td>\n",
       "      <td>9</td>\n",
       "      <td>3</td>\n",
       "      <td>113.68</td>\n",
       "      <td>1</td>\n",
       "      <td>bowled</td>\n",
       "      <td>1</td>\n",
       "      <td>NaN</td>\n",
       "      <td>v Pakistan</td>\n",
       "      <td>Kochi</td>\n",
       "      <td>2 Apr 2005</td>\n",
       "      <td>ODI # 2235</td>\n",
       "    </tr>\n",
       "    <tr>\n",
       "      <th>163</th>\n",
       "      <td>114</td>\n",
       "      <td>127</td>\n",
       "      <td>87</td>\n",
       "      <td>17</td>\n",
       "      <td>3</td>\n",
       "      <td>131.03</td>\n",
       "      <td>3</td>\n",
       "      <td>caught</td>\n",
       "      <td>1</td>\n",
       "      <td>NaN</td>\n",
       "      <td>v Bermuda</td>\n",
       "      <td>Port of Spain</td>\n",
       "      <td>19 Mar 2007</td>\n",
       "      <td>ODI # 2542</td>\n",
       "    </tr>\n",
       "    <tr>\n",
       "      <th>182</th>\n",
       "      <td>119</td>\n",
       "      <td>150</td>\n",
       "      <td>95</td>\n",
       "      <td>12</td>\n",
       "      <td>5</td>\n",
       "      <td>125.26</td>\n",
       "      <td>2</td>\n",
       "      <td>caught</td>\n",
       "      <td>2</td>\n",
       "      <td>NaN</td>\n",
       "      <td>v Pakistan</td>\n",
       "      <td>Karachi</td>\n",
       "      <td>26 Jun 2008</td>\n",
       "      <td>ODI # 2717</td>\n",
       "    </tr>\n",
       "    <tr>\n",
       "      <th>192</th>\n",
       "      <td>116</td>\n",
       "      <td>165</td>\n",
       "      <td>90</td>\n",
       "      <td>17</td>\n",
       "      <td>0</td>\n",
       "      <td>128.88</td>\n",
       "      <td>1</td>\n",
       "      <td>run out</td>\n",
       "      <td>1</td>\n",
       "      <td>NaN</td>\n",
       "      <td>v Sri Lanka</td>\n",
       "      <td>Colombo (RPS)</td>\n",
       "      <td>3 Feb 2009</td>\n",
       "      <td>ODI # 2813</td>\n",
       "    </tr>\n",
       "    <tr>\n",
       "      <th>198</th>\n",
       "      <td>125</td>\n",
       "      <td>106</td>\n",
       "      <td>74</td>\n",
       "      <td>14</td>\n",
       "      <td>6</td>\n",
       "      <td>168.91</td>\n",
       "      <td>2</td>\n",
       "      <td>not out</td>\n",
       "      <td>2</td>\n",
       "      <td>NaN</td>\n",
       "      <td>v New Zealand</td>\n",
       "      <td>Hamilton</td>\n",
       "      <td>11 Mar 2009</td>\n",
       "      <td>ODI # 2824</td>\n",
       "    </tr>\n",
       "    <tr>\n",
       "      <th>206</th>\n",
       "      <td>146</td>\n",
       "      <td>166</td>\n",
       "      <td>102</td>\n",
       "      <td>17</td>\n",
       "      <td>6</td>\n",
       "      <td>143.13</td>\n",
       "      <td>1</td>\n",
       "      <td>caught</td>\n",
       "      <td>1</td>\n",
       "      <td>NaN</td>\n",
       "      <td>v Sri Lanka</td>\n",
       "      <td>Rajkot</td>\n",
       "      <td>15 Dec 2009</td>\n",
       "      <td>ODI # 2932</td>\n",
       "    </tr>\n",
       "    <tr>\n",
       "      <th>220</th>\n",
       "      <td>110</td>\n",
       "      <td>136</td>\n",
       "      <td>93</td>\n",
       "      <td>16</td>\n",
       "      <td>1</td>\n",
       "      <td>118.27</td>\n",
       "      <td>2</td>\n",
       "      <td>caught</td>\n",
       "      <td>1</td>\n",
       "      <td>NaN</td>\n",
       "      <td>v New Zealand</td>\n",
       "      <td>Dambulla</td>\n",
       "      <td>25 Aug 2010</td>\n",
       "      <td>ODI # 3039</td>\n",
       "    </tr>\n",
       "    <tr>\n",
       "      <th>222</th>\n",
       "      <td>175</td>\n",
       "      <td>198</td>\n",
       "      <td>140</td>\n",
       "      <td>14</td>\n",
       "      <td>5</td>\n",
       "      <td>125.00</td>\n",
       "      <td>1</td>\n",
       "      <td>bowled</td>\n",
       "      <td>1</td>\n",
       "      <td>NaN</td>\n",
       "      <td>v Bangladesh</td>\n",
       "      <td>Mirpur</td>\n",
       "      <td>19 Feb 2011</td>\n",
       "      <td>ODI # 3100</td>\n",
       "    </tr>\n",
       "    <tr>\n",
       "      <th>233</th>\n",
       "      <td>219</td>\n",
       "      <td>208</td>\n",
       "      <td>149</td>\n",
       "      <td>25</td>\n",
       "      <td>7</td>\n",
       "      <td>146.97</td>\n",
       "      <td>2</td>\n",
       "      <td>caught</td>\n",
       "      <td>1</td>\n",
       "      <td>NaN</td>\n",
       "      <td>v West Indies</td>\n",
       "      <td>Indore</td>\n",
       "      <td>8 Dec 2011</td>\n",
       "      <td>ODI # 3223</td>\n",
       "    </tr>\n",
       "  </tbody>\n",
       "</table>\n",
       "</div>"
      ],
      "text/plain": [
       "     Runs Mins   BF  4s  6s      SR  Pos Dismissal  Inns  Unnamed: 9  \\\n",
       "37    126  136  104  21   1  121.15    1    caught     2         NaN   \n",
       "43    114    -   82  17   2  139.02    2   not out     2         NaN   \n",
       "49    108  160  119   9   2   90.75    2   run out     2         NaN   \n",
       "53    112  175  139  11   3   80.57    2    caught     2         NaN   \n",
       "75    130  193  134  15   2   97.01    1    caught     1         NaN   \n",
       "104   108  156   95   9   3  113.68    1    bowled     1         NaN   \n",
       "163   114  127   87  17   3  131.03    3    caught     1         NaN   \n",
       "182   119  150   95  12   5  125.26    2    caught     2         NaN   \n",
       "192   116  165   90  17   0  128.88    1   run out     1         NaN   \n",
       "198   125  106   74  14   6  168.91    2   not out     2         NaN   \n",
       "206   146  166  102  17   6  143.13    1    caught     1         NaN   \n",
       "220   110  136   93  16   1  118.27    2    caught     1         NaN   \n",
       "222   175  198  140  14   5  125.00    1    bowled     1         NaN   \n",
       "233   219  208  149  25   7  146.97    2    caught     1         NaN   \n",
       "\n",
       "        Opposition              Ground   Start Date Unnamed: 13  \n",
       "37       v England       Colombo (RPS)  22 Sep 2002  ODI # 1884  \n",
       "43   v West Indies              Rajkot  12 Nov 2002  ODI # 1895  \n",
       "49   v New Zealand              Napier  29 Dec 2002  ODI # 1927  \n",
       "53   v New Zealand            Auckland  11 Jan 2003  ODI # 1933  \n",
       "75   v New Zealand  Hyderabad (Deccan)  15 Nov 2003  ODI # 2062  \n",
       "104     v Pakistan               Kochi   2 Apr 2005  ODI # 2235  \n",
       "163      v Bermuda       Port of Spain  19 Mar 2007  ODI # 2542  \n",
       "182     v Pakistan             Karachi  26 Jun 2008  ODI # 2717  \n",
       "192    v Sri Lanka       Colombo (RPS)   3 Feb 2009  ODI # 2813  \n",
       "198  v New Zealand            Hamilton  11 Mar 2009  ODI # 2824  \n",
       "206    v Sri Lanka              Rajkot  15 Dec 2009  ODI # 2932  \n",
       "220  v New Zealand            Dambulla  25 Aug 2010  ODI # 3039  \n",
       "222   v Bangladesh              Mirpur  19 Feb 2011  ODI # 3100  \n",
       "233  v West Indies              Indore   8 Dec 2011  ODI # 3223  "
      ]
     },
     "execution_count": 13,
     "metadata": {},
     "output_type": "execute_result"
    }
   ],
   "source": [
    "sehwag_outliers = sehwag.loc[sehwag['Runs'] > supper]\n",
    "sehwag_outliers"
   ]
  },
  {
   "cell_type": "markdown",
   "id": "e2d4ea5d-158e-43ee-9bdd-92d5763daad9",
   "metadata": {},
   "source": [
    "## Percentage of Outliers"
   ]
  },
  {
   "cell_type": "code",
   "execution_count": 14,
   "id": "b4216eb5-da56-46d6-abda-e7556b4583aa",
   "metadata": {},
   "outputs": [
    {
     "data": {
      "text/plain": [
       "5.714285714285714"
      ]
     },
     "execution_count": 14,
     "metadata": {},
     "output_type": "execute_result"
    }
   ],
   "source": [
    "spercentage_outliers = (sehwag_outliers['Runs'].count() / sehwag['Runs'].count()) * 100\n",
    "spercentage_outliers"
   ]
  },
  {
   "cell_type": "markdown",
   "id": "ef94ed49-4d9b-481a-82c5-85552e4078bf",
   "metadata": {},
   "source": [
    "## So, Sehwag was outplayed over 6% of the times"
   ]
  },
  {
   "cell_type": "markdown",
   "id": "8f53db95-6880-45d4-9205-8ab0476aa4c8",
   "metadata": {},
   "source": [
    "# Analysis of Dravid data"
   ]
  },
  {
   "cell_type": "code",
   "execution_count": 15,
   "id": "78e64908-6830-460a-a76b-280bb886b5ff",
   "metadata": {},
   "outputs": [
    {
     "data": {
      "text/plain": [
       "count    318.000000\n",
       "mean      34.242138\n",
       "std       29.681822\n",
       "min        0.000000\n",
       "25%       10.000000\n",
       "50%       26.000000\n",
       "75%       54.000000\n",
       "max      153.000000\n",
       "Name: Runs, dtype: float64"
      ]
     },
     "execution_count": 15,
     "metadata": {},
     "output_type": "execute_result"
    }
   ],
   "source": [
    "dravid['Runs'].describe()"
   ]
  },
  {
   "cell_type": "code",
   "execution_count": 16,
   "id": "7f0a41ad-0a51-479f-b778-4a30963f6495",
   "metadata": {},
   "outputs": [
    {
     "name": "stdout",
     "output_type": "stream",
     "text": [
      "10.0\n",
      "26.0\n",
      "54.0\n",
      "153.0\n"
     ]
    }
   ],
   "source": [
    "dp25 = np.percentile(dravid['Runs'],25)\n",
    "print(dp25)\n",
    "dp50 = np.percentile(dravid['Runs'],50)\n",
    "print(dp50)\n",
    "dp75 = np.percentile(dravid['Runs'],75)\n",
    "print(dp75)\n",
    "dp100 = np.percentile(dravid['Runs'],100)\n",
    "print(dp100)"
   ]
  },
  {
   "cell_type": "code",
   "execution_count": 17,
   "id": "4f305ed1-336b-4bdf-a4bb-7dfdac326976",
   "metadata": {},
   "outputs": [
    {
     "data": {
      "text/plain": [
       "44.0"
      ]
     },
     "execution_count": 17,
     "metadata": {},
     "output_type": "execute_result"
    }
   ],
   "source": [
    "diqr = dp75 - dp25\n",
    "diqr"
   ]
  },
  {
   "cell_type": "code",
   "execution_count": 18,
   "id": "77d45e23-2b6c-4995-b0f6-8ce1d2868c7d",
   "metadata": {},
   "outputs": [
    {
     "name": "stderr",
     "output_type": "stream",
     "text": [
      "C:\\Data\\Data_science\\env\\Lib\\site-packages\\seaborn\\categorical.py:640: FutureWarning: SeriesGroupBy.grouper is deprecated and will be removed in a future version of pandas.\n",
      "  positions = grouped.grouper.result_index.to_numpy(dtype=float)\n"
     ]
    },
    {
     "data": {
      "text/plain": [
       "<Axes: xlabel='Runs'>"
      ]
     },
     "execution_count": 18,
     "metadata": {},
     "output_type": "execute_result"
    },
    {
     "data": {
      "image/png": "[encoded data removed]",
      "text/plain": [
       "<Figure size 640x480 with 1 Axes>"
      ]
     },
     "metadata": {},
     "output_type": "display_data"
    }
   ],
   "source": [
    "sns.boxplot(data=dravid['Runs'],orient='h')"
   ]
  },
  {
   "cell_type": "code",
   "execution_count": 19,
   "id": "22d73ceb-d636-4dfd-98df-556b0c766cd9",
   "metadata": {},
   "outputs": [
    {
     "data": {
      "text/plain": [
       "120.0"
      ]
     },
     "execution_count": 19,
     "metadata": {},
     "output_type": "execute_result"
    }
   ],
   "source": [
    "dupper = dp75 + 1.5*diqr\n",
    "dupper"
   ]
  },
  {
   "cell_type": "code",
   "execution_count": 20,
   "id": "37032043-faa6-463f-8b9a-6b93a1e28279",
   "metadata": {},
   "outputs": [
    {
     "data": {
      "text/plain": [
       "76.0"
      ]
     },
     "execution_count": 20,
     "metadata": {},
     "output_type": "execute_result"
    }
   ],
   "source": [
    "dlower = dp25 + 1.5*diqr\n",
    "dlower"
   ]
  },
  {
   "cell_type": "code",
   "execution_count": 21,
   "id": "c099bb1c-293c-4f3e-986c-2efe5a9851b7",
   "metadata": {},
   "outputs": [
    {
     "data": {
      "text/html": [
       "<div>\n",
       "<style scoped>\n",
       "    .dataframe tbody tr th:only-of-type {\n",
       "        vertical-align: middle;\n",
       "    }\n",
       "\n",
       "    .dataframe tbody tr th {\n",
       "        vertical-align: top;\n",
       "    }\n",
       "\n",
       "    .dataframe thead th {\n",
       "        text-align: right;\n",
       "    }\n",
       "</style>\n",
       "<table border=\"1\" class=\"dataframe\">\n",
       "  <thead>\n",
       "    <tr style=\"text-align: right;\">\n",
       "      <th></th>\n",
       "      <th>Runs</th>\n",
       "      <th>Mins</th>\n",
       "      <th>BF</th>\n",
       "      <th>4s</th>\n",
       "      <th>6s</th>\n",
       "      <th>SR</th>\n",
       "      <th>Pos</th>\n",
       "      <th>Dismissal</th>\n",
       "      <th>Inns</th>\n",
       "      <th>Unnamed: 9</th>\n",
       "      <th>Opposition</th>\n",
       "      <th>Ground</th>\n",
       "      <th>Start Date</th>\n",
       "      <th>Unnamed: 13</th>\n",
       "    </tr>\n",
       "  </thead>\n",
       "  <tbody>\n",
       "    <tr>\n",
       "      <th>58</th>\n",
       "      <td>123</td>\n",
       "      <td>201</td>\n",
       "      <td>123</td>\n",
       "      <td>10</td>\n",
       "      <td>1</td>\n",
       "      <td>100.0</td>\n",
       "      <td>3</td>\n",
       "      <td>not out</td>\n",
       "      <td>1</td>\n",
       "      <td>NaN</td>\n",
       "      <td>v New Zealand</td>\n",
       "      <td>Taupo</td>\n",
       "      <td>9 Jan 1999</td>\n",
       "      <td>ODI # 1378</td>\n",
       "    </tr>\n",
       "    <tr>\n",
       "      <th>76</th>\n",
       "      <td>145</td>\n",
       "      <td>179</td>\n",
       "      <td>129</td>\n",
       "      <td>17</td>\n",
       "      <td>1</td>\n",
       "      <td>112.4</td>\n",
       "      <td>3</td>\n",
       "      <td>run out</td>\n",
       "      <td>1</td>\n",
       "      <td>NaN</td>\n",
       "      <td>v Sri Lanka</td>\n",
       "      <td>Taunton</td>\n",
       "      <td>26 May 1999</td>\n",
       "      <td>ODI # 1463</td>\n",
       "    </tr>\n",
       "    <tr>\n",
       "      <th>97</th>\n",
       "      <td>153</td>\n",
       "      <td>196</td>\n",
       "      <td>153</td>\n",
       "      <td>15</td>\n",
       "      <td>2</td>\n",
       "      <td>100.0</td>\n",
       "      <td>3</td>\n",
       "      <td>caught</td>\n",
       "      <td>1</td>\n",
       "      <td>NaN</td>\n",
       "      <td>v New Zealand</td>\n",
       "      <td>Hyderabad (Deccan)</td>\n",
       "      <td>8 Nov 1999</td>\n",
       "      <td>ODI # 1523</td>\n",
       "    </tr>\n",
       "  </tbody>\n",
       "</table>\n",
       "</div>"
      ],
      "text/plain": [
       "    Runs Mins   BF  4s  6s     SR  Pos Dismissal  Inns  Unnamed: 9  \\\n",
       "58   123  201  123  10   1  100.0    3   not out     1         NaN   \n",
       "76   145  179  129  17   1  112.4    3   run out     1         NaN   \n",
       "97   153  196  153  15   2  100.0    3    caught     1         NaN   \n",
       "\n",
       "       Opposition              Ground   Start Date Unnamed: 13  \n",
       "58  v New Zealand               Taupo   9 Jan 1999  ODI # 1378  \n",
       "76    v Sri Lanka             Taunton  26 May 1999  ODI # 1463  \n",
       "97  v New Zealand  Hyderabad (Deccan)   8 Nov 1999  ODI # 1523  "
      ]
     },
     "execution_count": 21,
     "metadata": {},
     "output_type": "execute_result"
    }
   ],
   "source": [
    "dravid_outliers = dravid.loc[dravid['Runs'] > dupper]\n",
    "dravid_outliers"
   ]
  },
  {
   "cell_type": "code",
   "execution_count": 22,
   "id": "52e3e6ae-7b97-4c2a-b535-8f4dc588e57a",
   "metadata": {},
   "outputs": [
    {
     "data": {
      "text/plain": [
       "0.9433962264150944"
      ]
     },
     "execution_count": 22,
     "metadata": {},
     "output_type": "execute_result"
    }
   ],
   "source": [
    "dpercentage_outliers = dravid_outliers['Runs'].count() / dravid['Runs'].count()\n",
    "dpercentage_outliers*100"
   ]
  },
  {
   "cell_type": "markdown",
   "id": "b0a5a6fc-e32d-48d2-a4a2-6a516a2a9179",
   "metadata": {},
   "source": [
    "# So, dravid was outplayed 1% of the times"
   ]
  },
  {
   "cell_type": "code",
   "execution_count": 23,
   "id": "ed7551fa-5d82-47e6-b309-21b8ea1163d1",
   "metadata": {},
   "outputs": [
    {
     "data": {
      "text/plain": [
       "8273"
      ]
     },
     "execution_count": 23,
     "metadata": {},
     "output_type": "execute_result"
    }
   ],
   "source": [
    "sehwag['Runs'].sum()"
   ]
  },
  {
   "cell_type": "code",
   "execution_count": 24,
   "id": "fde1b978-8e55-49b4-98bf-34aa412a47e7",
   "metadata": {},
   "outputs": [
    {
     "data": {
      "text/plain": [
       "10889"
      ]
     },
     "execution_count": 24,
     "metadata": {},
     "output_type": "execute_result"
    }
   ],
   "source": [
    "dravid['Runs'].sum()"
   ]
  },
  {
   "cell_type": "markdown",
   "id": "933ce6a9-a482-4d49-909a-0ef4cb1e56be",
   "metadata": {},
   "source": [
    "# So, dravid is more consistent that sehwag"
   ]
  }
 ],
 "metadata": {
  "kernelspec": {
   "display_name": "Python 3 (ipykernel)",
   "language": "python",
   "name": "python3"
  },
  "language_info": {
   "codemirror_mode": {
    "name": "ipython",
    "version": 3
   },
   "file_extension": ".py",
   "mimetype": "text/x-python",
   "name": "python",
   "nbconvert_exporter": "python",
   "pygments_lexer": "ipython3",
   "version": "3.12.1"
  }
 },
 "nbformat": 4,
 "nbformat_minor": 5
}
