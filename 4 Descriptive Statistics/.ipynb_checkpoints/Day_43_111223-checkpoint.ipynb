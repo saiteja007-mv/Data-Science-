{
 "cells": [
  {
   "cell_type": "markdown",
   "id": "f0713f4f-14d9-412a-a5ce-ef19b33aca29",
   "metadata": {},
   "source": [
    "# Probability"
   ]
  },
  {
   "cell_type": "markdown",
   "id": "99958ca4-6244-477a-9885-0cfb480136d0",
   "metadata": {},
   "source": [
    "How likey an even is to happen"
   ]
  },
  {
   "cell_type": "markdown",
   "id": "e467333b-3a29-4d3e-b970-cbc9efe65fa8",
   "metadata": {},
   "source": [
    "# Sample Set / Space"
   ]
  },
  {
   "cell_type": "markdown",
   "id": "1879d2d0-b804-4591-a35a-865e3e99942e",
   "metadata": {},
   "source": [
    "Collection or set of all possible outcomes"
   ]
  },
  {
   "cell_type": "markdown",
   "id": "bbe0d236-1244-4012-bd50-f8c8e6b7ae32",
   "metadata": {},
   "source": [
    "# Mutually Exclusive Sets"
   ]
  },
  {
   "cell_type": "markdown",
   "id": "03deb1a7-7c10-481a-b0dd-31d9c6802ee5",
   "metadata": {},
   "source": [
    "There are no intersection between two sets. Then those two sets are called mutually exclusive sets"
   ]
  },
  {
   "cell_type": "markdown",
   "id": "08755a6a-0b26-48bc-8b47-e731f99d8318",
   "metadata": {},
   "source": [
    "# Conditional Probability"
   ]
  },
  {
   "cell_type": "markdown",
   "id": "9457f6f5-ea4a-4d19-9584-607ea87cff2b",
   "metadata": {},
   "source": [
    "Measure of the likelihood that one event will happen, given that another event has already occurred"
   ]
  },
  {
   "cell_type": "code",
   "execution_count": null,
   "id": "1cd3b175-6538-4792-ae34-0cb0f0ff521c",
   "metadata": {},
   "outputs": [],
   "source": []
  }
 ],
 "metadata": {
  "kernelspec": {
   "display_name": "Python 3 (ipykernel)",
   "language": "python",
   "name": "python3"
  },
  "language_info": {
   "codemirror_mode": {
    "name": "ipython",
    "version": 3
   },
   "file_extension": ".py",
   "mimetype": "text/x-python",
   "name": "python",
   "nbconvert_exporter": "python",
   "pygments_lexer": "ipython3",
   "version": "3.12.1"
  }
 },
 "nbformat": 4,
 "nbformat_minor": 5
}
