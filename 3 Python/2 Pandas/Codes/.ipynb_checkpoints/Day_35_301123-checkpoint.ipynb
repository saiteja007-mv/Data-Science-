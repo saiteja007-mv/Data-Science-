{
 "cells": [
  {
   "cell_type": "code",
   "execution_count": 131,
   "id": "b5800837-7b7f-48e8-a5d0-5b9fb6e6fa67",
   "metadata": {},
   "outputs": [],
   "source": [
    "import pandas as pd"
   ]
  },
  {
   "cell_type": "code",
   "execution_count": 132,
   "id": "3dbd62d9-629d-4658-9db2-b1a68e0577a5",
   "metadata": {},
   "outputs": [],
   "source": [
    "df = pd.read_csv(\"mckinsey (1).csv\")"
   ]
  },
  {
   "cell_type": "code",
   "execution_count": 133,
   "id": "26d689ff-40b5-419f-b702-595f15d672c4",
   "metadata": {},
   "outputs": [
    {
     "data": {
      "text/html": [
       "<div>\n",
       "<style scoped>\n",
       "    .dataframe tbody tr th:only-of-type {\n",
       "        vertical-align: middle;\n",
       "    }\n",
       "\n",
       "    .dataframe tbody tr th {\n",
       "        vertical-align: top;\n",
       "    }\n",
       "\n",
       "    .dataframe thead th {\n",
       "        text-align: right;\n",
       "    }\n",
       "</style>\n",
       "<table border=\"1\" class=\"dataframe\">\n",
       "  <thead>\n",
       "    <tr style=\"text-align: right;\">\n",
       "      <th></th>\n",
       "      <th>country</th>\n",
       "      <th>year</th>\n",
       "      <th>population</th>\n",
       "      <th>continent</th>\n",
       "      <th>life_exp</th>\n",
       "      <th>gdp_cap</th>\n",
       "    </tr>\n",
       "  </thead>\n",
       "  <tbody>\n",
       "    <tr>\n",
       "      <th>0</th>\n",
       "      <td>Afghanistan</td>\n",
       "      <td>1952</td>\n",
       "      <td>8425333</td>\n",
       "      <td>Asia</td>\n",
       "      <td>28.801</td>\n",
       "      <td>779.445314</td>\n",
       "    </tr>\n",
       "    <tr>\n",
       "      <th>1</th>\n",
       "      <td>Afghanistan</td>\n",
       "      <td>1957</td>\n",
       "      <td>9240934</td>\n",
       "      <td>Asia</td>\n",
       "      <td>30.332</td>\n",
       "      <td>820.853030</td>\n",
       "    </tr>\n",
       "    <tr>\n",
       "      <th>2</th>\n",
       "      <td>Afghanistan</td>\n",
       "      <td>1962</td>\n",
       "      <td>10267083</td>\n",
       "      <td>Asia</td>\n",
       "      <td>31.997</td>\n",
       "      <td>853.100710</td>\n",
       "    </tr>\n",
       "    <tr>\n",
       "      <th>3</th>\n",
       "      <td>Afghanistan</td>\n",
       "      <td>1967</td>\n",
       "      <td>11537966</td>\n",
       "      <td>Asia</td>\n",
       "      <td>34.020</td>\n",
       "      <td>836.197138</td>\n",
       "    </tr>\n",
       "    <tr>\n",
       "      <th>4</th>\n",
       "      <td>Afghanistan</td>\n",
       "      <td>1972</td>\n",
       "      <td>13079460</td>\n",
       "      <td>Asia</td>\n",
       "      <td>36.088</td>\n",
       "      <td>739.981106</td>\n",
       "    </tr>\n",
       "  </tbody>\n",
       "</table>\n",
       "</div>"
      ],
      "text/plain": [
       "       country  year  population continent  life_exp     gdp_cap\n",
       "0  Afghanistan  1952     8425333      Asia    28.801  779.445314\n",
       "1  Afghanistan  1957     9240934      Asia    30.332  820.853030\n",
       "2  Afghanistan  1962    10267083      Asia    31.997  853.100710\n",
       "3  Afghanistan  1967    11537966      Asia    34.020  836.197138\n",
       "4  Afghanistan  1972    13079460      Asia    36.088  739.981106"
      ]
     },
     "execution_count": 133,
     "metadata": {},
     "output_type": "execute_result"
    }
   ],
   "source": [
    "df.head()"
   ]
  },
  {
   "cell_type": "code",
   "execution_count": 134,
   "id": "be80c510-4e0c-41cd-8447-925b56509cd2",
   "metadata": {},
   "outputs": [
    {
     "data": {
      "text/plain": [
       "(1704, 6)"
      ]
     },
     "execution_count": 134,
     "metadata": {},
     "output_type": "execute_result"
    }
   ],
   "source": [
    "df.shape"
   ]
  },
  {
   "cell_type": "markdown",
   "id": "287d162d-be6c-484f-abc2-5d35bb401ef8",
   "metadata": {},
   "source": [
    "# Adding duplicates"
   ]
  },
  {
   "cell_type": "code",
   "execution_count": 135,
   "id": "ed97587b-b1ca-487b-9266-7bde89ba2dfc",
   "metadata": {},
   "outputs": [],
   "source": [
    "df.loc[1704] = ['India',1933,89778854,'Asia',86.23,897.956]\n",
    "df.loc[1705] = ['India',1933,89778854,'Asia',86.23,897.956]\n",
    "df.loc[1706] = ['India',1933,89778854,'Asia',86.23,897.956]\n",
    "df.loc[1707] = ['India',1933,89778854,'Asia',86.23,897.956]\n",
    "df.loc[1708] = ['India',1933,89778854,'Asia',86.23,897.956]\n",
    "df.loc[1709] = ['India',1933,89778854,'Asia',86.23,897.956]\n",
    "df.loc[1710] = ['India',1933,89778854,'Asia',86.23,897.956]"
   ]
  },
  {
   "cell_type": "code",
   "execution_count": 136,
   "id": "ca95a65c-e300-4d8a-acf7-2567c4fcd7c3",
   "metadata": {},
   "outputs": [
    {
     "data": {
      "text/html": [
       "<div>\n",
       "<style scoped>\n",
       "    .dataframe tbody tr th:only-of-type {\n",
       "        vertical-align: middle;\n",
       "    }\n",
       "\n",
       "    .dataframe tbody tr th {\n",
       "        vertical-align: top;\n",
       "    }\n",
       "\n",
       "    .dataframe thead th {\n",
       "        text-align: right;\n",
       "    }\n",
       "</style>\n",
       "<table border=\"1\" class=\"dataframe\">\n",
       "  <thead>\n",
       "    <tr style=\"text-align: right;\">\n",
       "      <th></th>\n",
       "      <th>country</th>\n",
       "      <th>year</th>\n",
       "      <th>population</th>\n",
       "      <th>continent</th>\n",
       "      <th>life_exp</th>\n",
       "      <th>gdp_cap</th>\n",
       "    </tr>\n",
       "  </thead>\n",
       "  <tbody>\n",
       "    <tr>\n",
       "      <th>1706</th>\n",
       "      <td>India</td>\n",
       "      <td>1933</td>\n",
       "      <td>89778854</td>\n",
       "      <td>Asia</td>\n",
       "      <td>86.23</td>\n",
       "      <td>897.956</td>\n",
       "    </tr>\n",
       "    <tr>\n",
       "      <th>1707</th>\n",
       "      <td>India</td>\n",
       "      <td>1933</td>\n",
       "      <td>89778854</td>\n",
       "      <td>Asia</td>\n",
       "      <td>86.23</td>\n",
       "      <td>897.956</td>\n",
       "    </tr>\n",
       "    <tr>\n",
       "      <th>1708</th>\n",
       "      <td>India</td>\n",
       "      <td>1933</td>\n",
       "      <td>89778854</td>\n",
       "      <td>Asia</td>\n",
       "      <td>86.23</td>\n",
       "      <td>897.956</td>\n",
       "    </tr>\n",
       "    <tr>\n",
       "      <th>1709</th>\n",
       "      <td>India</td>\n",
       "      <td>1933</td>\n",
       "      <td>89778854</td>\n",
       "      <td>Asia</td>\n",
       "      <td>86.23</td>\n",
       "      <td>897.956</td>\n",
       "    </tr>\n",
       "    <tr>\n",
       "      <th>1710</th>\n",
       "      <td>India</td>\n",
       "      <td>1933</td>\n",
       "      <td>89778854</td>\n",
       "      <td>Asia</td>\n",
       "      <td>86.23</td>\n",
       "      <td>897.956</td>\n",
       "    </tr>\n",
       "  </tbody>\n",
       "</table>\n",
       "</div>"
      ],
      "text/plain": [
       "     country  year  population continent  life_exp  gdp_cap\n",
       "1706   India  1933    89778854      Asia     86.23  897.956\n",
       "1707   India  1933    89778854      Asia     86.23  897.956\n",
       "1708   India  1933    89778854      Asia     86.23  897.956\n",
       "1709   India  1933    89778854      Asia     86.23  897.956\n",
       "1710   India  1933    89778854      Asia     86.23  897.956"
      ]
     },
     "execution_count": 136,
     "metadata": {},
     "output_type": "execute_result"
    }
   ],
   "source": [
    "df.tail()"
   ]
  },
  {
   "cell_type": "code",
   "execution_count": 137,
   "id": "54f6a3c2-31b7-430e-b38c-8101b26bd3ad",
   "metadata": {},
   "outputs": [
    {
     "data": {
      "text/plain": [
       "0       False\n",
       "1       False\n",
       "2       False\n",
       "3       False\n",
       "4       False\n",
       "        ...  \n",
       "1706     True\n",
       "1707     True\n",
       "1708     True\n",
       "1709     True\n",
       "1710     True\n",
       "Length: 1711, dtype: bool"
      ]
     },
     "execution_count": 137,
     "metadata": {},
     "output_type": "execute_result"
    }
   ],
   "source": [
    "df.duplicated()"
   ]
  },
  {
   "cell_type": "code",
   "execution_count": 138,
   "id": "2f7e8bb6-08ab-4151-b392-e53be995a03d",
   "metadata": {},
   "outputs": [
    {
     "data": {
      "text/html": [
       "<div>\n",
       "<style scoped>\n",
       "    .dataframe tbody tr th:only-of-type {\n",
       "        vertical-align: middle;\n",
       "    }\n",
       "\n",
       "    .dataframe tbody tr th {\n",
       "        vertical-align: top;\n",
       "    }\n",
       "\n",
       "    .dataframe thead th {\n",
       "        text-align: right;\n",
       "    }\n",
       "</style>\n",
       "<table border=\"1\" class=\"dataframe\">\n",
       "  <thead>\n",
       "    <tr style=\"text-align: right;\">\n",
       "      <th></th>\n",
       "      <th>country</th>\n",
       "      <th>year</th>\n",
       "      <th>population</th>\n",
       "      <th>continent</th>\n",
       "      <th>life_exp</th>\n",
       "      <th>gdp_cap</th>\n",
       "    </tr>\n",
       "  </thead>\n",
       "  <tbody>\n",
       "    <tr>\n",
       "      <th>1705</th>\n",
       "      <td>India</td>\n",
       "      <td>1933</td>\n",
       "      <td>89778854</td>\n",
       "      <td>Asia</td>\n",
       "      <td>86.23</td>\n",
       "      <td>897.956</td>\n",
       "    </tr>\n",
       "    <tr>\n",
       "      <th>1706</th>\n",
       "      <td>India</td>\n",
       "      <td>1933</td>\n",
       "      <td>89778854</td>\n",
       "      <td>Asia</td>\n",
       "      <td>86.23</td>\n",
       "      <td>897.956</td>\n",
       "    </tr>\n",
       "    <tr>\n",
       "      <th>1707</th>\n",
       "      <td>India</td>\n",
       "      <td>1933</td>\n",
       "      <td>89778854</td>\n",
       "      <td>Asia</td>\n",
       "      <td>86.23</td>\n",
       "      <td>897.956</td>\n",
       "    </tr>\n",
       "    <tr>\n",
       "      <th>1708</th>\n",
       "      <td>India</td>\n",
       "      <td>1933</td>\n",
       "      <td>89778854</td>\n",
       "      <td>Asia</td>\n",
       "      <td>86.23</td>\n",
       "      <td>897.956</td>\n",
       "    </tr>\n",
       "    <tr>\n",
       "      <th>1709</th>\n",
       "      <td>India</td>\n",
       "      <td>1933</td>\n",
       "      <td>89778854</td>\n",
       "      <td>Asia</td>\n",
       "      <td>86.23</td>\n",
       "      <td>897.956</td>\n",
       "    </tr>\n",
       "    <tr>\n",
       "      <th>1710</th>\n",
       "      <td>India</td>\n",
       "      <td>1933</td>\n",
       "      <td>89778854</td>\n",
       "      <td>Asia</td>\n",
       "      <td>86.23</td>\n",
       "      <td>897.956</td>\n",
       "    </tr>\n",
       "  </tbody>\n",
       "</table>\n",
       "</div>"
      ],
      "text/plain": [
       "     country  year  population continent  life_exp  gdp_cap\n",
       "1705   India  1933    89778854      Asia     86.23  897.956\n",
       "1706   India  1933    89778854      Asia     86.23  897.956\n",
       "1707   India  1933    89778854      Asia     86.23  897.956\n",
       "1708   India  1933    89778854      Asia     86.23  897.956\n",
       "1709   India  1933    89778854      Asia     86.23  897.956\n",
       "1710   India  1933    89778854      Asia     86.23  897.956"
      ]
     },
     "execution_count": 138,
     "metadata": {},
     "output_type": "execute_result"
    }
   ],
   "source": [
    "df.loc[df.duplicated()]"
   ]
  },
  {
   "cell_type": "markdown",
   "id": "86049b3d-c6e5-4890-aabc-3beec8fff5bf",
   "metadata": {},
   "source": [
    "# Removing duplicated"
   ]
  },
  {
   "cell_type": "markdown",
   "id": "de2462f3-af86-4cbf-a872-92a4235ccfc8",
   "metadata": {},
   "source": [
    "# Drop duplicated and keep last one"
   ]
  },
  {
   "cell_type": "code",
   "execution_count": 139,
   "id": "1d66b7bf-8829-4ef0-b4bc-fe46ddac5102",
   "metadata": {},
   "outputs": [
    {
     "data": {
      "text/html": [
       "<div>\n",
       "<style scoped>\n",
       "    .dataframe tbody tr th:only-of-type {\n",
       "        vertical-align: middle;\n",
       "    }\n",
       "\n",
       "    .dataframe tbody tr th {\n",
       "        vertical-align: top;\n",
       "    }\n",
       "\n",
       "    .dataframe thead th {\n",
       "        text-align: right;\n",
       "    }\n",
       "</style>\n",
       "<table border=\"1\" class=\"dataframe\">\n",
       "  <thead>\n",
       "    <tr style=\"text-align: right;\">\n",
       "      <th></th>\n",
       "      <th>country</th>\n",
       "      <th>year</th>\n",
       "      <th>population</th>\n",
       "      <th>continent</th>\n",
       "      <th>life_exp</th>\n",
       "      <th>gdp_cap</th>\n",
       "    </tr>\n",
       "  </thead>\n",
       "  <tbody>\n",
       "    <tr>\n",
       "      <th>0</th>\n",
       "      <td>Afghanistan</td>\n",
       "      <td>1952</td>\n",
       "      <td>8425333</td>\n",
       "      <td>Asia</td>\n",
       "      <td>28.801</td>\n",
       "      <td>779.445314</td>\n",
       "    </tr>\n",
       "    <tr>\n",
       "      <th>1</th>\n",
       "      <td>Afghanistan</td>\n",
       "      <td>1957</td>\n",
       "      <td>9240934</td>\n",
       "      <td>Asia</td>\n",
       "      <td>30.332</td>\n",
       "      <td>820.853030</td>\n",
       "    </tr>\n",
       "    <tr>\n",
       "      <th>2</th>\n",
       "      <td>Afghanistan</td>\n",
       "      <td>1962</td>\n",
       "      <td>10267083</td>\n",
       "      <td>Asia</td>\n",
       "      <td>31.997</td>\n",
       "      <td>853.100710</td>\n",
       "    </tr>\n",
       "    <tr>\n",
       "      <th>3</th>\n",
       "      <td>Afghanistan</td>\n",
       "      <td>1967</td>\n",
       "      <td>11537966</td>\n",
       "      <td>Asia</td>\n",
       "      <td>34.020</td>\n",
       "      <td>836.197138</td>\n",
       "    </tr>\n",
       "    <tr>\n",
       "      <th>4</th>\n",
       "      <td>Afghanistan</td>\n",
       "      <td>1972</td>\n",
       "      <td>13079460</td>\n",
       "      <td>Asia</td>\n",
       "      <td>36.088</td>\n",
       "      <td>739.981106</td>\n",
       "    </tr>\n",
       "    <tr>\n",
       "      <th>...</th>\n",
       "      <td>...</td>\n",
       "      <td>...</td>\n",
       "      <td>...</td>\n",
       "      <td>...</td>\n",
       "      <td>...</td>\n",
       "      <td>...</td>\n",
       "    </tr>\n",
       "    <tr>\n",
       "      <th>1700</th>\n",
       "      <td>Zimbabwe</td>\n",
       "      <td>1992</td>\n",
       "      <td>10704340</td>\n",
       "      <td>Africa</td>\n",
       "      <td>60.377</td>\n",
       "      <td>693.420786</td>\n",
       "    </tr>\n",
       "    <tr>\n",
       "      <th>1701</th>\n",
       "      <td>Zimbabwe</td>\n",
       "      <td>1997</td>\n",
       "      <td>11404948</td>\n",
       "      <td>Africa</td>\n",
       "      <td>46.809</td>\n",
       "      <td>792.449960</td>\n",
       "    </tr>\n",
       "    <tr>\n",
       "      <th>1702</th>\n",
       "      <td>Zimbabwe</td>\n",
       "      <td>2002</td>\n",
       "      <td>11926563</td>\n",
       "      <td>Africa</td>\n",
       "      <td>39.989</td>\n",
       "      <td>672.038623</td>\n",
       "    </tr>\n",
       "    <tr>\n",
       "      <th>1703</th>\n",
       "      <td>Zimbabwe</td>\n",
       "      <td>2007</td>\n",
       "      <td>12311143</td>\n",
       "      <td>Africa</td>\n",
       "      <td>43.487</td>\n",
       "      <td>469.709298</td>\n",
       "    </tr>\n",
       "    <tr>\n",
       "      <th>1710</th>\n",
       "      <td>India</td>\n",
       "      <td>1933</td>\n",
       "      <td>89778854</td>\n",
       "      <td>Asia</td>\n",
       "      <td>86.230</td>\n",
       "      <td>897.956000</td>\n",
       "    </tr>\n",
       "  </tbody>\n",
       "</table>\n",
       "<p>1705 rows × 6 columns</p>\n",
       "</div>"
      ],
      "text/plain": [
       "          country  year  population continent  life_exp     gdp_cap\n",
       "0     Afghanistan  1952     8425333      Asia    28.801  779.445314\n",
       "1     Afghanistan  1957     9240934      Asia    30.332  820.853030\n",
       "2     Afghanistan  1962    10267083      Asia    31.997  853.100710\n",
       "3     Afghanistan  1967    11537966      Asia    34.020  836.197138\n",
       "4     Afghanistan  1972    13079460      Asia    36.088  739.981106\n",
       "...           ...   ...         ...       ...       ...         ...\n",
       "1700     Zimbabwe  1992    10704340    Africa    60.377  693.420786\n",
       "1701     Zimbabwe  1997    11404948    Africa    46.809  792.449960\n",
       "1702     Zimbabwe  2002    11926563    Africa    39.989  672.038623\n",
       "1703     Zimbabwe  2007    12311143    Africa    43.487  469.709298\n",
       "1710        India  1933    89778854      Asia    86.230  897.956000\n",
       "\n",
       "[1705 rows x 6 columns]"
      ]
     },
     "execution_count": 139,
     "metadata": {},
     "output_type": "execute_result"
    }
   ],
   "source": [
    "df.drop_duplicates(keep='last')"
   ]
  },
  {
   "cell_type": "markdown",
   "id": "7172b810-6771-43a2-aa4e-d479c56e20df",
   "metadata": {},
   "source": [
    "# Drop everything which are duplicated "
   ]
  },
  {
   "cell_type": "code",
   "execution_count": 140,
   "id": "7d951a28-b4e8-4be5-81f7-1c425491e67c",
   "metadata": {},
   "outputs": [],
   "source": [
    "df.drop_duplicates(keep=False,inplace=True)"
   ]
  },
  {
   "cell_type": "markdown",
   "id": "b64addde-faec-41b0-9e2a-22aadd6705d9",
   "metadata": {},
   "source": [
    "# Working with columns and rows using Slicing"
   ]
  },
  {
   "cell_type": "code",
   "execution_count": 141,
   "id": "95c62670-8621-4633-a796-f1037b79310c",
   "metadata": {},
   "outputs": [
    {
     "data": {
      "text/html": [
       "<div>\n",
       "<style scoped>\n",
       "    .dataframe tbody tr th:only-of-type {\n",
       "        vertical-align: middle;\n",
       "    }\n",
       "\n",
       "    .dataframe tbody tr th {\n",
       "        vertical-align: top;\n",
       "    }\n",
       "\n",
       "    .dataframe thead th {\n",
       "        text-align: right;\n",
       "    }\n",
       "</style>\n",
       "<table border=\"1\" class=\"dataframe\">\n",
       "  <thead>\n",
       "    <tr style=\"text-align: right;\">\n",
       "      <th></th>\n",
       "      <th>country</th>\n",
       "      <th>year</th>\n",
       "      <th>population</th>\n",
       "    </tr>\n",
       "  </thead>\n",
       "  <tbody>\n",
       "    <tr>\n",
       "      <th>0</th>\n",
       "      <td>Afghanistan</td>\n",
       "      <td>1952</td>\n",
       "      <td>8425333</td>\n",
       "    </tr>\n",
       "    <tr>\n",
       "      <th>1</th>\n",
       "      <td>Afghanistan</td>\n",
       "      <td>1957</td>\n",
       "      <td>9240934</td>\n",
       "    </tr>\n",
       "    <tr>\n",
       "      <th>2</th>\n",
       "      <td>Afghanistan</td>\n",
       "      <td>1962</td>\n",
       "      <td>10267083</td>\n",
       "    </tr>\n",
       "    <tr>\n",
       "      <th>3</th>\n",
       "      <td>Afghanistan</td>\n",
       "      <td>1967</td>\n",
       "      <td>11537966</td>\n",
       "    </tr>\n",
       "  </tbody>\n",
       "</table>\n",
       "</div>"
      ],
      "text/plain": [
       "       country  year  population\n",
       "0  Afghanistan  1952     8425333\n",
       "1  Afghanistan  1957     9240934\n",
       "2  Afghanistan  1962    10267083\n",
       "3  Afghanistan  1967    11537966"
      ]
     },
     "execution_count": 141,
     "metadata": {},
     "output_type": "execute_result"
    }
   ],
   "source": [
    "df.iloc[:4,:3]"
   ]
  },
  {
   "cell_type": "code",
   "execution_count": 142,
   "id": "3d04bb0f-f8c5-4ead-8ad2-67191b65c255",
   "metadata": {},
   "outputs": [
    {
     "data": {
      "text/html": [
       "<div>\n",
       "<style scoped>\n",
       "    .dataframe tbody tr th:only-of-type {\n",
       "        vertical-align: middle;\n",
       "    }\n",
       "\n",
       "    .dataframe tbody tr th {\n",
       "        vertical-align: top;\n",
       "    }\n",
       "\n",
       "    .dataframe thead th {\n",
       "        text-align: right;\n",
       "    }\n",
       "</style>\n",
       "<table border=\"1\" class=\"dataframe\">\n",
       "  <thead>\n",
       "    <tr style=\"text-align: right;\">\n",
       "      <th></th>\n",
       "      <th>country</th>\n",
       "      <th>life_exp</th>\n",
       "    </tr>\n",
       "  </thead>\n",
       "  <tbody>\n",
       "    <tr>\n",
       "      <th>1</th>\n",
       "      <td>Afghanistan</td>\n",
       "      <td>30.332</td>\n",
       "    </tr>\n",
       "    <tr>\n",
       "      <th>2</th>\n",
       "      <td>Afghanistan</td>\n",
       "      <td>31.997</td>\n",
       "    </tr>\n",
       "    <tr>\n",
       "      <th>3</th>\n",
       "      <td>Afghanistan</td>\n",
       "      <td>34.020</td>\n",
       "    </tr>\n",
       "    <tr>\n",
       "      <th>4</th>\n",
       "      <td>Afghanistan</td>\n",
       "      <td>36.088</td>\n",
       "    </tr>\n",
       "    <tr>\n",
       "      <th>5</th>\n",
       "      <td>Afghanistan</td>\n",
       "      <td>38.438</td>\n",
       "    </tr>\n",
       "  </tbody>\n",
       "</table>\n",
       "</div>"
      ],
      "text/plain": [
       "       country  life_exp\n",
       "1  Afghanistan    30.332\n",
       "2  Afghanistan    31.997\n",
       "3  Afghanistan    34.020\n",
       "4  Afghanistan    36.088\n",
       "5  Afghanistan    38.438"
      ]
     },
     "execution_count": 142,
     "metadata": {},
     "output_type": "execute_result"
    }
   ],
   "source": [
    "df.loc[1:5,['country','life_exp']]"
   ]
  },
  {
   "cell_type": "code",
   "execution_count": 143,
   "id": "3ecf754f-5fc8-4c6b-92eb-eeb3ba5c027e",
   "metadata": {},
   "outputs": [
    {
     "data": {
      "text/html": [
       "<div>\n",
       "<style scoped>\n",
       "    .dataframe tbody tr th:only-of-type {\n",
       "        vertical-align: middle;\n",
       "    }\n",
       "\n",
       "    .dataframe tbody tr th {\n",
       "        vertical-align: top;\n",
       "    }\n",
       "\n",
       "    .dataframe thead th {\n",
       "        text-align: right;\n",
       "    }\n",
       "</style>\n",
       "<table border=\"1\" class=\"dataframe\">\n",
       "  <thead>\n",
       "    <tr style=\"text-align: right;\">\n",
       "      <th></th>\n",
       "      <th>country</th>\n",
       "      <th>year</th>\n",
       "      <th>population</th>\n",
       "      <th>continent</th>\n",
       "      <th>life_exp</th>\n",
       "    </tr>\n",
       "  </thead>\n",
       "  <tbody>\n",
       "    <tr>\n",
       "      <th>1</th>\n",
       "      <td>Afghanistan</td>\n",
       "      <td>1957</td>\n",
       "      <td>9240934</td>\n",
       "      <td>Asia</td>\n",
       "      <td>30.332</td>\n",
       "    </tr>\n",
       "    <tr>\n",
       "      <th>2</th>\n",
       "      <td>Afghanistan</td>\n",
       "      <td>1962</td>\n",
       "      <td>10267083</td>\n",
       "      <td>Asia</td>\n",
       "      <td>31.997</td>\n",
       "    </tr>\n",
       "    <tr>\n",
       "      <th>3</th>\n",
       "      <td>Afghanistan</td>\n",
       "      <td>1967</td>\n",
       "      <td>11537966</td>\n",
       "      <td>Asia</td>\n",
       "      <td>34.020</td>\n",
       "    </tr>\n",
       "    <tr>\n",
       "      <th>4</th>\n",
       "      <td>Afghanistan</td>\n",
       "      <td>1972</td>\n",
       "      <td>13079460</td>\n",
       "      <td>Asia</td>\n",
       "      <td>36.088</td>\n",
       "    </tr>\n",
       "    <tr>\n",
       "      <th>5</th>\n",
       "      <td>Afghanistan</td>\n",
       "      <td>1977</td>\n",
       "      <td>14880372</td>\n",
       "      <td>Asia</td>\n",
       "      <td>38.438</td>\n",
       "    </tr>\n",
       "  </tbody>\n",
       "</table>\n",
       "</div>"
      ],
      "text/plain": [
       "       country  year  population continent  life_exp\n",
       "1  Afghanistan  1957     9240934      Asia    30.332\n",
       "2  Afghanistan  1962    10267083      Asia    31.997\n",
       "3  Afghanistan  1967    11537966      Asia    34.020\n",
       "4  Afghanistan  1972    13079460      Asia    36.088\n",
       "5  Afghanistan  1977    14880372      Asia    38.438"
      ]
     },
     "execution_count": 143,
     "metadata": {},
     "output_type": "execute_result"
    }
   ],
   "source": [
    "df.loc[1:5,'country':'life_exp']"
   ]
  },
  {
   "cell_type": "code",
   "execution_count": 144,
   "id": "dd41a19a-2fe0-4ef8-87f5-33b560389a5a",
   "metadata": {},
   "outputs": [
    {
     "data": {
      "text/html": [
       "<div>\n",
       "<style scoped>\n",
       "    .dataframe tbody tr th:only-of-type {\n",
       "        vertical-align: middle;\n",
       "    }\n",
       "\n",
       "    .dataframe tbody tr th {\n",
       "        vertical-align: top;\n",
       "    }\n",
       "\n",
       "    .dataframe thead th {\n",
       "        text-align: right;\n",
       "    }\n",
       "</style>\n",
       "<table border=\"1\" class=\"dataframe\">\n",
       "  <thead>\n",
       "    <tr style=\"text-align: right;\">\n",
       "      <th></th>\n",
       "      <th>population</th>\n",
       "      <th>life_exp</th>\n",
       "      <th>gdp_cap</th>\n",
       "    </tr>\n",
       "  </thead>\n",
       "  <tbody>\n",
       "    <tr>\n",
       "      <th>1</th>\n",
       "      <td>9240934</td>\n",
       "      <td>30.332</td>\n",
       "      <td>820.853030</td>\n",
       "    </tr>\n",
       "    <tr>\n",
       "      <th>3</th>\n",
       "      <td>11537966</td>\n",
       "      <td>34.020</td>\n",
       "      <td>836.197138</td>\n",
       "    </tr>\n",
       "    <tr>\n",
       "      <th>5</th>\n",
       "      <td>14880372</td>\n",
       "      <td>38.438</td>\n",
       "      <td>786.113360</td>\n",
       "    </tr>\n",
       "  </tbody>\n",
       "</table>\n",
       "</div>"
      ],
      "text/plain": [
       "   population  life_exp     gdp_cap\n",
       "1     9240934    30.332  820.853030\n",
       "3    11537966    34.020  836.197138\n",
       "5    14880372    38.438  786.113360"
      ]
     },
     "execution_count": 144,
     "metadata": {},
     "output_type": "execute_result"
    }
   ],
   "source": [
    "df.iloc[[1,3,5],[2,4,5]]"
   ]
  },
  {
   "cell_type": "code",
   "execution_count": 145,
   "id": "116472c8-9fdd-4195-b0a2-c244781fd16a",
   "metadata": {},
   "outputs": [
    {
     "data": {
      "text/html": [
       "<div>\n",
       "<style scoped>\n",
       "    .dataframe tbody tr th:only-of-type {\n",
       "        vertical-align: middle;\n",
       "    }\n",
       "\n",
       "    .dataframe tbody tr th {\n",
       "        vertical-align: top;\n",
       "    }\n",
       "\n",
       "    .dataframe thead th {\n",
       "        text-align: right;\n",
       "    }\n",
       "</style>\n",
       "<table border=\"1\" class=\"dataframe\">\n",
       "  <thead>\n",
       "    <tr style=\"text-align: right;\">\n",
       "      <th></th>\n",
       "      <th>country</th>\n",
       "      <th>population</th>\n",
       "      <th>life_exp</th>\n",
       "    </tr>\n",
       "  </thead>\n",
       "  <tbody>\n",
       "    <tr>\n",
       "      <th>1</th>\n",
       "      <td>Afghanistan</td>\n",
       "      <td>9240934</td>\n",
       "      <td>30.332</td>\n",
       "    </tr>\n",
       "    <tr>\n",
       "      <th>3</th>\n",
       "      <td>Afghanistan</td>\n",
       "      <td>11537966</td>\n",
       "      <td>34.020</td>\n",
       "    </tr>\n",
       "    <tr>\n",
       "      <th>5</th>\n",
       "      <td>Afghanistan</td>\n",
       "      <td>14880372</td>\n",
       "      <td>38.438</td>\n",
       "    </tr>\n",
       "    <tr>\n",
       "      <th>7</th>\n",
       "      <td>Afghanistan</td>\n",
       "      <td>13867957</td>\n",
       "      <td>40.822</td>\n",
       "    </tr>\n",
       "    <tr>\n",
       "      <th>9</th>\n",
       "      <td>Afghanistan</td>\n",
       "      <td>22227415</td>\n",
       "      <td>41.763</td>\n",
       "    </tr>\n",
       "  </tbody>\n",
       "</table>\n",
       "</div>"
      ],
      "text/plain": [
       "       country  population  life_exp\n",
       "1  Afghanistan     9240934    30.332\n",
       "3  Afghanistan    11537966    34.020\n",
       "5  Afghanistan    14880372    38.438\n",
       "7  Afghanistan    13867957    40.822\n",
       "9  Afghanistan    22227415    41.763"
      ]
     },
     "execution_count": 145,
     "metadata": {},
     "output_type": "execute_result"
    }
   ],
   "source": [
    "df.loc[1:10:2,'country':'gdp_cap':2]"
   ]
  },
  {
   "cell_type": "code",
   "execution_count": 146,
   "id": "7789d5e9-8a03-41d8-a5c5-5727bc4edd83",
   "metadata": {},
   "outputs": [
    {
     "data": {
      "text/html": [
       "<div>\n",
       "<style scoped>\n",
       "    .dataframe tbody tr th:only-of-type {\n",
       "        vertical-align: middle;\n",
       "    }\n",
       "\n",
       "    .dataframe tbody tr th {\n",
       "        vertical-align: top;\n",
       "    }\n",
       "\n",
       "    .dataframe thead th {\n",
       "        text-align: right;\n",
       "    }\n",
       "</style>\n",
       "<table border=\"1\" class=\"dataframe\">\n",
       "  <thead>\n",
       "    <tr style=\"text-align: right;\">\n",
       "      <th></th>\n",
       "      <th>country</th>\n",
       "      <th>population</th>\n",
       "      <th>life_exp</th>\n",
       "    </tr>\n",
       "  </thead>\n",
       "  <tbody>\n",
       "    <tr>\n",
       "      <th>3</th>\n",
       "      <td>Afghanistan</td>\n",
       "      <td>11537966</td>\n",
       "      <td>34.020</td>\n",
       "    </tr>\n",
       "    <tr>\n",
       "      <th>4</th>\n",
       "      <td>Afghanistan</td>\n",
       "      <td>13079460</td>\n",
       "      <td>36.088</td>\n",
       "    </tr>\n",
       "    <tr>\n",
       "      <th>5</th>\n",
       "      <td>Afghanistan</td>\n",
       "      <td>14880372</td>\n",
       "      <td>38.438</td>\n",
       "    </tr>\n",
       "  </tbody>\n",
       "</table>\n",
       "</div>"
      ],
      "text/plain": [
       "       country  population  life_exp\n",
       "3  Afghanistan    11537966    34.020\n",
       "4  Afghanistan    13079460    36.088\n",
       "5  Afghanistan    14880372    38.438"
      ]
     },
     "execution_count": 146,
     "metadata": {},
     "output_type": "execute_result"
    }
   ],
   "source": [
    "df.loc[[3,4,5],'country':'gdp_cap':2]"
   ]
  },
  {
   "cell_type": "markdown",
   "id": "bdaba66d-6b94-41d6-abdc-b8749fa5d828",
   "metadata": {},
   "source": [
    "# Sorting"
   ]
  },
  {
   "cell_type": "code",
   "execution_count": 147,
   "id": "ed2567e7-2006-4a75-bb18-292393aca41d",
   "metadata": {},
   "outputs": [
    {
     "data": {
      "text/html": [
       "<div>\n",
       "<style scoped>\n",
       "    .dataframe tbody tr th:only-of-type {\n",
       "        vertical-align: middle;\n",
       "    }\n",
       "\n",
       "    .dataframe tbody tr th {\n",
       "        vertical-align: top;\n",
       "    }\n",
       "\n",
       "    .dataframe thead th {\n",
       "        text-align: right;\n",
       "    }\n",
       "</style>\n",
       "<table border=\"1\" class=\"dataframe\">\n",
       "  <thead>\n",
       "    <tr style=\"text-align: right;\">\n",
       "      <th></th>\n",
       "      <th>country</th>\n",
       "      <th>year</th>\n",
       "      <th>population</th>\n",
       "      <th>continent</th>\n",
       "      <th>life_exp</th>\n",
       "      <th>gdp_cap</th>\n",
       "    </tr>\n",
       "  </thead>\n",
       "  <tbody>\n",
       "    <tr>\n",
       "      <th>1463</th>\n",
       "      <td>Swaziland</td>\n",
       "      <td>2007</td>\n",
       "      <td>1133066</td>\n",
       "      <td>Africa</td>\n",
       "      <td>39.613</td>\n",
       "      <td>4513.480643</td>\n",
       "    </tr>\n",
       "    <tr>\n",
       "      <th>1043</th>\n",
       "      <td>Mozambique</td>\n",
       "      <td>2007</td>\n",
       "      <td>19951656</td>\n",
       "      <td>Africa</td>\n",
       "      <td>42.082</td>\n",
       "      <td>823.685621</td>\n",
       "    </tr>\n",
       "    <tr>\n",
       "      <th>1691</th>\n",
       "      <td>Zambia</td>\n",
       "      <td>2007</td>\n",
       "      <td>11746035</td>\n",
       "      <td>Africa</td>\n",
       "      <td>42.384</td>\n",
       "      <td>1271.211593</td>\n",
       "    </tr>\n",
       "    <tr>\n",
       "      <th>1355</th>\n",
       "      <td>Sierra Leone</td>\n",
       "      <td>2007</td>\n",
       "      <td>6144562</td>\n",
       "      <td>Africa</td>\n",
       "      <td>42.568</td>\n",
       "      <td>862.540756</td>\n",
       "    </tr>\n",
       "    <tr>\n",
       "      <th>887</th>\n",
       "      <td>Lesotho</td>\n",
       "      <td>2007</td>\n",
       "      <td>2012649</td>\n",
       "      <td>Africa</td>\n",
       "      <td>42.592</td>\n",
       "      <td>1569.331442</td>\n",
       "    </tr>\n",
       "    <tr>\n",
       "      <th>...</th>\n",
       "      <td>...</td>\n",
       "      <td>...</td>\n",
       "      <td>...</td>\n",
       "      <td>...</td>\n",
       "      <td>...</td>\n",
       "      <td>...</td>\n",
       "    </tr>\n",
       "    <tr>\n",
       "      <th>408</th>\n",
       "      <td>Denmark</td>\n",
       "      <td>1952</td>\n",
       "      <td>4334000</td>\n",
       "      <td>Europe</td>\n",
       "      <td>70.780</td>\n",
       "      <td>9692.385245</td>\n",
       "    </tr>\n",
       "    <tr>\n",
       "      <th>1464</th>\n",
       "      <td>Sweden</td>\n",
       "      <td>1952</td>\n",
       "      <td>7124673</td>\n",
       "      <td>Europe</td>\n",
       "      <td>71.860</td>\n",
       "      <td>8527.844662</td>\n",
       "    </tr>\n",
       "    <tr>\n",
       "      <th>1080</th>\n",
       "      <td>Netherlands</td>\n",
       "      <td>1952</td>\n",
       "      <td>10381988</td>\n",
       "      <td>Europe</td>\n",
       "      <td>72.130</td>\n",
       "      <td>8941.571858</td>\n",
       "    </tr>\n",
       "    <tr>\n",
       "      <th>684</th>\n",
       "      <td>Iceland</td>\n",
       "      <td>1952</td>\n",
       "      <td>147962</td>\n",
       "      <td>Europe</td>\n",
       "      <td>72.490</td>\n",
       "      <td>7267.688428</td>\n",
       "    </tr>\n",
       "    <tr>\n",
       "      <th>1140</th>\n",
       "      <td>Norway</td>\n",
       "      <td>1952</td>\n",
       "      <td>3327728</td>\n",
       "      <td>Europe</td>\n",
       "      <td>72.670</td>\n",
       "      <td>10095.421720</td>\n",
       "    </tr>\n",
       "  </tbody>\n",
       "</table>\n",
       "<p>1704 rows × 6 columns</p>\n",
       "</div>"
      ],
      "text/plain": [
       "           country  year  population continent  life_exp       gdp_cap\n",
       "1463     Swaziland  2007     1133066    Africa    39.613   4513.480643\n",
       "1043    Mozambique  2007    19951656    Africa    42.082    823.685621\n",
       "1691        Zambia  2007    11746035    Africa    42.384   1271.211593\n",
       "1355  Sierra Leone  2007     6144562    Africa    42.568    862.540756\n",
       "887        Lesotho  2007     2012649    Africa    42.592   1569.331442\n",
       "...            ...   ...         ...       ...       ...           ...\n",
       "408        Denmark  1952     4334000    Europe    70.780   9692.385245\n",
       "1464        Sweden  1952     7124673    Europe    71.860   8527.844662\n",
       "1080   Netherlands  1952    10381988    Europe    72.130   8941.571858\n",
       "684        Iceland  1952      147962    Europe    72.490   7267.688428\n",
       "1140        Norway  1952     3327728    Europe    72.670  10095.421720\n",
       "\n",
       "[1704 rows x 6 columns]"
      ]
     },
     "execution_count": 147,
     "metadata": {},
     "output_type": "execute_result"
    }
   ],
   "source": [
    "df.sort_values(['year','life_exp'],ascending=[False,True])"
   ]
  },
  {
   "cell_type": "code",
   "execution_count": 148,
   "id": "4e436e68-f699-4576-857f-1c933b992b0f",
   "metadata": {},
   "outputs": [
    {
     "data": {
      "text/html": [
       "<div>\n",
       "<style scoped>\n",
       "    .dataframe tbody tr th:only-of-type {\n",
       "        vertical-align: middle;\n",
       "    }\n",
       "\n",
       "    .dataframe tbody tr th {\n",
       "        vertical-align: top;\n",
       "    }\n",
       "\n",
       "    .dataframe thead th {\n",
       "        text-align: right;\n",
       "    }\n",
       "</style>\n",
       "<table border=\"1\" class=\"dataframe\">\n",
       "  <thead>\n",
       "    <tr style=\"text-align: right;\">\n",
       "      <th></th>\n",
       "      <th>country</th>\n",
       "      <th>year</th>\n",
       "      <th>population</th>\n",
       "      <th>continent</th>\n",
       "      <th>life_exp</th>\n",
       "      <th>gdp_cap</th>\n",
       "    </tr>\n",
       "  </thead>\n",
       "  <tbody>\n",
       "    <tr>\n",
       "      <th>334</th>\n",
       "      <td>Congo, Dem. Rep.</td>\n",
       "      <td>2002</td>\n",
       "      <td>55379852</td>\n",
       "      <td>Africa</td>\n",
       "      <td>44.966</td>\n",
       "      <td>241.165876</td>\n",
       "    </tr>\n",
       "    <tr>\n",
       "      <th>335</th>\n",
       "      <td>Congo, Dem. Rep.</td>\n",
       "      <td>2007</td>\n",
       "      <td>64606759</td>\n",
       "      <td>Africa</td>\n",
       "      <td>46.462</td>\n",
       "      <td>277.551859</td>\n",
       "    </tr>\n",
       "    <tr>\n",
       "      <th>876</th>\n",
       "      <td>Lesotho</td>\n",
       "      <td>1952</td>\n",
       "      <td>748747</td>\n",
       "      <td>Africa</td>\n",
       "      <td>42.138</td>\n",
       "      <td>298.846212</td>\n",
       "    </tr>\n",
       "    <tr>\n",
       "      <th>624</th>\n",
       "      <td>Guinea-Bissau</td>\n",
       "      <td>1952</td>\n",
       "      <td>580653</td>\n",
       "      <td>Africa</td>\n",
       "      <td>32.500</td>\n",
       "      <td>299.850319</td>\n",
       "    </tr>\n",
       "    <tr>\n",
       "      <th>333</th>\n",
       "      <td>Congo, Dem. Rep.</td>\n",
       "      <td>1997</td>\n",
       "      <td>47798986</td>\n",
       "      <td>Africa</td>\n",
       "      <td>42.587</td>\n",
       "      <td>312.188423</td>\n",
       "    </tr>\n",
       "  </tbody>\n",
       "</table>\n",
       "</div>"
      ],
      "text/plain": [
       "              country  year  population continent  life_exp     gdp_cap\n",
       "334  Congo, Dem. Rep.  2002    55379852    Africa    44.966  241.165876\n",
       "335  Congo, Dem. Rep.  2007    64606759    Africa    46.462  277.551859\n",
       "876           Lesotho  1952      748747    Africa    42.138  298.846212\n",
       "624     Guinea-Bissau  1952      580653    Africa    32.500  299.850319\n",
       "333  Congo, Dem. Rep.  1997    47798986    Africa    42.587  312.188423"
      ]
     },
     "execution_count": 148,
     "metadata": {},
     "output_type": "execute_result"
    }
   ],
   "source": [
    "df.sort_values(['gdp_cap','population']).head()"
   ]
  },
  {
   "cell_type": "code",
   "execution_count": 149,
   "id": "20834f61-2dc9-40dc-8c64-9d59e52090e3",
   "metadata": {},
   "outputs": [
    {
     "data": {
      "text/html": [
       "<div>\n",
       "<style scoped>\n",
       "    .dataframe tbody tr th:only-of-type {\n",
       "        vertical-align: middle;\n",
       "    }\n",
       "\n",
       "    .dataframe tbody tr th {\n",
       "        vertical-align: top;\n",
       "    }\n",
       "\n",
       "    .dataframe thead th {\n",
       "        text-align: right;\n",
       "    }\n",
       "</style>\n",
       "<table border=\"1\" class=\"dataframe\">\n",
       "  <thead>\n",
       "    <tr style=\"text-align: right;\">\n",
       "      <th></th>\n",
       "      <th>country</th>\n",
       "      <th>year</th>\n",
       "      <th>population</th>\n",
       "      <th>continent</th>\n",
       "      <th>life_exp</th>\n",
       "      <th>gdp_cap</th>\n",
       "    </tr>\n",
       "  </thead>\n",
       "  <tbody>\n",
       "    <tr>\n",
       "      <th>853</th>\n",
       "      <td>Kuwait</td>\n",
       "      <td>1957</td>\n",
       "      <td>212846</td>\n",
       "      <td>Asia</td>\n",
       "      <td>58.033</td>\n",
       "      <td>113523.13290</td>\n",
       "    </tr>\n",
       "    <tr>\n",
       "      <th>856</th>\n",
       "      <td>Kuwait</td>\n",
       "      <td>1972</td>\n",
       "      <td>841934</td>\n",
       "      <td>Asia</td>\n",
       "      <td>67.712</td>\n",
       "      <td>109347.86700</td>\n",
       "    </tr>\n",
       "    <tr>\n",
       "      <th>852</th>\n",
       "      <td>Kuwait</td>\n",
       "      <td>1952</td>\n",
       "      <td>160000</td>\n",
       "      <td>Asia</td>\n",
       "      <td>55.565</td>\n",
       "      <td>108382.35290</td>\n",
       "    </tr>\n",
       "    <tr>\n",
       "      <th>854</th>\n",
       "      <td>Kuwait</td>\n",
       "      <td>1962</td>\n",
       "      <td>358266</td>\n",
       "      <td>Asia</td>\n",
       "      <td>60.470</td>\n",
       "      <td>95458.11176</td>\n",
       "    </tr>\n",
       "    <tr>\n",
       "      <th>855</th>\n",
       "      <td>Kuwait</td>\n",
       "      <td>1967</td>\n",
       "      <td>575003</td>\n",
       "      <td>Asia</td>\n",
       "      <td>64.624</td>\n",
       "      <td>80894.88326</td>\n",
       "    </tr>\n",
       "  </tbody>\n",
       "</table>\n",
       "</div>"
      ],
      "text/plain": [
       "    country  year  population continent  life_exp       gdp_cap\n",
       "853  Kuwait  1957      212846      Asia    58.033  113523.13290\n",
       "856  Kuwait  1972      841934      Asia    67.712  109347.86700\n",
       "852  Kuwait  1952      160000      Asia    55.565  108382.35290\n",
       "854  Kuwait  1962      358266      Asia    60.470   95458.11176\n",
       "855  Kuwait  1967      575003      Asia    64.624   80894.88326"
      ]
     },
     "execution_count": 149,
     "metadata": {},
     "output_type": "execute_result"
    }
   ],
   "source": [
    "df.sort_values(['gdp_cap','population'],ascending=[False,True]).head()"
   ]
  },
  {
   "cell_type": "markdown",
   "id": "ae868690-45eb-4e1f-ae37-e91a46f23fd4",
   "metadata": {},
   "source": [
    "# Mathematical Functions"
   ]
  },
  {
   "cell_type": "code",
   "execution_count": 150,
   "id": "b259ae91-2686-4e76-a17e-03b09fd45194",
   "metadata": {},
   "outputs": [],
   "source": [
    "le = df['life_exp']"
   ]
  },
  {
   "cell_type": "code",
   "execution_count": 151,
   "id": "dbf83f36-1be8-4d31-8a8c-a26f6aab15fa",
   "metadata": {},
   "outputs": [
    {
     "data": {
      "text/plain": [
       "23.599"
      ]
     },
     "execution_count": 151,
     "metadata": {},
     "output_type": "execute_result"
    }
   ],
   "source": [
    "le.min()"
   ]
  },
  {
   "cell_type": "code",
   "execution_count": 152,
   "id": "f8627f6a-7bc3-4301-b47d-75f56ccf90a9",
   "metadata": {},
   "outputs": [
    {
     "data": {
      "text/plain": [
       "82.603"
      ]
     },
     "execution_count": 152,
     "metadata": {},
     "output_type": "execute_result"
    }
   ],
   "source": [
    "le.max()"
   ]
  },
  {
   "cell_type": "code",
   "execution_count": 153,
   "id": "4d72c374-c997-4830-ae54-3eedc2f7bc91",
   "metadata": {},
   "outputs": [
    {
     "data": {
      "text/plain": [
       "59.474439366197174"
      ]
     },
     "execution_count": 153,
     "metadata": {},
     "output_type": "execute_result"
    }
   ],
   "source": [
    "le.mean()"
   ]
  },
  {
   "cell_type": "code",
   "execution_count": 154,
   "id": "eee358ba-8f25-4e3c-8f51-3a046f014d21",
   "metadata": {},
   "outputs": [
    {
     "data": {
      "text/plain": [
       "12.917107415241192"
      ]
     },
     "execution_count": 154,
     "metadata": {},
     "output_type": "execute_result"
    }
   ],
   "source": [
    "le.std()"
   ]
  },
  {
   "cell_type": "code",
   "execution_count": 155,
   "id": "fb16e7ad-cc33-40bd-b8cd-f378c3b82572",
   "metadata": {},
   "outputs": [
    {
     "data": {
      "text/plain": [
       "166.851663976879"
      ]
     },
     "execution_count": 155,
     "metadata": {},
     "output_type": "execute_result"
    }
   ],
   "source": [
    "le.var()"
   ]
  },
  {
   "cell_type": "code",
   "execution_count": 156,
   "id": "b615078f-6c45-490e-9aa8-66114e645c30",
   "metadata": {},
   "outputs": [
    {
     "data": {
      "text/plain": [
       "0    69.39\n",
       "Name: life_exp, dtype: float64"
      ]
     },
     "execution_count": 156,
     "metadata": {},
     "output_type": "execute_result"
    }
   ],
   "source": [
    "le.mode()"
   ]
  },
  {
   "cell_type": "code",
   "execution_count": 157,
   "id": "c1282ea8-8758-421e-a292-f5e8ced89502",
   "metadata": {},
   "outputs": [
    {
     "data": {
      "text/plain": [
       "1704"
      ]
     },
     "execution_count": 157,
     "metadata": {},
     "output_type": "execute_result"
    }
   ],
   "source": [
    "le.count()"
   ]
  },
  {
   "cell_type": "code",
   "execution_count": 158,
   "id": "40cec569-4c3b-446a-b73a-f2773ee0b397",
   "metadata": {},
   "outputs": [],
   "source": [
    "pop = df['population']"
   ]
  },
  {
   "cell_type": "code",
   "execution_count": 159,
   "id": "cb9177d8-3b1b-473f-bd9a-68e26a4a2f3f",
   "metadata": {},
   "outputs": [
    {
     "data": {
      "text/plain": [
       "60011"
      ]
     },
     "execution_count": 159,
     "metadata": {},
     "output_type": "execute_result"
    }
   ],
   "source": [
    "pop.min()"
   ]
  },
  {
   "cell_type": "code",
   "execution_count": 160,
   "id": "e4a757a2-864e-4264-ae3d-0b6849bca088",
   "metadata": {},
   "outputs": [
    {
     "data": {
      "text/plain": [
       "1318683096"
      ]
     },
     "execution_count": 160,
     "metadata": {},
     "output_type": "execute_result"
    }
   ],
   "source": [
    "pop.max()"
   ]
  },
  {
   "cell_type": "code",
   "execution_count": 161,
   "id": "4af02462-80f9-4c5c-aef6-acf297c14e7c",
   "metadata": {},
   "outputs": [
    {
     "data": {
      "text/plain": [
       "29601212.324530516"
      ]
     },
     "execution_count": 161,
     "metadata": {},
     "output_type": "execute_result"
    }
   ],
   "source": [
    "pop.mean()"
   ]
  },
  {
   "cell_type": "code",
   "execution_count": 162,
   "id": "19647741-bfbd-4f7a-a0cc-a734843e8171",
   "metadata": {},
   "outputs": [
    {
     "data": {
      "text/plain": [
       "50440465801"
      ]
     },
     "execution_count": 162,
     "metadata": {},
     "output_type": "execute_result"
    }
   ],
   "source": [
    "pop.sum()"
   ]
  },
  {
   "cell_type": "code",
   "execution_count": 163,
   "id": "7e56546e-9203-45e5-9bdf-a7d1f589f268",
   "metadata": {},
   "outputs": [],
   "source": [
    "gdp = df['gdp_cap']"
   ]
  },
  {
   "cell_type": "code",
   "execution_count": 164,
   "id": "98079c08-2dd1-485b-aea7-f9666d056631",
   "metadata": {},
   "outputs": [
    {
     "data": {
      "text/plain": [
       "241.1658765"
      ]
     },
     "execution_count": 164,
     "metadata": {},
     "output_type": "execute_result"
    }
   ],
   "source": [
    "gdp.min()"
   ]
  },
  {
   "cell_type": "code",
   "execution_count": 165,
   "id": "c3ce55e7-51f4-4f55-bdbb-948e6d99ce76",
   "metadata": {},
   "outputs": [
    {
     "data": {
      "text/plain": [
       "113523.1329"
      ]
     },
     "execution_count": 165,
     "metadata": {},
     "output_type": "execute_result"
    }
   ],
   "source": [
    "gdp.max()"
   ]
  },
  {
   "cell_type": "code",
   "execution_count": 166,
   "id": "94a0d4f8-2a4f-43b0-969e-7a299f736f1a",
   "metadata": {},
   "outputs": [
    {
     "data": {
      "text/plain": [
       "7215.327081212149"
      ]
     },
     "execution_count": 166,
     "metadata": {},
     "output_type": "execute_result"
    }
   ],
   "source": [
    "gdp.mean()"
   ]
  },
  {
   "cell_type": "code",
   "execution_count": 167,
   "id": "facb77fe-3d35-4927-81c7-ff8b255f0cf0",
   "metadata": {},
   "outputs": [
    {
     "data": {
      "text/plain": [
       "12294917.346385501"
      ]
     },
     "execution_count": 167,
     "metadata": {},
     "output_type": "execute_result"
    }
   ],
   "source": [
    "gdp.sum()"
   ]
  },
  {
   "cell_type": "markdown",
   "id": "561f0a15-8e6d-4a2d-ae92-dc7bbb4e1c6c",
   "metadata": {},
   "source": [
    "# Joining & Merging Tables"
   ]
  },
  {
   "cell_type": "code",
   "execution_count": 168,
   "id": "c14cb5fe-89f6-4154-9ea0-3cbbc184e006",
   "metadata": {},
   "outputs": [],
   "source": [
    "users = pd.DataFrame(\n",
    "    {\n",
    "        'user_id':[1,2,3,4,5],\n",
    "        'name':['Sai','Preethi','Shamika','Veenasree','Sharan']\n",
    "    }\n",
    ")"
   ]
  },
  {
   "cell_type": "code",
   "execution_count": 169,
   "id": "cfe548e2-38a9-40b7-88a8-3c32d57cf475",
   "metadata": {},
   "outputs": [
    {
     "data": {
      "text/html": [
       "<div>\n",
       "<style scoped>\n",
       "    .dataframe tbody tr th:only-of-type {\n",
       "        vertical-align: middle;\n",
       "    }\n",
       "\n",
       "    .dataframe tbody tr th {\n",
       "        vertical-align: top;\n",
       "    }\n",
       "\n",
       "    .dataframe thead th {\n",
       "        text-align: right;\n",
       "    }\n",
       "</style>\n",
       "<table border=\"1\" class=\"dataframe\">\n",
       "  <thead>\n",
       "    <tr style=\"text-align: right;\">\n",
       "      <th></th>\n",
       "      <th>user_id</th>\n",
       "      <th>name</th>\n",
       "    </tr>\n",
       "  </thead>\n",
       "  <tbody>\n",
       "    <tr>\n",
       "      <th>0</th>\n",
       "      <td>1</td>\n",
       "      <td>Sai</td>\n",
       "    </tr>\n",
       "    <tr>\n",
       "      <th>1</th>\n",
       "      <td>2</td>\n",
       "      <td>Preethi</td>\n",
       "    </tr>\n",
       "    <tr>\n",
       "      <th>2</th>\n",
       "      <td>3</td>\n",
       "      <td>Shamika</td>\n",
       "    </tr>\n",
       "    <tr>\n",
       "      <th>3</th>\n",
       "      <td>4</td>\n",
       "      <td>Veenasree</td>\n",
       "    </tr>\n",
       "    <tr>\n",
       "      <th>4</th>\n",
       "      <td>5</td>\n",
       "      <td>Sharan</td>\n",
       "    </tr>\n",
       "  </tbody>\n",
       "</table>\n",
       "</div>"
      ],
      "text/plain": [
       "   user_id       name\n",
       "0        1        Sai\n",
       "1        2    Preethi\n",
       "2        3    Shamika\n",
       "3        4  Veenasree\n",
       "4        5     Sharan"
      ]
     },
     "execution_count": 169,
     "metadata": {},
     "output_type": "execute_result"
    }
   ],
   "source": [
    "users"
   ]
  },
  {
   "cell_type": "code",
   "execution_count": 170,
   "id": "1443d45a-4520-4e1c-bf39-6d7632ae0b8b",
   "metadata": {},
   "outputs": [],
   "source": [
    "msgs = pd.DataFrame(\n",
    "    {\n",
    "        'user_id':[1,1,3,4,2],\n",
    "        'message':['hi','hello','Fine!','How are you ?','Bye']\n",
    "    }\n",
    ")"
   ]
  },
  {
   "cell_type": "code",
   "execution_count": 171,
   "id": "e6ffee11-7975-4829-872b-ccbb161281cd",
   "metadata": {},
   "outputs": [
    {
     "data": {
      "text/html": [
       "<div>\n",
       "<style scoped>\n",
       "    .dataframe tbody tr th:only-of-type {\n",
       "        vertical-align: middle;\n",
       "    }\n",
       "\n",
       "    .dataframe tbody tr th {\n",
       "        vertical-align: top;\n",
       "    }\n",
       "\n",
       "    .dataframe thead th {\n",
       "        text-align: right;\n",
       "    }\n",
       "</style>\n",
       "<table border=\"1\" class=\"dataframe\">\n",
       "  <thead>\n",
       "    <tr style=\"text-align: right;\">\n",
       "      <th></th>\n",
       "      <th>user_id</th>\n",
       "      <th>message</th>\n",
       "    </tr>\n",
       "  </thead>\n",
       "  <tbody>\n",
       "    <tr>\n",
       "      <th>0</th>\n",
       "      <td>1</td>\n",
       "      <td>hi</td>\n",
       "    </tr>\n",
       "    <tr>\n",
       "      <th>1</th>\n",
       "      <td>1</td>\n",
       "      <td>hello</td>\n",
       "    </tr>\n",
       "    <tr>\n",
       "      <th>2</th>\n",
       "      <td>3</td>\n",
       "      <td>Fine!</td>\n",
       "    </tr>\n",
       "    <tr>\n",
       "      <th>3</th>\n",
       "      <td>4</td>\n",
       "      <td>How are you ?</td>\n",
       "    </tr>\n",
       "    <tr>\n",
       "      <th>4</th>\n",
       "      <td>2</td>\n",
       "      <td>Bye</td>\n",
       "    </tr>\n",
       "  </tbody>\n",
       "</table>\n",
       "</div>"
      ],
      "text/plain": [
       "   user_id        message\n",
       "0        1             hi\n",
       "1        1          hello\n",
       "2        3          Fine!\n",
       "3        4  How are you ?\n",
       "4        2            Bye"
      ]
     },
     "execution_count": 171,
     "metadata": {},
     "output_type": "execute_result"
    }
   ],
   "source": [
    "msgs"
   ]
  },
  {
   "cell_type": "code",
   "execution_count": 172,
   "id": "8207a165-36bc-4d2d-8967-20c4b66f47e2",
   "metadata": {},
   "outputs": [
    {
     "data": {
      "text/html": [
       "<div>\n",
       "<style scoped>\n",
       "    .dataframe tbody tr th:only-of-type {\n",
       "        vertical-align: middle;\n",
       "    }\n",
       "\n",
       "    .dataframe tbody tr th {\n",
       "        vertical-align: top;\n",
       "    }\n",
       "\n",
       "    .dataframe thead th {\n",
       "        text-align: right;\n",
       "    }\n",
       "</style>\n",
       "<table border=\"1\" class=\"dataframe\">\n",
       "  <thead>\n",
       "    <tr style=\"text-align: right;\">\n",
       "      <th></th>\n",
       "      <th>user_id</th>\n",
       "      <th>name</th>\n",
       "      <th>message</th>\n",
       "    </tr>\n",
       "  </thead>\n",
       "  <tbody>\n",
       "    <tr>\n",
       "      <th>0</th>\n",
       "      <td>1</td>\n",
       "      <td>Sai</td>\n",
       "      <td>NaN</td>\n",
       "    </tr>\n",
       "    <tr>\n",
       "      <th>1</th>\n",
       "      <td>2</td>\n",
       "      <td>Preethi</td>\n",
       "      <td>NaN</td>\n",
       "    </tr>\n",
       "    <tr>\n",
       "      <th>2</th>\n",
       "      <td>3</td>\n",
       "      <td>Shamika</td>\n",
       "      <td>NaN</td>\n",
       "    </tr>\n",
       "    <tr>\n",
       "      <th>3</th>\n",
       "      <td>4</td>\n",
       "      <td>Veenasree</td>\n",
       "      <td>NaN</td>\n",
       "    </tr>\n",
       "    <tr>\n",
       "      <th>4</th>\n",
       "      <td>5</td>\n",
       "      <td>Sharan</td>\n",
       "      <td>NaN</td>\n",
       "    </tr>\n",
       "    <tr>\n",
       "      <th>5</th>\n",
       "      <td>1</td>\n",
       "      <td>NaN</td>\n",
       "      <td>hi</td>\n",
       "    </tr>\n",
       "    <tr>\n",
       "      <th>6</th>\n",
       "      <td>1</td>\n",
       "      <td>NaN</td>\n",
       "      <td>hello</td>\n",
       "    </tr>\n",
       "    <tr>\n",
       "      <th>7</th>\n",
       "      <td>3</td>\n",
       "      <td>NaN</td>\n",
       "      <td>Fine!</td>\n",
       "    </tr>\n",
       "    <tr>\n",
       "      <th>8</th>\n",
       "      <td>4</td>\n",
       "      <td>NaN</td>\n",
       "      <td>How are you ?</td>\n",
       "    </tr>\n",
       "    <tr>\n",
       "      <th>9</th>\n",
       "      <td>2</td>\n",
       "      <td>NaN</td>\n",
       "      <td>Bye</td>\n",
       "    </tr>\n",
       "  </tbody>\n",
       "</table>\n",
       "</div>"
      ],
      "text/plain": [
       "   user_id       name        message\n",
       "0        1        Sai            NaN\n",
       "1        2    Preethi            NaN\n",
       "2        3    Shamika            NaN\n",
       "3        4  Veenasree            NaN\n",
       "4        5     Sharan            NaN\n",
       "5        1        NaN             hi\n",
       "6        1        NaN          hello\n",
       "7        3        NaN          Fine!\n",
       "8        4        NaN  How are you ?\n",
       "9        2        NaN            Bye"
      ]
     },
     "execution_count": 172,
     "metadata": {},
     "output_type": "execute_result"
    }
   ],
   "source": [
    "pd.concat([users,msgs],ignore_index=True)  # Union, vstack, full join"
   ]
  },
  {
   "cell_type": "code",
   "execution_count": 173,
   "id": "f71e56aa-6179-4327-8bd7-5492a7a5b88c",
   "metadata": {},
   "outputs": [
    {
     "data": {
      "text/html": [
       "<div>\n",
       "<style scoped>\n",
       "    .dataframe tbody tr th:only-of-type {\n",
       "        vertical-align: middle;\n",
       "    }\n",
       "\n",
       "    .dataframe tbody tr th {\n",
       "        vertical-align: top;\n",
       "    }\n",
       "\n",
       "    .dataframe thead th {\n",
       "        text-align: right;\n",
       "    }\n",
       "</style>\n",
       "<table border=\"1\" class=\"dataframe\">\n",
       "  <thead>\n",
       "    <tr style=\"text-align: right;\">\n",
       "      <th></th>\n",
       "      <th>user_id</th>\n",
       "      <th>name</th>\n",
       "      <th>user_id</th>\n",
       "      <th>message</th>\n",
       "    </tr>\n",
       "  </thead>\n",
       "  <tbody>\n",
       "    <tr>\n",
       "      <th>0</th>\n",
       "      <td>1</td>\n",
       "      <td>Sai</td>\n",
       "      <td>1</td>\n",
       "      <td>hi</td>\n",
       "    </tr>\n",
       "    <tr>\n",
       "      <th>1</th>\n",
       "      <td>2</td>\n",
       "      <td>Preethi</td>\n",
       "      <td>1</td>\n",
       "      <td>hello</td>\n",
       "    </tr>\n",
       "    <tr>\n",
       "      <th>2</th>\n",
       "      <td>3</td>\n",
       "      <td>Shamika</td>\n",
       "      <td>3</td>\n",
       "      <td>Fine!</td>\n",
       "    </tr>\n",
       "    <tr>\n",
       "      <th>3</th>\n",
       "      <td>4</td>\n",
       "      <td>Veenasree</td>\n",
       "      <td>4</td>\n",
       "      <td>How are you ?</td>\n",
       "    </tr>\n",
       "    <tr>\n",
       "      <th>4</th>\n",
       "      <td>5</td>\n",
       "      <td>Sharan</td>\n",
       "      <td>2</td>\n",
       "      <td>Bye</td>\n",
       "    </tr>\n",
       "  </tbody>\n",
       "</table>\n",
       "</div>"
      ],
      "text/plain": [
       "   user_id       name  user_id        message\n",
       "0        1        Sai        1             hi\n",
       "1        2    Preethi        1          hello\n",
       "2        3    Shamika        3          Fine!\n",
       "3        4  Veenasree        4  How are you ?\n",
       "4        5     Sharan        2            Bye"
      ]
     },
     "execution_count": 173,
     "metadata": {},
     "output_type": "execute_result"
    }
   ],
   "source": [
    "pd.concat([users,msgs],axis=1) #hstack"
   ]
  },
  {
   "cell_type": "markdown",
   "id": "cb687e24-31cd-4c47-9d77-fd77c5ff76ac",
   "metadata": {},
   "source": [
    "# Joining two tables \n",
    "* ### pd.merge(table1, table2, on='comman_column', how='Type_of_join')\n",
    "* ### table1.merge(table2, on='comman_column', how='Type_of_join')"
   ]
  },
  {
   "cell_type": "code",
   "execution_count": 174,
   "id": "2dd265e3-38d1-4a27-b1fb-612a472189de",
   "metadata": {},
   "outputs": [
    {
     "data": {
      "text/html": [
       "<div>\n",
       "<style scoped>\n",
       "    .dataframe tbody tr th:only-of-type {\n",
       "        vertical-align: middle;\n",
       "    }\n",
       "\n",
       "    .dataframe tbody tr th {\n",
       "        vertical-align: top;\n",
       "    }\n",
       "\n",
       "    .dataframe thead th {\n",
       "        text-align: right;\n",
       "    }\n",
       "</style>\n",
       "<table border=\"1\" class=\"dataframe\">\n",
       "  <thead>\n",
       "    <tr style=\"text-align: right;\">\n",
       "      <th></th>\n",
       "      <th>user_id</th>\n",
       "      <th>name</th>\n",
       "      <th>message</th>\n",
       "    </tr>\n",
       "  </thead>\n",
       "  <tbody>\n",
       "    <tr>\n",
       "      <th>0</th>\n",
       "      <td>1</td>\n",
       "      <td>Sai</td>\n",
       "      <td>hi</td>\n",
       "    </tr>\n",
       "    <tr>\n",
       "      <th>1</th>\n",
       "      <td>1</td>\n",
       "      <td>Sai</td>\n",
       "      <td>hello</td>\n",
       "    </tr>\n",
       "    <tr>\n",
       "      <th>2</th>\n",
       "      <td>2</td>\n",
       "      <td>Preethi</td>\n",
       "      <td>Bye</td>\n",
       "    </tr>\n",
       "    <tr>\n",
       "      <th>3</th>\n",
       "      <td>3</td>\n",
       "      <td>Shamika</td>\n",
       "      <td>Fine!</td>\n",
       "    </tr>\n",
       "    <tr>\n",
       "      <th>4</th>\n",
       "      <td>4</td>\n",
       "      <td>Veenasree</td>\n",
       "      <td>How are you ?</td>\n",
       "    </tr>\n",
       "  </tbody>\n",
       "</table>\n",
       "</div>"
      ],
      "text/plain": [
       "   user_id       name        message\n",
       "0        1        Sai             hi\n",
       "1        1        Sai          hello\n",
       "2        2    Preethi            Bye\n",
       "3        3    Shamika          Fine!\n",
       "4        4  Veenasree  How are you ?"
      ]
     },
     "execution_count": 174,
     "metadata": {},
     "output_type": "execute_result"
    }
   ],
   "source": [
    "pd.merge(users,msgs,on='user_id')"
   ]
  },
  {
   "cell_type": "code",
   "execution_count": 175,
   "id": "599bae09-6896-4f1f-953f-bd60deef5cb8",
   "metadata": {},
   "outputs": [
    {
     "data": {
      "text/html": [
       "<div>\n",
       "<style scoped>\n",
       "    .dataframe tbody tr th:only-of-type {\n",
       "        vertical-align: middle;\n",
       "    }\n",
       "\n",
       "    .dataframe tbody tr th {\n",
       "        vertical-align: top;\n",
       "    }\n",
       "\n",
       "    .dataframe thead th {\n",
       "        text-align: right;\n",
       "    }\n",
       "</style>\n",
       "<table border=\"1\" class=\"dataframe\">\n",
       "  <thead>\n",
       "    <tr style=\"text-align: right;\">\n",
       "      <th></th>\n",
       "      <th>user_id</th>\n",
       "      <th>name</th>\n",
       "      <th>message</th>\n",
       "    </tr>\n",
       "  </thead>\n",
       "  <tbody>\n",
       "    <tr>\n",
       "      <th>0</th>\n",
       "      <td>1</td>\n",
       "      <td>Sai</td>\n",
       "      <td>hi</td>\n",
       "    </tr>\n",
       "    <tr>\n",
       "      <th>1</th>\n",
       "      <td>1</td>\n",
       "      <td>Sai</td>\n",
       "      <td>hello</td>\n",
       "    </tr>\n",
       "    <tr>\n",
       "      <th>2</th>\n",
       "      <td>2</td>\n",
       "      <td>Preethi</td>\n",
       "      <td>Bye</td>\n",
       "    </tr>\n",
       "    <tr>\n",
       "      <th>3</th>\n",
       "      <td>3</td>\n",
       "      <td>Shamika</td>\n",
       "      <td>Fine!</td>\n",
       "    </tr>\n",
       "    <tr>\n",
       "      <th>4</th>\n",
       "      <td>4</td>\n",
       "      <td>Veenasree</td>\n",
       "      <td>How are you ?</td>\n",
       "    </tr>\n",
       "    <tr>\n",
       "      <th>5</th>\n",
       "      <td>5</td>\n",
       "      <td>Sharan</td>\n",
       "      <td>NaN</td>\n",
       "    </tr>\n",
       "  </tbody>\n",
       "</table>\n",
       "</div>"
      ],
      "text/plain": [
       "   user_id       name        message\n",
       "0        1        Sai             hi\n",
       "1        1        Sai          hello\n",
       "2        2    Preethi            Bye\n",
       "3        3    Shamika          Fine!\n",
       "4        4  Veenasree  How are you ?\n",
       "5        5     Sharan            NaN"
      ]
     },
     "execution_count": 175,
     "metadata": {},
     "output_type": "execute_result"
    }
   ],
   "source": [
    "users.merge(msgs,on='user_id',how='outer')"
   ]
  },
  {
   "cell_type": "code",
   "execution_count": 176,
   "id": "ea493763-1939-4c9a-984f-32a1f790cada",
   "metadata": {},
   "outputs": [
    {
     "data": {
      "text/html": [
       "<div>\n",
       "<style scoped>\n",
       "    .dataframe tbody tr th:only-of-type {\n",
       "        vertical-align: middle;\n",
       "    }\n",
       "\n",
       "    .dataframe tbody tr th {\n",
       "        vertical-align: top;\n",
       "    }\n",
       "\n",
       "    .dataframe thead th {\n",
       "        text-align: right;\n",
       "    }\n",
       "</style>\n",
       "<table border=\"1\" class=\"dataframe\">\n",
       "  <thead>\n",
       "    <tr style=\"text-align: right;\">\n",
       "      <th></th>\n",
       "      <th>user_id</th>\n",
       "      <th>name</th>\n",
       "      <th>message</th>\n",
       "    </tr>\n",
       "  </thead>\n",
       "  <tbody>\n",
       "    <tr>\n",
       "      <th>0</th>\n",
       "      <td>1</td>\n",
       "      <td>Sai</td>\n",
       "      <td>hi</td>\n",
       "    </tr>\n",
       "    <tr>\n",
       "      <th>1</th>\n",
       "      <td>1</td>\n",
       "      <td>Sai</td>\n",
       "      <td>hello</td>\n",
       "    </tr>\n",
       "    <tr>\n",
       "      <th>2</th>\n",
       "      <td>3</td>\n",
       "      <td>Shamika</td>\n",
       "      <td>Fine!</td>\n",
       "    </tr>\n",
       "    <tr>\n",
       "      <th>3</th>\n",
       "      <td>4</td>\n",
       "      <td>Veenasree</td>\n",
       "      <td>How are you ?</td>\n",
       "    </tr>\n",
       "    <tr>\n",
       "      <th>4</th>\n",
       "      <td>2</td>\n",
       "      <td>Preethi</td>\n",
       "      <td>Bye</td>\n",
       "    </tr>\n",
       "  </tbody>\n",
       "</table>\n",
       "</div>"
      ],
      "text/plain": [
       "   user_id       name        message\n",
       "0        1        Sai             hi\n",
       "1        1        Sai          hello\n",
       "2        3    Shamika          Fine!\n",
       "3        4  Veenasree  How are you ?\n",
       "4        2    Preethi            Bye"
      ]
     },
     "execution_count": 176,
     "metadata": {},
     "output_type": "execute_result"
    }
   ],
   "source": [
    "users.merge(msgs,on='user_id',how='right')"
   ]
  },
  {
   "cell_type": "code",
   "execution_count": 179,
   "id": "57e345b5-d287-4491-892f-ce54d35bd287",
   "metadata": {},
   "outputs": [],
   "source": [
    "users.rename(columns={'user_id':'id'},inplace=True)"
   ]
  },
  {
   "cell_type": "code",
   "execution_count": 180,
   "id": "76f98dba-246e-4861-9605-aa60b32a6c10",
   "metadata": {},
   "outputs": [
    {
     "data": {
      "text/html": [
       "<div>\n",
       "<style scoped>\n",
       "    .dataframe tbody tr th:only-of-type {\n",
       "        vertical-align: middle;\n",
       "    }\n",
       "\n",
       "    .dataframe tbody tr th {\n",
       "        vertical-align: top;\n",
       "    }\n",
       "\n",
       "    .dataframe thead th {\n",
       "        text-align: right;\n",
       "    }\n",
       "</style>\n",
       "<table border=\"1\" class=\"dataframe\">\n",
       "  <thead>\n",
       "    <tr style=\"text-align: right;\">\n",
       "      <th></th>\n",
       "      <th>id</th>\n",
       "      <th>name</th>\n",
       "    </tr>\n",
       "  </thead>\n",
       "  <tbody>\n",
       "    <tr>\n",
       "      <th>0</th>\n",
       "      <td>1</td>\n",
       "      <td>Sai</td>\n",
       "    </tr>\n",
       "    <tr>\n",
       "      <th>1</th>\n",
       "      <td>2</td>\n",
       "      <td>Preethi</td>\n",
       "    </tr>\n",
       "    <tr>\n",
       "      <th>2</th>\n",
       "      <td>3</td>\n",
       "      <td>Shamika</td>\n",
       "    </tr>\n",
       "    <tr>\n",
       "      <th>3</th>\n",
       "      <td>4</td>\n",
       "      <td>Veenasree</td>\n",
       "    </tr>\n",
       "    <tr>\n",
       "      <th>4</th>\n",
       "      <td>5</td>\n",
       "      <td>Sharan</td>\n",
       "    </tr>\n",
       "  </tbody>\n",
       "</table>\n",
       "</div>"
      ],
      "text/plain": [
       "   id       name\n",
       "0   1        Sai\n",
       "1   2    Preethi\n",
       "2   3    Shamika\n",
       "3   4  Veenasree\n",
       "4   5     Sharan"
      ]
     },
     "execution_count": 180,
     "metadata": {},
     "output_type": "execute_result"
    }
   ],
   "source": [
    "users"
   ]
  },
  {
   "cell_type": "code",
   "execution_count": 186,
   "id": "1ef50e13-f480-421b-bdba-d7a381705713",
   "metadata": {},
   "outputs": [
    {
     "data": {
      "text/html": [
       "<div>\n",
       "<style scoped>\n",
       "    .dataframe tbody tr th:only-of-type {\n",
       "        vertical-align: middle;\n",
       "    }\n",
       "\n",
       "    .dataframe tbody tr th {\n",
       "        vertical-align: top;\n",
       "    }\n",
       "\n",
       "    .dataframe thead th {\n",
       "        text-align: right;\n",
       "    }\n",
       "</style>\n",
       "<table border=\"1\" class=\"dataframe\">\n",
       "  <thead>\n",
       "    <tr style=\"text-align: right;\">\n",
       "      <th></th>\n",
       "      <th>id</th>\n",
       "      <th>name</th>\n",
       "      <th>user_id</th>\n",
       "      <th>message</th>\n",
       "    </tr>\n",
       "  </thead>\n",
       "  <tbody>\n",
       "    <tr>\n",
       "      <th>0</th>\n",
       "      <td>1</td>\n",
       "      <td>Sai</td>\n",
       "      <td>1</td>\n",
       "      <td>hi</td>\n",
       "    </tr>\n",
       "    <tr>\n",
       "      <th>1</th>\n",
       "      <td>1</td>\n",
       "      <td>Sai</td>\n",
       "      <td>1</td>\n",
       "      <td>hello</td>\n",
       "    </tr>\n",
       "    <tr>\n",
       "      <th>2</th>\n",
       "      <td>2</td>\n",
       "      <td>Preethi</td>\n",
       "      <td>2</td>\n",
       "      <td>Bye</td>\n",
       "    </tr>\n",
       "    <tr>\n",
       "      <th>3</th>\n",
       "      <td>3</td>\n",
       "      <td>Shamika</td>\n",
       "      <td>3</td>\n",
       "      <td>Fine!</td>\n",
       "    </tr>\n",
       "    <tr>\n",
       "      <th>4</th>\n",
       "      <td>4</td>\n",
       "      <td>Veenasree</td>\n",
       "      <td>4</td>\n",
       "      <td>How are you ?</td>\n",
       "    </tr>\n",
       "  </tbody>\n",
       "</table>\n",
       "</div>"
      ],
      "text/plain": [
       "   id       name  user_id        message\n",
       "0   1        Sai        1             hi\n",
       "1   1        Sai        1          hello\n",
       "2   2    Preethi        2            Bye\n",
       "3   3    Shamika        3          Fine!\n",
       "4   4  Veenasree        4  How are you ?"
      ]
     },
     "execution_count": 186,
     "metadata": {},
     "output_type": "execute_result"
    }
   ],
   "source": [
    "users.merge(msgs,left_on='id',right_on='user_id')"
   ]
  },
  {
   "cell_type": "code",
   "execution_count": 187,
   "id": "220cf722-43e9-463c-9b7e-b13fc1cab732",
   "metadata": {},
   "outputs": [
    {
     "name": "stderr",
     "output_type": "stream",
     "text": [
      "Downloading...\n",
      "From: https://drive.google.com/uc?id=1s2TkjSpzNc4SyxqRrQleZyDIHlc7bxnd\n",
      "To: C:\\Data\\Data_science\\Data Science RIA\\3 Python\\Pandas\\Codes\\movies.csv\n",
      "\n",
      "  0%|          | 0.00/112k [00:00<?, ?B/s]\n",
      "100%|##########| 112k/112k [00:00<00:00, 1.16MB/s]\n"
     ]
    }
   ],
   "source": [
    "!gdown 1s2TkjSpzNc4SyxqRrQleZyDIHlc7bxnd"
   ]
  },
  {
   "cell_type": "code",
   "execution_count": 188,
   "id": "b042964a-7b50-4560-a866-71a2b2cf865d",
   "metadata": {},
   "outputs": [
    {
     "name": "stderr",
     "output_type": "stream",
     "text": [
      "Downloading...\n",
      "From: https://drive.google.com/uc?id=1Ws-_s1fHZ9nHfGLVUQurbHDvStePlEJm\n",
      "To: C:\\Data\\Data_science\\Data Science RIA\\3 Python\\Pandas\\Codes\\directors.csv\n",
      "\n",
      "  0%|          | 0.00/65.4k [00:00<?, ?B/s]\n",
      "100%|##########| 65.4k/65.4k [00:00<00:00, 1.53MB/s]\n"
     ]
    }
   ],
   "source": [
    "!gdown 1Ws-_s1fHZ9nHfGLVUQurbHDvStePlEJm"
   ]
  },
  {
   "cell_type": "code",
   "execution_count": 223,
   "id": "f5c88343-56e6-4611-8468-4a3df7bbb08d",
   "metadata": {},
   "outputs": [],
   "source": [
    "movies = pd.read_csv(\"movies.csv\") # to choose index col throw an argument index_col = 0"
   ]
  },
  {
   "cell_type": "code",
   "execution_count": 224,
   "id": "3393667e-ee96-4c4d-a959-4620660fe78a",
   "metadata": {},
   "outputs": [],
   "source": [
    "directors = pd.read_csv(\"directors.csv\")"
   ]
  },
  {
   "cell_type": "code",
   "execution_count": 225,
   "id": "80c1440c-9ccb-4b62-9277-66eb13493857",
   "metadata": {},
   "outputs": [
    {
     "data": {
      "text/plain": [
       "(1465, 12)"
      ]
     },
     "execution_count": 225,
     "metadata": {},
     "output_type": "execute_result"
    }
   ],
   "source": [
    "movies.shape"
   ]
  },
  {
   "cell_type": "code",
   "execution_count": 226,
   "id": "a697f34a-f335-4a85-8f96-fbcdda2632fe",
   "metadata": {},
   "outputs": [
    {
     "data": {
      "text/plain": [
       "(2349, 4)"
      ]
     },
     "execution_count": 226,
     "metadata": {},
     "output_type": "execute_result"
    }
   ],
   "source": [
    "directors.shape"
   ]
  },
  {
   "cell_type": "code",
   "execution_count": 227,
   "id": "61824b2a-a478-4ea5-b3cc-593b4c7fed44",
   "metadata": {},
   "outputs": [
    {
     "name": "stdout",
     "output_type": "stream",
     "text": [
      "<class 'pandas.core.frame.DataFrame'>\n",
      "RangeIndex: 1465 entries, 0 to 1464\n",
      "Data columns (total 12 columns):\n",
      " #   Column        Non-Null Count  Dtype  \n",
      "---  ------        --------------  -----  \n",
      " 0   Unnamed: 0    1465 non-null   int64  \n",
      " 1   id            1465 non-null   int64  \n",
      " 2   budget        1465 non-null   int64  \n",
      " 3   popularity    1465 non-null   int64  \n",
      " 4   revenue       1465 non-null   int64  \n",
      " 5   title         1465 non-null   object \n",
      " 6   vote_average  1465 non-null   float64\n",
      " 7   vote_count    1465 non-null   int64  \n",
      " 8   director_id   1465 non-null   int64  \n",
      " 9   year          1465 non-null   int64  \n",
      " 10  month         1465 non-null   object \n",
      " 11  day           1465 non-null   object \n",
      "dtypes: float64(1), int64(8), object(3)\n",
      "memory usage: 137.5+ KB\n"
     ]
    }
   ],
   "source": [
    "movies.info()"
   ]
  },
  {
   "cell_type": "code",
   "execution_count": 228,
   "id": "3a423a1e-b081-4e90-bfd6-f8f416c69fca",
   "metadata": {},
   "outputs": [
    {
     "name": "stdout",
     "output_type": "stream",
     "text": [
      "<class 'pandas.core.frame.DataFrame'>\n",
      "RangeIndex: 2349 entries, 0 to 2348\n",
      "Data columns (total 4 columns):\n",
      " #   Column         Non-Null Count  Dtype \n",
      "---  ------         --------------  ----- \n",
      " 0   Unnamed: 0     2349 non-null   int64 \n",
      " 1   director_name  2349 non-null   object\n",
      " 2   id             2349 non-null   int64 \n",
      " 3   gender         1724 non-null   object\n",
      "dtypes: int64(2), object(2)\n",
      "memory usage: 73.5+ KB\n"
     ]
    }
   ],
   "source": [
    "directors.info()"
   ]
  },
  {
   "cell_type": "code",
   "execution_count": 229,
   "id": "8c2354f5-a896-40e3-90a3-c042a9b3e9a0",
   "metadata": {},
   "outputs": [
    {
     "data": {
      "text/plain": [
       "2"
      ]
     },
     "execution_count": 229,
     "metadata": {},
     "output_type": "execute_result"
    }
   ],
   "source": [
    "movies.ndim"
   ]
  },
  {
   "cell_type": "code",
   "execution_count": 230,
   "id": "1ee2bc1d-5645-49a1-8da2-3002eb5a3a1f",
   "metadata": {},
   "outputs": [
    {
     "data": {
      "text/plain": [
       "2"
      ]
     },
     "execution_count": 230,
     "metadata": {},
     "output_type": "execute_result"
    }
   ],
   "source": [
    "directors.ndim"
   ]
  },
  {
   "cell_type": "code",
   "execution_count": 231,
   "id": "47a8c025-9c3c-4e96-8874-ab654ea29a70",
   "metadata": {},
   "outputs": [],
   "source": [
    "movies.drop('Unnamed: 0',axis=1,inplace=True)"
   ]
  },
  {
   "cell_type": "code",
   "execution_count": 232,
   "id": "df3665eb-eabb-4985-89ec-dca2420d587f",
   "metadata": {},
   "outputs": [],
   "source": [
    "directors.drop('Unnamed: 0',axis=1,inplace=True)"
   ]
  },
  {
   "cell_type": "code",
   "execution_count": 234,
   "id": "b4053f62-272a-4a2a-8bd4-b2a377c3d1a0",
   "metadata": {},
   "outputs": [
    {
     "data": {
      "text/html": [
       "<div>\n",
       "<style scoped>\n",
       "    .dataframe tbody tr th:only-of-type {\n",
       "        vertical-align: middle;\n",
       "    }\n",
       "\n",
       "    .dataframe tbody tr th {\n",
       "        vertical-align: top;\n",
       "    }\n",
       "\n",
       "    .dataframe thead th {\n",
       "        text-align: right;\n",
       "    }\n",
       "</style>\n",
       "<table border=\"1\" class=\"dataframe\">\n",
       "  <thead>\n",
       "    <tr style=\"text-align: right;\">\n",
       "      <th></th>\n",
       "      <th>id</th>\n",
       "      <th>budget</th>\n",
       "      <th>popularity</th>\n",
       "      <th>revenue</th>\n",
       "      <th>title</th>\n",
       "      <th>vote_average</th>\n",
       "      <th>vote_count</th>\n",
       "      <th>director_id</th>\n",
       "      <th>year</th>\n",
       "      <th>month</th>\n",
       "      <th>day</th>\n",
       "    </tr>\n",
       "  </thead>\n",
       "  <tbody>\n",
       "    <tr>\n",
       "      <th>59</th>\n",
       "      <td>43693</td>\n",
       "      <td>160000000</td>\n",
       "      <td>167</td>\n",
       "      <td>825532764</td>\n",
       "      <td>Inception</td>\n",
       "      <td>8.1</td>\n",
       "      <td>13752</td>\n",
       "      <td>4765</td>\n",
       "      <td>2010</td>\n",
       "      <td>Jul</td>\n",
       "      <td>Wednesday</td>\n",
       "    </tr>\n",
       "    <tr>\n",
       "      <th>45</th>\n",
       "      <td>43662</td>\n",
       "      <td>185000000</td>\n",
       "      <td>187</td>\n",
       "      <td>1004558444</td>\n",
       "      <td>The Dark Knight</td>\n",
       "      <td>8.2</td>\n",
       "      <td>12002</td>\n",
       "      <td>4765</td>\n",
       "      <td>2008</td>\n",
       "      <td>Jul</td>\n",
       "      <td>Wednesday</td>\n",
       "    </tr>\n",
       "    <tr>\n",
       "      <th>0</th>\n",
       "      <td>43597</td>\n",
       "      <td>237000000</td>\n",
       "      <td>150</td>\n",
       "      <td>2787965087</td>\n",
       "      <td>Avatar</td>\n",
       "      <td>7.2</td>\n",
       "      <td>11800</td>\n",
       "      <td>4762</td>\n",
       "      <td>2009</td>\n",
       "      <td>Dec</td>\n",
       "      <td>Thursday</td>\n",
       "    </tr>\n",
       "    <tr>\n",
       "      <th>58</th>\n",
       "      <td>43692</td>\n",
       "      <td>165000000</td>\n",
       "      <td>724</td>\n",
       "      <td>675120017</td>\n",
       "      <td>Interstellar</td>\n",
       "      <td>8.1</td>\n",
       "      <td>10867</td>\n",
       "      <td>4765</td>\n",
       "      <td>2014</td>\n",
       "      <td>Nov</td>\n",
       "      <td>Wednesday</td>\n",
       "    </tr>\n",
       "    <tr>\n",
       "      <th>178</th>\n",
       "      <td>43884</td>\n",
       "      <td>100000000</td>\n",
       "      <td>82</td>\n",
       "      <td>425368238</td>\n",
       "      <td>Django Unchained</td>\n",
       "      <td>7.8</td>\n",
       "      <td>10099</td>\n",
       "      <td>4927</td>\n",
       "      <td>2012</td>\n",
       "      <td>Dec</td>\n",
       "      <td>Tuesday</td>\n",
       "    </tr>\n",
       "    <tr>\n",
       "      <th>...</th>\n",
       "      <td>...</td>\n",
       "      <td>...</td>\n",
       "      <td>...</td>\n",
       "      <td>...</td>\n",
       "      <td>...</td>\n",
       "      <td>...</td>\n",
       "      <td>...</td>\n",
       "      <td>...</td>\n",
       "      <td>...</td>\n",
       "      <td>...</td>\n",
       "      <td>...</td>\n",
       "    </tr>\n",
       "    <tr>\n",
       "      <th>1431</th>\n",
       "      <td>47962</td>\n",
       "      <td>0</td>\n",
       "      <td>0</td>\n",
       "      <td>0</td>\n",
       "      <td>Walking and Talking</td>\n",
       "      <td>6.6</td>\n",
       "      <td>7</td>\n",
       "      <td>6204</td>\n",
       "      <td>1996</td>\n",
       "      <td>Jul</td>\n",
       "      <td>Wednesday</td>\n",
       "    </tr>\n",
       "    <tr>\n",
       "      <th>879</th>\n",
       "      <td>45373</td>\n",
       "      <td>0</td>\n",
       "      <td>0</td>\n",
       "      <td>0</td>\n",
       "      <td>The Magic Flute</td>\n",
       "      <td>6.9</td>\n",
       "      <td>6</td>\n",
       "      <td>4847</td>\n",
       "      <td>2006</td>\n",
       "      <td>Sep</td>\n",
       "      <td>Thursday</td>\n",
       "    </tr>\n",
       "    <tr>\n",
       "      <th>1438</th>\n",
       "      <td>48145</td>\n",
       "      <td>500000</td>\n",
       "      <td>0</td>\n",
       "      <td>0</td>\n",
       "      <td>Everything Put Together</td>\n",
       "      <td>5.0</td>\n",
       "      <td>2</td>\n",
       "      <td>4773</td>\n",
       "      <td>2001</td>\n",
       "      <td>Nov</td>\n",
       "      <td>Friday</td>\n",
       "    </tr>\n",
       "    <tr>\n",
       "      <th>1440</th>\n",
       "      <td>48155</td>\n",
       "      <td>0</td>\n",
       "      <td>0</td>\n",
       "      <td>0</td>\n",
       "      <td>Alleluia! The Devil's Carnival</td>\n",
       "      <td>6.0</td>\n",
       "      <td>2</td>\n",
       "      <td>6056</td>\n",
       "      <td>2016</td>\n",
       "      <td>Mar</td>\n",
       "      <td>Tuesday</td>\n",
       "    </tr>\n",
       "    <tr>\n",
       "      <th>1378</th>\n",
       "      <td>47387</td>\n",
       "      <td>0</td>\n",
       "      <td>0</td>\n",
       "      <td>0</td>\n",
       "      <td>An Everlasting Piece</td>\n",
       "      <td>6.0</td>\n",
       "      <td>1</td>\n",
       "      <td>5037</td>\n",
       "      <td>2000</td>\n",
       "      <td>Dec</td>\n",
       "      <td>Friday</td>\n",
       "    </tr>\n",
       "  </tbody>\n",
       "</table>\n",
       "<p>1465 rows × 11 columns</p>\n",
       "</div>"
      ],
      "text/plain": [
       "         id     budget  popularity     revenue  \\\n",
       "59    43693  160000000         167   825532764   \n",
       "45    43662  185000000         187  1004558444   \n",
       "0     43597  237000000         150  2787965087   \n",
       "58    43692  165000000         724   675120017   \n",
       "178   43884  100000000          82   425368238   \n",
       "...     ...        ...         ...         ...   \n",
       "1431  47962          0           0           0   \n",
       "879   45373          0           0           0   \n",
       "1438  48145     500000           0           0   \n",
       "1440  48155          0           0           0   \n",
       "1378  47387          0           0           0   \n",
       "\n",
       "                               title  vote_average  vote_count  director_id  \\\n",
       "59                         Inception           8.1       13752         4765   \n",
       "45                   The Dark Knight           8.2       12002         4765   \n",
       "0                             Avatar           7.2       11800         4762   \n",
       "58                      Interstellar           8.1       10867         4765   \n",
       "178                 Django Unchained           7.8       10099         4927   \n",
       "...                              ...           ...         ...          ...   \n",
       "1431             Walking and Talking           6.6           7         6204   \n",
       "879                  The Magic Flute           6.9           6         4847   \n",
       "1438         Everything Put Together           5.0           2         4773   \n",
       "1440  Alleluia! The Devil's Carnival           6.0           2         6056   \n",
       "1378            An Everlasting Piece           6.0           1         5037   \n",
       "\n",
       "      year month        day  \n",
       "59    2010   Jul  Wednesday  \n",
       "45    2008   Jul  Wednesday  \n",
       "0     2009   Dec   Thursday  \n",
       "58    2014   Nov  Wednesday  \n",
       "178   2012   Dec    Tuesday  \n",
       "...    ...   ...        ...  \n",
       "1431  1996   Jul  Wednesday  \n",
       "879   2006   Sep   Thursday  \n",
       "1438  2001   Nov     Friday  \n",
       "1440  2016   Mar    Tuesday  \n",
       "1378  2000   Dec     Friday  \n",
       "\n",
       "[1465 rows x 11 columns]"
      ]
     },
     "execution_count": 234,
     "metadata": {},
     "output_type": "execute_result"
    }
   ],
   "source": [
    "movies.sort_values('vote_count',ascending=False)"
   ]
  },
  {
   "cell_type": "code",
   "execution_count": null,
   "id": "0d6988e1-15e7-4306-a0b2-9a0353b1354d",
   "metadata": {},
   "outputs": [],
   "source": []
  },
  {
   "cell_type": "code",
   "execution_count": null,
   "id": "4152d11e-e8f5-4261-95cc-84ca8f407e8e",
   "metadata": {},
   "outputs": [],
   "source": []
  },
  {
   "cell_type": "code",
   "execution_count": null,
   "id": "4f94a0ad-e12b-48d6-900d-cb5fab112f92",
   "metadata": {},
   "outputs": [],
   "source": []
  }
 ],
 "metadata": {
  "kernelspec": {
   "display_name": "Python 3 (ipykernel)",
   "language": "python",
   "name": "python3"
  },
  "language_info": {
   "codemirror_mode": {
    "name": "ipython",
    "version": 3
   },
   "file_extension": ".py",
   "mimetype": "text/x-python",
   "name": "python",
   "nbconvert_exporter": "python",
   "pygments_lexer": "ipython3",
   "version": "3.12.0"
  }
 },
 "nbformat": 4,
 "nbformat_minor": 5
}
