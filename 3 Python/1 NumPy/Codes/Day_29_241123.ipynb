{
 "cells": [
  {
   "cell_type": "markdown",
   "id": "3a49c3b7-bd3d-424a-ac8e-c9b38deaa0af",
   "metadata": {},
   "source": [
    "#### Logical Functions"
   ]
  },
  {
   "cell_type": "code",
   "execution_count": 1,
   "id": "c920cff9-361d-4d4e-9be1-d5867581268d",
   "metadata": {},
   "outputs": [],
   "source": [
    "import numpy as np"
   ]
  },
  {
   "cell_type": "code",
   "execution_count": 2,
   "id": "d0b70766-08db-4e70-9293-e011f8efc69e",
   "metadata": {},
   "outputs": [],
   "source": [
    "a  = np.array([6,4,5,0])\n",
    "b = np.array([4,3,2,1])"
   ]
  },
  {
   "cell_type": "code",
   "execution_count": 3,
   "id": "1c1041df-f942-4eef-b809-d383dd65e55c",
   "metadata": {},
   "outputs": [
    {
     "data": {
      "text/plain": [
       "array([False, False, False,  True])"
      ]
     },
     "execution_count": 3,
     "metadata": {},
     "output_type": "execute_result"
    }
   ],
   "source": [
    "a < b"
   ]
  },
  {
   "cell_type": "markdown",
   "id": "107ddfc3-a794-4ada-bc01-571b3d19b385",
   "metadata": {},
   "source": [
    "#### any function will return true if one condition is True otherwise it will return False"
   ]
  },
  {
   "cell_type": "code",
   "execution_count": 4,
   "id": "c7e5ece9-235f-4d20-b5bb-fde41ec8e9ad",
   "metadata": {},
   "outputs": [
    {
     "data": {
      "text/plain": [
       "True"
      ]
     },
     "execution_count": 4,
     "metadata": {},
     "output_type": "execute_result"
    }
   ],
   "source": [
    "np.any(a<b)"
   ]
  },
  {
   "cell_type": "markdown",
   "id": "365ec455-3a34-4321-bfaa-250628058a43",
   "metadata": {},
   "source": [
    "#### all function will return False if any one condition is False"
   ]
  },
  {
   "cell_type": "code",
   "execution_count": 5,
   "id": "0bde98a9-d536-4060-8335-ac549f1f4081",
   "metadata": {},
   "outputs": [
    {
     "data": {
      "text/plain": [
       "False"
      ]
     },
     "execution_count": 5,
     "metadata": {},
     "output_type": "execute_result"
    }
   ],
   "source": [
    "np.all(a>b)"
   ]
  },
  {
   "cell_type": "markdown",
   "id": "e513d889-7fab-4cda-9abd-ece5b80a25fa",
   "metadata": {},
   "source": [
    "#### Defining 2D Arrays"
   ]
  },
  {
   "cell_type": "code",
   "execution_count": 6,
   "id": "f3fff38d-8762-486c-9dd5-239f654c9929",
   "metadata": {},
   "outputs": [],
   "source": [
    "a = np.array([1,2,3,4,5,6,7,8,9,0,1,1,22,1,22,1])"
   ]
  },
  {
   "cell_type": "code",
   "execution_count": 7,
   "id": "b25bdddd-4309-47e4-82c4-0b5c5d259575",
   "metadata": {},
   "outputs": [
    {
     "data": {
      "text/plain": [
       "array([[1, 2, 3],\n",
       "       [4, 5, 6]])"
      ]
     },
     "execution_count": 7,
     "metadata": {},
     "output_type": "execute_result"
    }
   ],
   "source": [
    "b = np.array([[1,2,3],[4,5,6]])\n",
    "b"
   ]
  },
  {
   "cell_type": "code",
   "execution_count": 8,
   "id": "ebf369de-448a-420e-9293-9e6f9401a141",
   "metadata": {},
   "outputs": [
    {
     "data": {
      "text/plain": [
       "(2, 3)"
      ]
     },
     "execution_count": 8,
     "metadata": {},
     "output_type": "execute_result"
    }
   ],
   "source": [
    "b.shape"
   ]
  },
  {
   "cell_type": "code",
   "execution_count": 9,
   "id": "74c8b7b3-b969-43ef-88c7-bcc28fde235d",
   "metadata": {},
   "outputs": [
    {
     "data": {
      "text/plain": [
       "16"
      ]
     },
     "execution_count": 9,
     "metadata": {},
     "output_type": "execute_result"
    }
   ],
   "source": [
    "a.size"
   ]
  },
  {
   "cell_type": "markdown",
   "id": "1a97103e-ae67-475e-8b2c-04add48c656b",
   "metadata": {},
   "source": [
    "#### Reshaping a 1D array into 2D Array"
   ]
  },
  {
   "cell_type": "code",
   "execution_count": 10,
   "id": "60e0d33d-354c-4aa2-a76e-013ad88bd4f3",
   "metadata": {},
   "outputs": [],
   "source": [
    "a = a.reshape(4,4)"
   ]
  },
  {
   "cell_type": "code",
   "execution_count": 11,
   "id": "4b248e79-9e70-4050-8b93-cbd2a1d5f80b",
   "metadata": {},
   "outputs": [
    {
     "data": {
      "text/plain": [
       "array([[ 1,  2,  3,  4],\n",
       "       [ 5,  6,  7,  8],\n",
       "       [ 9,  0,  1,  1],\n",
       "       [22,  1, 22,  1]])"
      ]
     },
     "execution_count": 11,
     "metadata": {},
     "output_type": "execute_result"
    }
   ],
   "source": [
    "a"
   ]
  },
  {
   "cell_type": "code",
   "execution_count": 12,
   "id": "bfccb4ee-398b-4642-8ae3-67aa12e8ade3",
   "metadata": {},
   "outputs": [],
   "source": [
    "d = np.arange(12).reshape(2,6)"
   ]
  },
  {
   "cell_type": "code",
   "execution_count": 13,
   "id": "4fa1ee85-6ca0-49e6-b2ed-3405013090f2",
   "metadata": {},
   "outputs": [
    {
     "data": {
      "text/plain": [
       "array([[ 0,  1,  2,  3,  4,  5],\n",
       "       [ 6,  7,  8,  9, 10, 11]])"
      ]
     },
     "execution_count": 13,
     "metadata": {},
     "output_type": "execute_result"
    }
   ],
   "source": [
    "d"
   ]
  },
  {
   "cell_type": "markdown",
   "id": "689e343a-e12a-4b18-be93-03ea3a891fe0",
   "metadata": {},
   "source": [
    "#### Transpose of a Matrix"
   ]
  },
  {
   "cell_type": "code",
   "execution_count": 14,
   "id": "7ea8b7c7-3dc9-4ffd-96f9-65e4a1d11e6e",
   "metadata": {},
   "outputs": [
    {
     "data": {
      "text/plain": [
       "array([[ 0,  6],\n",
       "       [ 1,  7],\n",
       "       [ 2,  8],\n",
       "       [ 3,  9],\n",
       "       [ 4, 10],\n",
       "       [ 5, 11]])"
      ]
     },
     "execution_count": 14,
     "metadata": {},
     "output_type": "execute_result"
    }
   ],
   "source": [
    "d.T"
   ]
  },
  {
   "cell_type": "code",
   "execution_count": 15,
   "id": "8146b9f4-c022-495e-be20-86535fce7e93",
   "metadata": {},
   "outputs": [
    {
     "data": {
      "text/plain": [
       "array([[ 1,  5,  9, 22],\n",
       "       [ 2,  6,  0,  1],\n",
       "       [ 3,  7,  1, 22],\n",
       "       [ 4,  8,  1,  1]])"
      ]
     },
     "execution_count": 15,
     "metadata": {},
     "output_type": "execute_result"
    }
   ],
   "source": [
    "a.T"
   ]
  },
  {
   "cell_type": "markdown",
   "id": "6fbf2ee4-0e54-4453-ac40-19f99d5784d0",
   "metadata": {},
   "source": [
    "#### Quiz"
   ]
  },
  {
   "cell_type": "code",
   "execution_count": 16,
   "id": "61543b15-74af-4c58-8917-d203c35f0e59",
   "metadata": {},
   "outputs": [
    {
     "data": {
      "text/plain": [
       "array([ 1, -1,  3, -1,  5])"
      ]
     },
     "execution_count": 16,
     "metadata": {},
     "output_type": "execute_result"
    }
   ],
   "source": [
    "c = np.array([1,2,3,4,5])\n",
    "mask = (c%2 ==0)\n",
    "c[mask] = -1\n",
    "c"
   ]
  },
  {
   "cell_type": "markdown",
   "id": "76946b78-03ba-42d8-b62b-e7a6822f142e",
   "metadata": {},
   "source": [
    "#### Decreasing the Dimensions (Flatten)  2D to 1D"
   ]
  },
  {
   "cell_type": "code",
   "execution_count": 17,
   "id": "bf0668a0-7544-4375-93b4-abf59550b506",
   "metadata": {},
   "outputs": [
    {
     "data": {
      "text/plain": [
       "array([[ 1,  2,  3,  4],\n",
       "       [ 5,  6,  7,  8],\n",
       "       [ 9,  0,  1,  1],\n",
       "       [22,  1, 22,  1]])"
      ]
     },
     "execution_count": 17,
     "metadata": {},
     "output_type": "execute_result"
    }
   ],
   "source": [
    "a"
   ]
  },
  {
   "cell_type": "code",
   "execution_count": 18,
   "id": "339fc104-3e73-46b6-b0a0-be473993c8c4",
   "metadata": {},
   "outputs": [
    {
     "data": {
      "text/plain": [
       "array([ 1,  2,  3,  4,  5,  6,  7,  8,  9,  0,  1,  1, 22,  1, 22,  1])"
      ]
     },
     "execution_count": 18,
     "metadata": {},
     "output_type": "execute_result"
    }
   ],
   "source": [
    "a.flatten()"
   ]
  },
  {
   "cell_type": "markdown",
   "id": "379c9d06-aaa7-458f-a3cc-d67af0bba38b",
   "metadata": {},
   "source": [
    "#### Indexing/Slicing over arrays"
   ]
  },
  {
   "cell_type": "code",
   "execution_count": 19,
   "id": "9b740501-6192-4c48-b5da-3ab09294b083",
   "metadata": {},
   "outputs": [
    {
     "data": {
      "text/plain": [
       "array([1, 6, 1])"
      ]
     },
     "execution_count": 19,
     "metadata": {},
     "output_type": "execute_result"
    }
   ],
   "source": [
    "a[[0,1,2],[0,1,2]]"
   ]
  },
  {
   "cell_type": "code",
   "execution_count": 20,
   "id": "b19fceb6-7267-4389-9314-eae5a0b10a16",
   "metadata": {},
   "outputs": [
    {
     "data": {
      "text/plain": [
       "array([[ 1,  2,  3,  4],\n",
       "       [ 5,  6,  7,  8],\n",
       "       [ 9,  0,  1,  1],\n",
       "       [22,  1, 22,  1]])"
      ]
     },
     "execution_count": 20,
     "metadata": {},
     "output_type": "execute_result"
    }
   ],
   "source": [
    "a"
   ]
  },
  {
   "cell_type": "code",
   "execution_count": 21,
   "id": "ab6c432a-f21a-43bd-88c6-1d463fc723fa",
   "metadata": {},
   "outputs": [
    {
     "data": {
      "text/plain": [
       "array([[ 1,  2,  3,  4],\n",
       "       [ 5,  6,  7,  8],\n",
       "       [ 9,  0,  1,  1],\n",
       "       [22,  1, 22,  1]])"
      ]
     },
     "execution_count": 21,
     "metadata": {},
     "output_type": "execute_result"
    }
   ],
   "source": [
    "a[:]"
   ]
  },
  {
   "cell_type": "code",
   "execution_count": 22,
   "id": "b7969cd9-2ef2-4068-9323-140e20c0cf7f",
   "metadata": {},
   "outputs": [
    {
     "data": {
      "text/plain": [
       "array([[1, 2, 3, 4],\n",
       "       [5, 6, 7, 8]])"
      ]
     },
     "execution_count": 22,
     "metadata": {},
     "output_type": "execute_result"
    }
   ],
   "source": [
    "a[0:2] # a[rows : columns]"
   ]
  },
  {
   "cell_type": "code",
   "execution_count": 23,
   "id": "511958db-3603-484e-9148-176be7a7b416",
   "metadata": {},
   "outputs": [
    {
     "data": {
      "text/plain": [
       "array([[7],\n",
       "       [1]])"
      ]
     },
     "execution_count": 23,
     "metadata": {},
     "output_type": "execute_result"
    }
   ],
   "source": [
    "a[1:3,2:3]"
   ]
  },
  {
   "cell_type": "markdown",
   "id": "99e648c4-b1b1-4e9b-b28d-42d3e6190384",
   "metadata": {},
   "source": [
    "#### Masking (Fancy indexing)"
   ]
  },
  {
   "cell_type": "code",
   "execution_count": 24,
   "id": "11ebc388-d0ff-4452-976c-c663ac3ac74c",
   "metadata": {},
   "outputs": [
    {
     "data": {
      "text/plain": [
       "array([[ 3,  4,  5],\n",
       "       [ 6,  7,  8],\n",
       "       [ 9, 22, 22]])"
      ]
     },
     "execution_count": 24,
     "metadata": {},
     "output_type": "execute_result"
    }
   ],
   "source": [
    "a[a>2].reshape(3,3)"
   ]
  },
  {
   "cell_type": "code",
   "execution_count": 25,
   "id": "fa993171-8392-4234-af3e-9bf81524a015",
   "metadata": {},
   "outputs": [
    {
     "data": {
      "text/plain": [
       "array([ 4,  8,  9, 22])"
      ]
     },
     "execution_count": 25,
     "metadata": {},
     "output_type": "execute_result"
    }
   ],
   "source": [
    "np.max(a,axis=1) # When axis = 0 it will consider Column, axis = 1 it will consider row"
   ]
  },
  {
   "cell_type": "code",
   "execution_count": 26,
   "id": "18820fa8-4f42-4569-ae87-d34cf93974fd",
   "metadata": {},
   "outputs": [
    {
     "data": {
      "text/plain": [
       "array([[ 1,  2,  3,  4],\n",
       "       [ 5,  6,  7,  8],\n",
       "       [ 9,  0,  1,  1],\n",
       "       [22,  1, 22,  1]])"
      ]
     },
     "execution_count": 26,
     "metadata": {},
     "output_type": "execute_result"
    }
   ],
   "source": [
    "a"
   ]
  },
  {
   "cell_type": "code",
   "execution_count": 27,
   "id": "dce6af1c-ba10-4139-8ff8-2c254dc05c1c",
   "metadata": {},
   "outputs": [
    {
     "data": {
      "text/plain": [
       "array([10, 26, 11, 46])"
      ]
     },
     "execution_count": 27,
     "metadata": {},
     "output_type": "execute_result"
    }
   ],
   "source": [
    "np.sum(a,axis=1)"
   ]
  },
  {
   "cell_type": "code",
   "execution_count": 28,
   "id": "68265361-db51-493e-b600-8496d87470c5",
   "metadata": {},
   "outputs": [
    {
     "data": {
      "text/plain": [
       "array([[ 1,  2,  3,  4],\n",
       "       [ 5,  6,  7,  8],\n",
       "       [ 0,  1,  1,  9],\n",
       "       [ 1,  1, 22, 22]])"
      ]
     },
     "execution_count": 28,
     "metadata": {},
     "output_type": "execute_result"
    }
   ],
   "source": [
    "np.sort(a) # Default axis is 1 Which is Row"
   ]
  },
  {
   "cell_type": "code",
   "execution_count": 29,
   "id": "54b7fb64-f63f-406e-8e64-925349476e10",
   "metadata": {},
   "outputs": [
    {
     "data": {
      "text/plain": [
       "9"
      ]
     },
     "execution_count": 29,
     "metadata": {},
     "output_type": "execute_result"
    }
   ],
   "source": [
    "np.argmin(a) # argmin will return the index of min value"
   ]
  },
  {
   "cell_type": "code",
   "execution_count": 32,
   "id": "b2bf58bf-9240-4284-844a-697896ce9170",
   "metadata": {},
   "outputs": [
    {
     "data": {
      "text/plain": [
       "array([[ 9,  0, 10, 11, 13, 15,  1,  2,  3,  4,  5,  6,  7,  8, 12, 14]],\n",
       "      dtype=int64)"
      ]
     },
     "execution_count": 32,
     "metadata": {},
     "output_type": "execute_result"
    }
   ],
   "source": [
    "a = a.reshape(1,16)\n",
    "np.argsort(a)"
   ]
  },
  {
   "cell_type": "code",
   "execution_count": null,
   "id": "8cf654aa-c0b5-4a9c-8559-129496e80f3f",
   "metadata": {},
   "outputs": [],
   "source": []
  }
 ],
 "metadata": {
  "kernelspec": {
   "display_name": "Python 3 (ipykernel)",
   "language": "python",
   "name": "python3"
  },
  "language_info": {
   "codemirror_mode": {
    "name": "ipython",
    "version": 3
   },
   "file_extension": ".py",
   "mimetype": "text/x-python",
   "name": "python",
   "nbconvert_exporter": "python",
   "pygments_lexer": "ipython3",
   "version": "3.12.0"
  }
 },
 "nbformat": 4,
 "nbformat_minor": 5
}
