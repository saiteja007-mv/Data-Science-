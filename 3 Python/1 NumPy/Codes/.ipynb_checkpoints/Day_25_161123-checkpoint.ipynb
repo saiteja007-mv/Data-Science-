{
 "cells": [
  {
   "cell_type": "markdown",
   "id": "c4b717cb-c68e-472f-ac7b-d0ed611c5ee4",
   "metadata": {},
   "source": [
    "### Functions"
   ]
  },
  {
   "cell_type": "code",
   "execution_count": 2,
   "id": "0ce2015d-c403-484e-9c3a-d76bb5f9c85b",
   "metadata": {},
   "outputs": [],
   "source": [
    "def greeting_people():\n",
    "    print(\"Hello\")"
   ]
  },
  {
   "cell_type": "code",
   "execution_count": 3,
   "id": "d93f1b65-ce05-4e04-a313-9ecb8037c5b3",
   "metadata": {},
   "outputs": [
    {
     "name": "stdout",
     "output_type": "stream",
     "text": [
      "Hello\n"
     ]
    }
   ],
   "source": [
    "greeting_people()"
   ]
  },
  {
   "cell_type": "code",
   "execution_count": 11,
   "id": "39183ee5-2c6d-4662-a948-a803e64749e3",
   "metadata": {},
   "outputs": [
    {
     "name": "stdin",
     "output_type": "stream",
     "text": [
      "Enter you name: Sharan\n"
     ]
    },
    {
     "name": "stdout",
     "output_type": "stream",
     "text": [
      "Hello Sharan\n"
     ]
    }
   ],
   "source": [
    "def greet_one(name):\n",
    "    print(f\"Hello {name}\")\n",
    "    \n",
    "name = input(\"Enter you name:\")\n",
    "greet_one(name)"
   ]
  },
  {
   "cell_type": "code",
   "execution_count": 13,
   "id": "1c6fa73b-66e0-48e9-9b4d-0018926016b8",
   "metadata": {},
   "outputs": [
    {
     "name": "stdin",
     "output_type": "stream",
     "text": [
      "Enter your name: Sai\n",
      "Enter your age: 22\n",
      "Enter your phone number: 56556677\n",
      "Enter your mail id: sai@gmail.com\n"
     ]
    },
    {
     "name": "stdout",
     "output_type": "stream",
     "text": [
      "Given details are\n",
      "Name:Sai\n",
      "Age:22\n",
      "Phonenumber:56556677\n",
      "Mail id:sai@gmail.com\n"
     ]
    }
   ],
   "source": [
    "def personal_details(name,age,phno,mail):\n",
    "    print(f\"Given details are\\nName:{name}\\nAge:{age}\\nPhonenumber:{phno}\\nMail id:{mail}\")\n",
    "\n",
    "name = input(\"Enter your name:\")\n",
    "age = input(\"Enter your age:\")\n",
    "phno = input(\"Enter your phone number:\")\n",
    "mail = input(\"Enter your mail id:\")\n",
    "personal_details(name,age,phno,mail)"
   ]
  },
  {
   "cell_type": "code",
   "execution_count": 19,
   "id": "53838aee-82c9-4b43-8bca-6a7649605640",
   "metadata": {},
   "outputs": [
    {
     "name": "stdin",
     "output_type": "stream",
     "text": [
      "Enter number 77\n"
     ]
    },
    {
     "name": "stdout",
     "output_type": "stream",
     "text": [
      "77 is odd\n"
     ]
    }
   ],
   "source": [
    "def even_odd():\n",
    "    n = input(\"Enter number\")\n",
    "    try:\n",
    "        if int(n)%2 == 0 or float(n)%2 == 0:\n",
    "            print(f\"{n} is even\")\n",
    "        elif int(n)%2 != 0 or float(n)%2 != 0:\n",
    "            print(f\"{n} is odd\")\n",
    "    except ValueError:\n",
    "        print(\"Enter valid integer\")\n",
    "\n",
    "even_odd()"
   ]
  },
  {
   "cell_type": "code",
   "execution_count": 27,
   "id": "0a1f3c59-1939-4fe0-b72f-15bfd47dc091",
   "metadata": {},
   "outputs": [
    {
     "name": "stdin",
     "output_type": "stream",
     "text": [
      " thrr\n"
     ]
    },
    {
     "name": "stdout",
     "output_type": "stream",
     "text": [
      "It is string\n"
     ]
    }
   ],
   "source": [
    "def own_type(n):\n",
    "    try:\n",
    "        int(n)\n",
    "        print(\"It is integer\")\n",
    "    except ValueError:\n",
    "        try:\n",
    "            float(n)\n",
    "            print(\"It is float\")\n",
    "        except ValueError:\n",
    "            print(\"It is string\")\n",
    "n = input()\n",
    "own_type(n) "
   ]
  }
 ],
 "metadata": {
  "kernelspec": {
   "display_name": "Python 3 (ipykernel)",
   "language": "python",
   "name": "python3"
  },
  "language_info": {
   "codemirror_mode": {
    "name": "ipython",
    "version": 3
   },
   "file_extension": ".py",
   "mimetype": "text/x-python",
   "name": "python",
   "nbconvert_exporter": "python",
   "pygments_lexer": "ipython3",
   "version": "3.12.0"
  }
 },
 "nbformat": 4,
 "nbformat_minor": 5
}
