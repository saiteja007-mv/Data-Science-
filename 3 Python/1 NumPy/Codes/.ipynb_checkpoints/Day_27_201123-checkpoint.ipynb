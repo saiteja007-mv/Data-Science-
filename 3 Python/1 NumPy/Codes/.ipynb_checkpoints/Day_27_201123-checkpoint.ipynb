{
 "cells": [
  {
   "cell_type": "markdown",
   "id": "460ee230-a91a-418a-9bed-0aa2033569ae",
   "metadata": {},
   "source": [
    "# NumPy"
   ]
  },
  {
   "cell_type": "markdown",
   "id": "b7ac57e7-26e0-4fff-a8d3-5a6cf2062782",
   "metadata": {},
   "source": [
    "#### Numerical Python"
   ]
  },
  {
   "cell_type": "markdown",
   "id": "09e0b745-73ef-4bb3-adaf-0eba5e475665",
   "metadata": {},
   "source": [
    "* It is used for complex calculation\n",
    "* It is faster than array\n",
    "* We can perform calculation on 2D, 3D, 4D ......, nDm"
   ]
  },
  {
   "cell_type": "markdown",
   "id": "96edd8d3-341a-47b2-ada1-d61e67dc27a4",
   "metadata": {},
   "source": [
    "#### Initialize the NumPy and Importing NumPy"
   ]
  },
  {
   "cell_type": "code",
   "execution_count": 50,
   "id": "5bf8dc41-f7cf-4c37-bf7d-aa663d72655d",
   "metadata": {},
   "outputs": [
    {
     "name": "stdout",
     "output_type": "stream",
     "text": [
      "Requirement already satisfied: numpy in c:\\data\\env\\lib\\site-packages (1.26.1)\n"
     ]
    }
   ],
   "source": [
    "# Installing NumPy in system\n",
    "!pip install numpy\n",
    "import numpy as np # Importing Numpy"
   ]
  },
  {
   "cell_type": "markdown",
   "id": "026c9cd4-8b84-4083-9dc6-4d37dc65ce67",
   "metadata": {},
   "source": [
    "* How likely do you suggest our product to your friends and family? What would be your preference in this scenario? It ranges from one to nine. One being the least likely and nine being highly likely. Which option do you believe is not at all likely? -"
   ]
  },
  {
   "cell_type": "markdown",
   "id": "67e83ce5-799b-4bc7-87a7-f9465561b925",
   "metadata": {},
   "source": [
    "| 0 1 2 3 4 5 | 6 7 | 8 9 |\n",
    "|-------------|-----|-----|\n",
    "| Detractors  |Neutral|Promoter|"
   ]
  },
  {
   "cell_type": "markdown",
   "id": "c3d5e0eb-c958-4f7d-858e-9dd39b51104b",
   "metadata": {},
   "source": [
    "* NPS Net promoter score = % of Promoter - % of Detractors\n",
    "* NPS will be in the range of -100 to 100"
   ]
  },
  {
   "cell_type": "markdown",
   "id": "b4bc777c-57d2-4076-b83c-95e8ffd7486a",
   "metadata": {},
   "source": [
    "##### Difference of array and list\n",
    "|       Array                        |                List                        |\n",
    "|------------------------------------|--------------------------------------------|\n",
    "|Homogenous [ Same type of data ]    |    Heterogenous [ Different type of data ] |\n",
    "|Fast to Generate and Extract Data   |    Slower Comparitively                    |\n",
    "|Complex Calculation                 |    Simple Calculation                      | "
   ]
  },
  {
   "cell_type": "markdown",
   "id": "e3f1dc06-123e-4d4e-b6b4-9180998964ef",
   "metadata": {},
   "source": [
    "##### Accessing elements of array using memory address\n",
    "* a = a + i * memory\n",
    "* a = 100 + 2 * 8 [ We are going to access the index of 2 element ]\n",
    "* a = 116 [ Memory location is 116 were we can find a ]\n",
    "\n",
    "##### When it comes to list it will get the address and using that address it will again search of element store "
   ]
  },
  {
   "cell_type": "markdown",
   "id": "7cb80300-cb84-41b2-882b-5b59f6e5324d",
   "metadata": {},
   "source": [
    "#### To check the time complexity Python has a magic function %timeit"
   ]
  },
  {
   "cell_type": "markdown",
   "id": "b05ef0cb-05cf-41c8-892c-94824fda2aea",
   "metadata": {},
   "source": [
    "### Time taken to execute the arrays and list"
   ]
  },
  {
   "cell_type": "code",
   "execution_count": 4,
   "id": "abef3b5a-93e7-4641-9545-6b716082e828",
   "metadata": {},
   "outputs": [
    {
     "name": "stdout",
     "output_type": "stream",
     "text": [
      "194 µs ± 2.58 µs per loop (mean ± std. dev. of 7 runs, 10,000 loops each)\n"
     ]
    }
   ],
   "source": [
    "list = range(1000)\n",
    "%timeit [i**2 for i in list]"
   ]
  },
  {
   "cell_type": "code",
   "execution_count": 5,
   "id": "12511ebe-4722-4ae7-b7ef-8fff7ae0caf7",
   "metadata": {},
   "outputs": [
    {
     "name": "stdout",
     "output_type": "stream",
     "text": [
      "3.41 µs ± 131 ns per loop (mean ± std. dev. of 7 runs, 100,000 loops each)\n"
     ]
    }
   ],
   "source": [
    "a = np.array(range(1000))\n",
    "%timeit a**2"
   ]
  },
  {
   "cell_type": "markdown",
   "id": "1da48376-91a8-4adb-898e-22bb96c536cf",
   "metadata": {},
   "source": [
    "### Creating an NumPy array"
   ]
  },
  {
   "cell_type": "code",
   "execution_count": 12,
   "id": "dd4a5127-db67-44f6-8a95-7202a41f3982",
   "metadata": {},
   "outputs": [],
   "source": [
    "a = np.array([[1,2,3,4,5],[3,5,6,4,7]])"
   ]
  },
  {
   "cell_type": "markdown",
   "id": "c66e753a-60bf-4f26-a4a7-b734a175444a",
   "metadata": {},
   "source": [
    "### Dimension of the Array"
   ]
  },
  {
   "cell_type": "code",
   "execution_count": 13,
   "id": "b83815ac-1b65-4196-9c40-8ba4e3e41185",
   "metadata": {},
   "outputs": [
    {
     "data": {
      "text/plain": [
       "2"
      ]
     },
     "execution_count": 13,
     "metadata": {},
     "output_type": "execute_result"
    }
   ],
   "source": [
    "a.ndim"
   ]
  },
  {
   "cell_type": "markdown",
   "id": "02949325-1365-4fe7-bd9c-9ea4baf43eea",
   "metadata": {},
   "source": [
    "### Shape of the Array"
   ]
  },
  {
   "cell_type": "code",
   "execution_count": 14,
   "id": "35b08541-b2ea-4a3f-90d3-7e03d15129ce",
   "metadata": {},
   "outputs": [
    {
     "data": {
      "text/plain": [
       "(2, 5)"
      ]
     },
     "execution_count": 14,
     "metadata": {},
     "output_type": "execute_result"
    }
   ],
   "source": [
    "a.shape"
   ]
  },
  {
   "cell_type": "markdown",
   "id": "8c1534b4-dd5f-491d-b124-482e21d4f8ff",
   "metadata": {},
   "source": [
    "### Total values in the Array"
   ]
  },
  {
   "cell_type": "code",
   "execution_count": 17,
   "id": "6b2b62fd-b2d6-4903-9318-54221d5e286e",
   "metadata": {},
   "outputs": [
    {
     "data": {
      "text/plain": [
       "10"
      ]
     },
     "execution_count": 17,
     "metadata": {},
     "output_type": "execute_result"
    }
   ],
   "source": [
    "a.size"
   ]
  },
  {
   "cell_type": "code",
   "execution_count": 18,
   "id": "a3effab3-8bc9-4df6-9b73-1cc770b98a13",
   "metadata": {},
   "outputs": [
    {
     "data": {
      "text/plain": [
       "2"
      ]
     },
     "execution_count": 18,
     "metadata": {},
     "output_type": "execute_result"
    }
   ],
   "source": [
    "len(a)"
   ]
  },
  {
   "cell_type": "markdown",
   "id": "a584aaad-88b7-4cce-a383-e39e543a7114",
   "metadata": {},
   "source": [
    "### Masking"
   ]
  },
  {
   "cell_type": "code",
   "execution_count": 19,
   "id": "188547bb-c356-4c01-93ce-fee5695b32ce",
   "metadata": {},
   "outputs": [
    {
     "data": {
      "text/plain": [
       "array([4, 5, 6, 7, 8])"
      ]
     },
     "execution_count": 19,
     "metadata": {},
     "output_type": "execute_result"
    }
   ],
   "source": [
    "b = np.array([1,2,3,4,5,6,7,8])\n",
    "b[b>3]"
   ]
  },
  {
   "cell_type": "markdown",
   "id": "fc31d0da-2920-4d51-b734-a7d780a838b3",
   "metadata": {},
   "source": [
    "### Exercise 1: Create a cubes in range 1000 with both array and list get the time difference"
   ]
  },
  {
   "cell_type": "code",
   "execution_count": 20,
   "id": "9837a384-aec7-402a-98e1-75e711799ea5",
   "metadata": {},
   "outputs": [
    {
     "name": "stdout",
     "output_type": "stream",
     "text": [
      "263 µs ± 16.6 µs per loop (mean ± std. dev. of 7 runs, 1,000 loops each)\n",
      "2.37 µs ± 113 ns per loop (mean ± std. dev. of 7 runs, 100,000 loops each)\n",
      "2\n",
      "(2, 4)\n",
      "2\n"
     ]
    }
   ],
   "source": [
    "#List\n",
    "%timeit [x**3 for x in range(1000)]\n",
    "\n",
    "#Array\n",
    "c = np.array(1000)\n",
    "%timeit c**3\n",
    "\n",
    "d2 = np.array([[1,2,9,8],[5,6,7,4]])\n",
    "print(d2.ndim)\n",
    "print(d2.shape)\n",
    "print(len(d2))"
   ]
  },
  {
   "cell_type": "markdown",
   "id": "208b10e2-011f-4fbc-bf40-5dc0f215c525",
   "metadata": {},
   "source": [
    "### If we want to get the step size in float numpy comes handy "
   ]
  },
  {
   "cell_type": "code",
   "execution_count": 26,
   "id": "dd28a800-1f63-405c-ae6f-58fbb2b5a404",
   "metadata": {},
   "outputs": [
    {
     "ename": "TypeError",
     "evalue": "'float' object cannot be interpreted as an integer",
     "output_type": "error",
     "traceback": [
      "\u001b[1;31m---------------------------------------------------------------------------\u001b[0m",
      "\u001b[1;31mTypeError\u001b[0m                                 Traceback (most recent call last)",
      "Cell \u001b[1;32mIn[26], line 1\u001b[0m\n\u001b[1;32m----> 1\u001b[0m [x \u001b[38;5;28;01mfor\u001b[39;00m x \u001b[38;5;129;01min\u001b[39;00m \u001b[38;5;28;43mrange\u001b[39;49m\u001b[43m(\u001b[49m\u001b[38;5;241;43m0\u001b[39;49m\u001b[43m,\u001b[49m\u001b[38;5;241;43m100\u001b[39;49m\u001b[43m,\u001b[49m\u001b[38;5;241;43m0.5\u001b[39;49m\u001b[43m)\u001b[49m] \u001b[38;5;66;03m# It will throw an error for list\u001b[39;00m\n",
      "\u001b[1;31mTypeError\u001b[0m: 'float' object cannot be interpreted as an integer"
     ]
    }
   ],
   "source": [
    "[x for x in range(0,100,0.5)] # It will throw an error for list"
   ]
  },
  {
   "cell_type": "code",
   "execution_count": 33,
   "id": "58ea4013-2ccb-4510-b28e-7f1b4b42c494",
   "metadata": {},
   "outputs": [
    {
     "data": {
      "text/plain": [
       "array([ 0. ,  0.5,  1. ,  1.5,  2. ,  2.5,  3. ,  3.5,  4. ,  4.5,  5. ,\n",
       "        5.5,  6. ,  6.5,  7. ,  7.5,  8. ,  8.5,  9. ,  9.5, 10. , 10.5,\n",
       "       11. , 11.5, 12. , 12.5, 13. , 13.5, 14. , 14.5, 15. , 15.5, 16. ,\n",
       "       16.5, 17. , 17.5, 18. , 18.5, 19. , 19.5, 20. , 20.5, 21. , 21.5,\n",
       "       22. , 22.5, 23. , 23.5, 24. , 24.5, 25. , 25.5, 26. , 26.5, 27. ,\n",
       "       27.5, 28. , 28.5, 29. , 29.5, 30. , 30.5, 31. , 31.5, 32. , 32.5,\n",
       "       33. , 33.5, 34. , 34.5, 35. , 35.5, 36. , 36.5, 37. , 37.5, 38. ,\n",
       "       38.5, 39. , 39.5, 40. , 40.5, 41. , 41.5, 42. , 42.5, 43. , 43.5,\n",
       "       44. , 44.5, 45. , 45.5, 46. , 46.5, 47. , 47.5, 48. , 48.5, 49. ,\n",
       "       49.5, 50. , 50.5, 51. , 51.5, 52. , 52.5, 53. , 53.5, 54. , 54.5,\n",
       "       55. , 55.5, 56. , 56.5, 57. , 57.5, 58. , 58.5, 59. , 59.5, 60. ,\n",
       "       60.5, 61. , 61.5, 62. , 62.5, 63. , 63.5, 64. , 64.5, 65. , 65.5,\n",
       "       66. , 66.5, 67. , 67.5, 68. , 68.5, 69. , 69.5, 70. , 70.5, 71. ,\n",
       "       71.5, 72. , 72.5, 73. , 73.5, 74. , 74.5, 75. , 75.5, 76. , 76.5,\n",
       "       77. , 77.5, 78. , 78.5, 79. , 79.5, 80. , 80.5, 81. , 81.5, 82. ,\n",
       "       82.5, 83. , 83.5, 84. , 84.5, 85. , 85.5, 86. , 86.5, 87. , 87.5,\n",
       "       88. , 88.5, 89. , 89.5, 90. , 90.5, 91. , 91.5, 92. , 92.5, 93. ,\n",
       "       93.5, 94. , 94.5, 95. , 95.5, 96. , 96.5, 97. , 97.5, 98. , 98.5,\n",
       "       99. , 99.5])"
      ]
     },
     "execution_count": 33,
     "metadata": {},
     "output_type": "execute_result"
    }
   ],
   "source": [
    "x = np.arange(0,100,0.5)\n",
    "x"
   ]
  },
  {
   "cell_type": "markdown",
   "id": "b94e72eb-4c8c-4ee9-a7b1-9c311702dabd",
   "metadata": {},
   "source": [
    "#### We have to use '&' when we are checking two different condition to single element, 'and' can be used for comparaing two elements"
   ]
  },
  {
   "cell_type": "code",
   "execution_count": 48,
   "id": "ce7c014a-9a82-4e2e-98ab-01db14882c53",
   "metadata": {},
   "outputs": [
    {
     "data": {
      "text/plain": [
       "array([ 0., 10., 20., 30., 40., 50., 60., 70., 80., 90.])"
      ]
     },
     "execution_count": 48,
     "metadata": {},
     "output_type": "execute_result"
    }
   ],
   "source": [
    "x = np.arange(0,100,0.5)\n",
    "x[(x%2 == 0) & (x%5 ==0)]"
   ]
  }
 ],
 "metadata": {
  "kernelspec": {
   "display_name": "Python 3 (ipykernel)",
   "language": "python",
   "name": "python3"
  },
  "language_info": {
   "codemirror_mode": {
    "name": "ipython",
    "version": 3
   },
   "file_extension": ".py",
   "mimetype": "text/x-python",
   "name": "python",
   "nbconvert_exporter": "python",
   "pygments_lexer": "ipython3",
   "version": "3.12.0"
  }
 },
 "nbformat": 4,
 "nbformat_minor": 5
}
