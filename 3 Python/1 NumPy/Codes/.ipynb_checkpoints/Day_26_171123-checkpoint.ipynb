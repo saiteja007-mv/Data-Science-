{
 "cells": [
  {
   "cell_type": "markdown",
   "id": "506c0068-30ba-4b9c-898f-99027c7ab860",
   "metadata": {},
   "source": [
    "# Functions "
   ]
  },
  {
   "cell_type": "markdown",
   "id": "3dc2644d-16e9-4623-9f2f-28802af40b1a",
   "metadata": {},
   "source": [
    "* Arguments can be given using positional and keyword "
   ]
  },
  {
   "cell_type": "markdown",
   "id": "afd35062-9fb0-4649-a6fd-565f814775df",
   "metadata": {},
   "source": [
    "* While passing arguments first we have to pass positional first and then keyworded arguments"
   ]
  },
  {
   "cell_type": "code",
   "execution_count": 8,
   "id": "7fd285c4-e988-4c24-846d-00270f8de031",
   "metadata": {},
   "outputs": [
    {
     "name": "stdout",
     "output_type": "stream",
     "text": [
      "Auto\n",
      "Q8\n",
      "2000\n"
     ]
    }
   ],
   "source": [
    "model = 'Q8'\n",
    "name = 'Audi'\n",
    "def car_spec(name, model, year):\n",
    "    name = 'Auto'\n",
    "    print(f\"{name}\")\n",
    "    print(f\"{model}\")\n",
    "    print(f\"{year}\")\n",
    "car_spec(name,model,year=2000)"
   ]
  },
  {
   "cell_type": "code",
   "execution_count": 6,
   "id": "afb427eb-526c-4b1b-b578-efc94dfec02d",
   "metadata": {},
   "outputs": [
    {
     "name": "stdout",
     "output_type": "stream",
     "text": [
      "Benz\n",
      "800\n",
      "2019\n"
     ]
    }
   ],
   "source": [
    "car_spec(year=2019, name='Benz',model = '800')"
   ]
  },
  {
   "cell_type": "code",
   "execution_count": 12,
   "id": "4f118653-fbcf-4cdb-b108-dd1297fe1509",
   "metadata": {},
   "outputs": [
    {
     "name": "stdout",
     "output_type": "stream",
     "text": [
      "Multiplication of two numbers: 30\n"
     ]
    }
   ],
   "source": [
    "def multi(a,b):\n",
    "    res = a*b\n",
    "    print(\"Multiplication of two numbers:\",res)\n",
    "    return 1\n",
    "ret = multi(3,10)"
   ]
  },
  {
   "cell_type": "markdown",
   "id": "eba43dce-db21-491a-bacf-1bfa5888b17c",
   "metadata": {},
   "source": [
    "# Star Patterns"
   ]
  },
  {
   "cell_type": "markdown",
   "id": "bd9c8c10-c229-4380-b87d-2dd9dba51495",
   "metadata": {},
   "source": [
    "#### Right Angle triangle"
   ]
  },
  {
   "cell_type": "code",
   "execution_count": 34,
   "id": "68028f93-1309-4a83-97ff-ff6f6ed18af9",
   "metadata": {},
   "outputs": [
    {
     "name": "stdin",
     "output_type": "stream",
     "text": [
      "No of rows want: 4\n"
     ]
    },
    {
     "name": "stdout",
     "output_type": "stream",
     "text": [
      "* \n",
      "* * \n",
      "* * * \n",
      "* * * * \n"
     ]
    }
   ],
   "source": [
    "n = int(input(\"No of rows want:\"))\n",
    "for i in range(1,n+1):\n",
    "    for k in range(i):\n",
    "        print(\"*\",end=\" \")\n",
    "    print()"
   ]
  },
  {
   "cell_type": "markdown",
   "id": "f231fa92-1e9d-465d-aa7a-29b02ff42ed2",
   "metadata": {},
   "source": [
    "#### Reverse Mirror right angled triangle"
   ]
  },
  {
   "cell_type": "code",
   "execution_count": 43,
   "id": "02669514-340c-4997-9966-e3e358653541",
   "metadata": {},
   "outputs": [
    {
     "name": "stdin",
     "output_type": "stream",
     "text": [
      "No of rows want: 9\n"
     ]
    },
    {
     "name": "stdout",
     "output_type": "stream",
     "text": [
      " ********* \n",
      "  ******** \n",
      "   ******* \n",
      "    ****** \n",
      "     ***** \n",
      "      **** \n",
      "       *** \n",
      "        ** \n",
      "         * \n"
     ]
    }
   ],
   "source": [
    "n = int(input(\"No of rows want:\"))\n",
    "for i in range(1,n+1):\n",
    "    print(\" \"*(i-1),\"*\"*n,end=\" \")\n",
    "    n -= 1\n",
    "    print()\n",
    "      "
   ]
  },
  {
   "cell_type": "markdown",
   "id": "b5fd9566-175e-4ec6-96d4-4395edd7728f",
   "metadata": {},
   "source": [
    "#### Reversed Equilateral Triangle"
   ]
  },
  {
   "cell_type": "code",
   "execution_count": 70,
   "id": "1ba5915e-4de4-43cf-bad5-a065e65cd15c",
   "metadata": {},
   "outputs": [
    {
     "name": "stdin",
     "output_type": "stream",
     "text": [
      "No of rows want: 10\n"
     ]
    },
    {
     "name": "stdout",
     "output_type": "stream",
     "text": [
      " ********** \n",
      "  ******** \n",
      "   ****** \n",
      "    **** \n",
      "     ** \n",
      "      *        \n",
      "        \n",
      "         \n",
      "          \n",
      "           \n"
     ]
    }
   ],
   "source": [
    "n = int(input(\"No of rows want:\"))\n",
    "for i in range(1,n+1):\n",
    "    print(\" \"*(i-1),\"*\"*n,end=\" \")\n",
    "    n -= 2\n",
    "    print()\n",
    "    if n==0:\n",
    "        print(\" \"*(i),\"*\",end=\" \")"
   ]
  },
  {
   "cell_type": "markdown",
   "id": "29c56830-a03f-4d47-abdb-25af86e414a0",
   "metadata": {},
   "source": [
    "#### Equilateral Triangle"
   ]
  },
  {
   "cell_type": "code",
   "execution_count": 76,
   "id": "73358644-41e8-45a7-b026-23989f22a782",
   "metadata": {},
   "outputs": [
    {
     "name": "stdin",
     "output_type": "stream",
     "text": [
      "No of rows want: 10\n"
     ]
    },
    {
     "name": "stdout",
     "output_type": "stream",
     "text": [
      "           * \n",
      "          * * \n",
      "         * * * \n",
      "        * * * * \n",
      "       * * * * * \n",
      "      * * * * * * \n",
      "     * * * * * * * \n",
      "    * * * * * * * * \n",
      "   * * * * * * * * * \n",
      "  * * * * * * * * * * \n"
     ]
    }
   ],
   "source": [
    "n = int(input(\"No of rows want:\"))\n",
    "for i in range(1,n+1):\n",
    "    print(\" \"*n,end=\" \")\n",
    "    n -= 1\n",
    "    for k in range(i):\n",
    "        print(\"*\",end=\" \")        \n",
    "    print()"
   ]
  },
  {
   "cell_type": "markdown",
   "id": "3ffa27db-7875-489a-b95f-3af0b047bda8",
   "metadata": {},
   "source": [
    "#### Names in Stars"
   ]
  },
  {
   "cell_type": "code",
   "execution_count": 91,
   "id": "6f7afc34-63b8-41b2-9310-b3d534116df2",
   "metadata": {},
   "outputs": [
    {
     "name": "stdin",
     "output_type": "stream",
     "text": [
      "Enter your name:  KGF\n"
     ]
    },
    {
     "name": "stdout",
     "output_type": "stream",
     "text": [
      "*   *   ****  *****  \n",
      "*  *   *      *      \n",
      "***    *  **  ****   \n",
      "*  *   *   *  *      \n",
      "*   *   ***   *      \n"
     ]
    }
   ],
   "source": [
    "letter_patterns = {\n",
    "    'A': [\"  *  \", \" * * \", \"*   *\", \"*****\", \"*   *\", \"*   *\"],\n",
    "    'B': [\"**** \", \"*   *\", \"**** \", \"*   *\", \"**** \"],\n",
    "    'C': [\" *** \", \"*   *\", \"*    \", \"*   *\", \" *** \"],\n",
    "    'D': [\"**** \", \"*   *\", \"*   *\", \"*   *\", \"**** \"],\n",
    "    'E': [\"*****\", \"*    \", \"**** \", \"*    \", \"*****\"],\n",
    "    'F': [\"*****\", \"*    \", \"**** \", \"*    \", \"*    \"],\n",
    "    'G': [\" ****\", \"*    \", \"*  **\", \"*   *\", \" *** \"],\n",
    "    'H': [\"*   *\", \"*   *\", \"*****\", \"*   *\", \"*   *\"],\n",
    "    'I': [\"*****\", \"  *  \", \"  *  \", \"  *  \", \"*****\"],\n",
    "    'J': [\"  ***\", \"   * \", \"   * \", \"*  * \", \" **  \"],\n",
    "    'K': [\"*   *\", \"*  * \", \"***  \", \"*  * \", \"*   *\"],\n",
    "    'L': [\"*    \", \"*    \", \"*    \", \"*    \", \"*****\"],\n",
    "    'M': [\"*   *\", \"** **\", \"* * *\", \"*   *\", \"*   *\"],\n",
    "    'N': [\"*   *\", \"**  *\", \"* * *\", \"*  **\", \"*   *\"],\n",
    "    'O': [\" *** \", \"*   *\", \"*   *\", \"*   *\", \" *** \"],\n",
    "    'P': [\"**** \", \"*   *\", \"**** \", \"*    \", \"*    \"],\n",
    "    'Q': [\" *** \", \"*   *\", \"* * *\", \"*  **\", \" ** *\"],\n",
    "    'R': [\"**** \", \"*   *\", \"**** \", \"*  * \", \"*   *\"],\n",
    "    'S': [\" ****\", \"*    \", \" *** \", \"    *\", \"**** \"],\n",
    "    'T': [\"*****\", \"  *  \", \"  *  \", \"  *  \", \"  *  \"],\n",
    "    'U': [\"*   *\", \"*   *\", \"*   *\", \"*   *\", \" *** \"],\n",
    "    'V': [\"*   *\", \"*   *\", \" * * \", \" * * \", \"  *  \"],\n",
    "    'W': [\"*   *\", \"*   *\", \"* * *\", \"** **\", \"*   *\"],\n",
    "    'X': [\"*   *\", \" * * \", \"  *  \", \" * * \", \"*   *\"],\n",
    "    'Y': [\"*   *\", \" * * \", \"  *  \", \"  *  \", \"  *  \"],\n",
    "    'Z': [\"*****\", \"   * \", \"  *  \", \" *   \", \"*****\"],\n",
    "    ' ': [\"     \", \"     \", \"     \", \"     \", \"     \"]\n",
    "}\n",
    "\n",
    "name = input(\"Enter your name: \")\n",
    "def star_name(name):\n",
    "    for row in range(5):\n",
    "        for letter in name.upper():\n",
    "            if letter in letter_patterns:\n",
    "                print(letter_patterns[letter][row], end=\"  \")\n",
    "            else:\n",
    "                print(letter_patterns[' '][row], end=\"  \")\n",
    "        print()\n",
    "star_name(name)"
   ]
  },
  {
   "cell_type": "code",
   "execution_count": null,
   "id": "5498e5d2-bcd5-4475-8019-c0674da922f8",
   "metadata": {},
   "outputs": [],
   "source": []
  }
 ],
 "metadata": {
  "kernelspec": {
   "display_name": "Python 3 (ipykernel)",
   "language": "python",
   "name": "python3"
  },
  "language_info": {
   "codemirror_mode": {
    "name": "ipython",
    "version": 3
   },
   "file_extension": ".py",
   "mimetype": "text/x-python",
   "name": "python",
   "nbconvert_exporter": "python",
   "pygments_lexer": "ipython3",
   "version": "3.12.0"
  }
 },
 "nbformat": 4,
 "nbformat_minor": 5
}
