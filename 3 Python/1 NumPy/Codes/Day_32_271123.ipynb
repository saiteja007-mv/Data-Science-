{
 "cells": [
  {
   "cell_type": "code",
   "execution_count": 1,
   "id": "56d22152-cfcb-464d-ab65-e7357c5c4340",
   "metadata": {},
   "outputs": [],
   "source": [
    "import numpy as np"
   ]
  },
  {
   "cell_type": "markdown",
   "id": "544b9b84-1f85-4aca-83c4-95d748c00fec",
   "metadata": {},
   "source": [
    "# Shallow Copy & Deep Copy"
   ]
  },
  {
   "cell_type": "code",
   "execution_count": 2,
   "id": "6c674217-86db-4e98-9b1b-6ded885f695a",
   "metadata": {},
   "outputs": [
    {
     "data": {
      "text/plain": [
       "array([1, 2, 3, 4, 5])"
      ]
     },
     "execution_count": 2,
     "metadata": {},
     "output_type": "execute_result"
    }
   ],
   "source": [
    "a = np.arange(1,6)\n",
    "a"
   ]
  },
  {
   "cell_type": "markdown",
   "id": "045dc93e-e69f-426d-bffd-09a42cf843d9",
   "metadata": {},
   "source": [
    "* Stride is nothing but step size in array"
   ]
  },
  {
   "cell_type": "markdown",
   "id": "ab2831f6-c756-421d-9e24-90e69467da86",
   "metadata": {},
   "source": [
    "#### Shallow Copy - The other variable shares the memory address of a variable "
   ]
  },
  {
   "cell_type": "code",
   "execution_count": 3,
   "id": "9d9a5388-1a64-48ee-b77f-5c85daef7357",
   "metadata": {},
   "outputs": [],
   "source": [
    "b = a"
   ]
  },
  {
   "cell_type": "code",
   "execution_count": 4,
   "id": "187f8acc-b36e-4436-938f-47ef624e8973",
   "metadata": {},
   "outputs": [
    {
     "data": {
      "text/plain": [
       "array([1, 2, 3, 4, 5])"
      ]
     },
     "execution_count": 4,
     "metadata": {},
     "output_type": "execute_result"
    }
   ],
   "source": [
    "b"
   ]
  },
  {
   "cell_type": "markdown",
   "id": "3b241883-6b60-47b5-b8f1-453ea57ba431",
   "metadata": {},
   "source": [
    "* Here assigning a to b is a shallow Copy\n",
    "* But when we made any changes to original array it will create a new adress"
   ]
  },
  {
   "cell_type": "code",
   "execution_count": 5,
   "id": "c83ff210-4a8f-4f6d-b351-bce30e60aa40",
   "metadata": {},
   "outputs": [],
   "source": [
    "x = a+1"
   ]
  },
  {
   "cell_type": "code",
   "execution_count": 6,
   "id": "8075dd6c-fa11-4b82-91ef-c91b8c24b989",
   "metadata": {},
   "outputs": [
    {
     "data": {
      "text/plain": [
       "array([2, 3, 4, 5, 6])"
      ]
     },
     "execution_count": 6,
     "metadata": {},
     "output_type": "execute_result"
    }
   ],
   "source": [
    "x"
   ]
  },
  {
   "cell_type": "code",
   "execution_count": 7,
   "id": "e67e8313-b9a1-4652-bf08-b4875c12ac6a",
   "metadata": {},
   "outputs": [],
   "source": [
    "b = a[::2]"
   ]
  },
  {
   "cell_type": "code",
   "execution_count": 8,
   "id": "41b7d915-45b1-4a59-8669-15b75676d4f3",
   "metadata": {},
   "outputs": [
    {
     "data": {
      "text/plain": [
       "array([1, 3, 5])"
      ]
     },
     "execution_count": 8,
     "metadata": {},
     "output_type": "execute_result"
    }
   ],
   "source": [
    "b"
   ]
  },
  {
   "cell_type": "markdown",
   "id": "d626970f-728f-46e6-b067-5ea9cdf38225",
   "metadata": {},
   "source": [
    "* Here it is shallow copy, The changes will be made in header"
   ]
  },
  {
   "cell_type": "markdown",
   "id": "54702b12-b958-4780-9ac9-e300873c901a",
   "metadata": {},
   "source": [
    "* Initially (a)\n",
    "### Metadata of a\n",
    "| Headers   |           |\n",
    "|-----------|-----------|\n",
    "|   Shape   |   (5,)    |\n",
    "|    ndim   |     1     |\n",
    "|    Size   |      5    |\n",
    "|    Stride |      1    |\n",
    "\n",
    "* After assigning (b)\n",
    "### Metadata of b\n",
    "| Headers   |           |\n",
    "|-----------|-----------|\n",
    "|   Shape   |   (5,)    |\n",
    "|    ndim   |     1     |\n",
    "|    Size   |      5    |\n",
    "|    Stride |      2    |"
   ]
  },
  {
   "cell_type": "code",
   "execution_count": 9,
   "id": "2852464f-44ad-4180-b4fd-c5868c049339",
   "metadata": {},
   "outputs": [],
   "source": [
    "a = np.array([1,2,3,4,5])\n",
    "b = a"
   ]
  },
  {
   "cell_type": "markdown",
   "id": "31b397a5-b90c-4dc6-b311-098770b0c0e0",
   "metadata": {},
   "source": [
    "# Function to check whether Memory Sharing happens or not"
   ]
  },
  {
   "cell_type": "code",
   "execution_count": 10,
   "id": "0e41de49-bb77-4589-97a0-006ead47a4c1",
   "metadata": {},
   "outputs": [
    {
     "data": {
      "text/plain": [
       "True"
      ]
     },
     "execution_count": 10,
     "metadata": {},
     "output_type": "execute_result"
    }
   ],
   "source": [
    "np.shares_memory(a,b)"
   ]
  },
  {
   "cell_type": "code",
   "execution_count": 11,
   "id": "7ce58cb5-21b0-4c7e-9d27-7a85be97ddb7",
   "metadata": {},
   "outputs": [
    {
     "data": {
      "text/plain": [
       "False"
      ]
     },
     "execution_count": 11,
     "metadata": {},
     "output_type": "execute_result"
    }
   ],
   "source": [
    "b = a+1\n",
    "np.shares_memory(a,b)"
   ]
  },
  {
   "cell_type": "markdown",
   "id": "294e2693-cdf3-4b14-845d-288758f6bef9",
   "metadata": {},
   "source": [
    "# Splitting in 1D"
   ]
  },
  {
   "cell_type": "code",
   "execution_count": 12,
   "id": "225ccfb8-d103-48b5-a53e-11fda89f0967",
   "metadata": {},
   "outputs": [
    {
     "name": "stdout",
     "output_type": "stream",
     "text": [
      "[0 1 2 3 4 5 6 7 8]\n"
     ]
    }
   ],
   "source": [
    "a = np.arange(9)\n",
    "print(a)\n",
    "b = np.split(a,3) # Equal Splits"
   ]
  },
  {
   "cell_type": "code",
   "execution_count": 13,
   "id": "515e3f73-c094-49b3-ab78-357843c8d7c1",
   "metadata": {},
   "outputs": [
    {
     "data": {
      "text/plain": [
       "[array([0, 1, 2]), array([3, 4, 5]), array([6, 7, 8])]"
      ]
     },
     "execution_count": 13,
     "metadata": {},
     "output_type": "execute_result"
    }
   ],
   "source": [
    "b"
   ]
  },
  {
   "cell_type": "code",
   "execution_count": 14,
   "id": "91cb053b-2061-4ac2-9eb8-824f2c3fad2c",
   "metadata": {},
   "outputs": [
    {
     "data": {
      "text/plain": [
       "[array([0, 1]), array([2, 3]), array([4, 5, 6]), array([7, 8])]"
      ]
     },
     "execution_count": 14,
     "metadata": {},
     "output_type": "execute_result"
    }
   ],
   "source": [
    "b = np.split(a,(2,4,7)) # Split using Index\n",
    "b"
   ]
  },
  {
   "cell_type": "markdown",
   "id": "1fc42c6b-0982-47ed-8fdf-81bae959e42a",
   "metadata": {},
   "source": [
    "# Splitting in 2D"
   ]
  },
  {
   "cell_type": "code",
   "execution_count": 15,
   "id": "32e720b9-4514-48b0-96c2-c904562baae1",
   "metadata": {},
   "outputs": [
    {
     "data": {
      "text/plain": [
       "array([[ 1,  2,  3,  4],\n",
       "       [ 5,  6,  7,  8],\n",
       "       [ 9, 10, 11, 12],\n",
       "       [13, 14, 15, 16]])"
      ]
     },
     "execution_count": 15,
     "metadata": {},
     "output_type": "execute_result"
    }
   ],
   "source": [
    "x = np.arange(1,17).reshape(4,4)\n",
    "x"
   ]
  },
  {
   "cell_type": "code",
   "execution_count": 16,
   "id": "052c32d3-7018-422b-b035-7e59824fc8b6",
   "metadata": {},
   "outputs": [
    {
     "data": {
      "text/plain": [
       "[array([[1, 2, 3, 4],\n",
       "        [5, 6, 7, 8]]),\n",
       " array([[ 9, 10, 11, 12],\n",
       "        [13, 14, 15, 16]])]"
      ]
     },
     "execution_count": 16,
     "metadata": {},
     "output_type": "execute_result"
    }
   ],
   "source": [
    "np.split(x,2) #Divides into equal rows defaulty with axis = 0"
   ]
  },
  {
   "cell_type": "code",
   "execution_count": 17,
   "id": "35f9714d-28c5-4abd-bf6d-15d2a8bf9c12",
   "metadata": {},
   "outputs": [
    {
     "data": {
      "text/plain": [
       "[array([[ 1,  2],\n",
       "        [ 5,  6],\n",
       "        [ 9, 10],\n",
       "        [13, 14]]),\n",
       " array([[ 3,  4],\n",
       "        [ 7,  8],\n",
       "        [11, 12],\n",
       "        [15, 16]])]"
      ]
     },
     "execution_count": 17,
     "metadata": {},
     "output_type": "execute_result"
    }
   ],
   "source": [
    "np.hsplit(x,2) #Horizontal split"
   ]
  },
  {
   "cell_type": "code",
   "execution_count": 18,
   "id": "139f5f92-601a-444b-a033-a7859a9816bb",
   "metadata": {},
   "outputs": [
    {
     "data": {
      "text/plain": [
       "[array([[1, 2, 3, 4],\n",
       "        [5, 6, 7, 8]]),\n",
       " array([[ 9, 10, 11, 12],\n",
       "        [13, 14, 15, 16]])]"
      ]
     },
     "execution_count": 18,
     "metadata": {},
     "output_type": "execute_result"
    }
   ],
   "source": [
    "np.vsplit(x,2) #Vertical Split"
   ]
  },
  {
   "cell_type": "markdown",
   "id": "b92950e2-17c6-4f55-834a-ad2b56cea161",
   "metadata": {},
   "source": [
    "# Stacking"
   ]
  },
  {
   "cell_type": "code",
   "execution_count": 19,
   "id": "cc341da8-94c2-446e-8361-42c81f179453",
   "metadata": {},
   "outputs": [],
   "source": [
    "a = np.arange(10)"
   ]
  },
  {
   "cell_type": "code",
   "execution_count": 20,
   "id": "8cb6741e-fbc8-4bdc-8fd1-955e6128344a",
   "metadata": {},
   "outputs": [
    {
     "data": {
      "text/plain": [
       "array([[0, 1, 2, 3, 4, 5, 6, 7, 8, 9],\n",
       "       [0, 1, 2, 3, 4, 5, 6, 7, 8, 9],\n",
       "       [0, 1, 2, 3, 4, 5, 6, 7, 8, 9]])"
      ]
     },
     "execution_count": 20,
     "metadata": {},
     "output_type": "execute_result"
    }
   ],
   "source": [
    "np.vstack((a,a,a))"
   ]
  },
  {
   "cell_type": "code",
   "execution_count": 21,
   "id": "fc038adf-72bf-49d2-ac5c-68974918ffe4",
   "metadata": {},
   "outputs": [
    {
     "data": {
      "text/plain": [
       "array([0, 1, 2, 3, 4, 5, 6, 7, 8, 9, 0, 1, 2, 3, 4, 5, 6, 7, 8, 9, 0, 1,\n",
       "       2, 3, 4, 5, 6, 7, 8, 9])"
      ]
     },
     "execution_count": 21,
     "metadata": {},
     "output_type": "execute_result"
    }
   ],
   "source": [
    "np.hstack((a,a,a))"
   ]
  },
  {
   "cell_type": "code",
   "execution_count": 22,
   "id": "06e78eca-db85-4322-af1d-957886c1383c",
   "metadata": {},
   "outputs": [
    {
     "data": {
      "text/plain": [
       "array([[0, 1, 2],\n",
       "       [3, 4, 5],\n",
       "       [6, 7, 8]])"
      ]
     },
     "execution_count": 22,
     "metadata": {},
     "output_type": "execute_result"
    }
   ],
   "source": [
    "z = np.arange(9).reshape(3,3)\n",
    "z"
   ]
  },
  {
   "cell_type": "code",
   "execution_count": 23,
   "id": "5c688441-ea3e-40db-ad8c-bf2a47209adb",
   "metadata": {},
   "outputs": [
    {
     "data": {
      "text/plain": [
       "array([[0, 1, 2],\n",
       "       [3, 4, 5],\n",
       "       [6, 7, 8],\n",
       "       [0, 1, 2],\n",
       "       [3, 4, 5],\n",
       "       [6, 7, 8],\n",
       "       [0, 1, 2],\n",
       "       [3, 4, 5],\n",
       "       [6, 7, 8]])"
      ]
     },
     "execution_count": 23,
     "metadata": {},
     "output_type": "execute_result"
    }
   ],
   "source": [
    "np.vstack((z,z,z))"
   ]
  },
  {
   "cell_type": "code",
   "execution_count": 24,
   "id": "78a10bb4-dd79-4a0c-ab7d-05498a61b332",
   "metadata": {},
   "outputs": [
    {
     "data": {
      "text/plain": [
       "array([[0, 1, 2, 0, 1, 2, 0, 1, 2],\n",
       "       [3, 4, 5, 3, 4, 5, 3, 4, 5],\n",
       "       [6, 7, 8, 6, 7, 8, 6, 7, 8]])"
      ]
     },
     "execution_count": 24,
     "metadata": {},
     "output_type": "execute_result"
    }
   ],
   "source": [
    "np.hstack((z,z,z))"
   ]
  },
  {
   "cell_type": "code",
   "execution_count": 25,
   "id": "1de3bd58-6350-4f52-abe8-c482cc39c628",
   "metadata": {},
   "outputs": [
    {
     "data": {
      "text/plain": [
       "array([[0, 1, 2],\n",
       "       [3, 4, 5],\n",
       "       [6, 7, 8],\n",
       "       [0, 1, 2],\n",
       "       [3, 4, 5],\n",
       "       [6, 7, 8],\n",
       "       [0, 1, 2],\n",
       "       [3, 4, 5],\n",
       "       [6, 7, 8]])"
      ]
     },
     "execution_count": 25,
     "metadata": {},
     "output_type": "execute_result"
    }
   ],
   "source": [
    "np.concatenate((z,z,z),axis=0) #Stacking using concatenate function"
   ]
  },
  {
   "cell_type": "code",
   "execution_count": 26,
   "id": "b34482d0-2043-449f-86e8-1dbb830ab6bc",
   "metadata": {},
   "outputs": [
    {
     "data": {
      "text/plain": [
       "array([0, 1, 2, 3])"
      ]
     },
     "execution_count": 26,
     "metadata": {},
     "output_type": "execute_result"
    }
   ],
   "source": [
    "g = np.arange(0,4)\n",
    "g"
   ]
  },
  {
   "cell_type": "code",
   "execution_count": 27,
   "id": "be0d1e60-791a-4a48-be18-62e4b892f7f2",
   "metadata": {},
   "outputs": [
    {
     "data": {
      "text/plain": [
       "array([[0],\n",
       "       [1],\n",
       "       [2],\n",
       "       [3]])"
      ]
     },
     "execution_count": 27,
     "metadata": {},
     "output_type": "execute_result"
    }
   ],
   "source": [
    "g = np.vstack(g)\n",
    "g"
   ]
  },
  {
   "cell_type": "code",
   "execution_count": 28,
   "id": "120f3034-a024-42cf-b24a-88e63b51156a",
   "metadata": {},
   "outputs": [
    {
     "data": {
      "text/plain": [
       "array([[0, 0, 0],\n",
       "       [1, 1, 1],\n",
       "       [2, 2, 2],\n",
       "       [3, 3, 3]])"
      ]
     },
     "execution_count": 28,
     "metadata": {},
     "output_type": "execute_result"
    }
   ],
   "source": [
    "g = np.concatenate((g,g,g),axis=1)\n",
    "g"
   ]
  },
  {
   "cell_type": "markdown",
   "id": "69a738d8-d7cb-4a52-8888-1690618a38d4",
   "metadata": {},
   "source": [
    "# Broadcasting"
   ]
  },
  {
   "cell_type": "code",
   "execution_count": 29,
   "id": "32960c5a-aac1-4960-b08d-219764577e73",
   "metadata": {},
   "outputs": [
    {
     "data": {
      "text/plain": [
       "array([ 0, 10, 20, 30])"
      ]
     },
     "execution_count": 29,
     "metadata": {},
     "output_type": "execute_result"
    }
   ],
   "source": [
    "a = np.arange(0,40,10)\n",
    "a"
   ]
  },
  {
   "cell_type": "code",
   "execution_count": 30,
   "id": "60663809-d14f-4b7e-bcbd-808435cbbb9e",
   "metadata": {},
   "outputs": [],
   "source": [
    "a = np.vstack((a,a,a))"
   ]
  },
  {
   "cell_type": "code",
   "execution_count": 31,
   "id": "ac0c4831-5089-48d5-aee1-e72085b86af1",
   "metadata": {},
   "outputs": [
    {
     "data": {
      "text/plain": [
       "array([[ 0, 10, 20, 30,  0, 10, 20, 30,  0, 10, 20, 30],\n",
       "       [ 0, 10, 20, 30,  0, 10, 20, 30,  0, 10, 20, 30],\n",
       "       [ 0, 10, 20, 30,  0, 10, 20, 30,  0, 10, 20, 30]])"
      ]
     },
     "execution_count": 31,
     "metadata": {},
     "output_type": "execute_result"
    }
   ],
   "source": [
    "np.hstack((a,a,a))"
   ]
  },
  {
   "cell_type": "code",
   "execution_count": 32,
   "id": "4548930b-22d2-446d-b8a9-36e209fd8809",
   "metadata": {},
   "outputs": [
    {
     "data": {
      "text/plain": [
       "array([[ 0, 10, 20, 30,  0, 10, 20, 30],\n",
       "       [ 0, 10, 20, 30,  0, 10, 20, 30],\n",
       "       [ 0, 10, 20, 30,  0, 10, 20, 30]])"
      ]
     },
     "execution_count": 32,
     "metadata": {},
     "output_type": "execute_result"
    }
   ],
   "source": [
    "np.concatenate((a,a),axis=1)"
   ]
  },
  {
   "cell_type": "code",
   "execution_count": 33,
   "id": "a7f4ab75-b6dd-47b0-b2ba-c8ff368da7f3",
   "metadata": {},
   "outputs": [
    {
     "data": {
      "text/plain": [
       "array([[ 0, 10, 20, 30,  0, 10, 20, 30,  0, 10, 20, 30],\n",
       "       [ 0, 10, 20, 30,  0, 10, 20, 30,  0, 10, 20, 30],\n",
       "       [ 0, 10, 20, 30,  0, 10, 20, 30,  0, 10, 20, 30],\n",
       "       [ 0, 10, 20, 30,  0, 10, 20, 30,  0, 10, 20, 30],\n",
       "       [ 0, 10, 20, 30,  0, 10, 20, 30,  0, 10, 20, 30],\n",
       "       [ 0, 10, 20, 30,  0, 10, 20, 30,  0, 10, 20, 30],\n",
       "       [ 0, 10, 20, 30,  0, 10, 20, 30,  0, 10, 20, 30],\n",
       "       [ 0, 10, 20, 30,  0, 10, 20, 30,  0, 10, 20, 30],\n",
       "       [ 0, 10, 20, 30,  0, 10, 20, 30,  0, 10, 20, 30]])"
      ]
     },
     "execution_count": 33,
     "metadata": {},
     "output_type": "execute_result"
    }
   ],
   "source": [
    "np.tile(a,(3,3))"
   ]
  },
  {
   "cell_type": "code",
   "execution_count": 34,
   "id": "dbeb4d2c-8b27-47f8-afb2-53f2de791c69",
   "metadata": {},
   "outputs": [
    {
     "data": {
      "text/plain": [
       "array([[ 0, 10, 20, 30,  0, 10, 20, 30],\n",
       "       [ 0, 10, 20, 30,  0, 10, 20, 30],\n",
       "       [ 0, 10, 20, 30,  0, 10, 20, 30],\n",
       "       [ 0, 10, 20, 30,  0, 10, 20, 30],\n",
       "       [ 0, 10, 20, 30,  0, 10, 20, 30],\n",
       "       [ 0, 10, 20, 30,  0, 10, 20, 30],\n",
       "       [ 0, 10, 20, 30,  0, 10, 20, 30],\n",
       "       [ 0, 10, 20, 30,  0, 10, 20, 30],\n",
       "       [ 0, 10, 20, 30,  0, 10, 20, 30]])"
      ]
     },
     "execution_count": 34,
     "metadata": {},
     "output_type": "execute_result"
    }
   ],
   "source": [
    "np.tile(a,(3,2))"
   ]
  },
  {
   "cell_type": "markdown",
   "id": "c362f7f9-9667-4477-aab2-409cc5a354c5",
   "metadata": {},
   "source": [
    "## Case 1 "
   ]
  },
  {
   "cell_type": "code",
   "execution_count": 35,
   "id": "7ee14a06-d810-4446-ad6d-f6ea3daf0cea",
   "metadata": {},
   "outputs": [
    {
     "data": {
      "text/plain": [
       "array([[ 0, 10, 20, 30],\n",
       "       [ 0, 10, 20, 30],\n",
       "       [ 0, 10, 20, 30]])"
      ]
     },
     "execution_count": 35,
     "metadata": {},
     "output_type": "execute_result"
    }
   ],
   "source": [
    "a"
   ]
  },
  {
   "cell_type": "code",
   "execution_count": 36,
   "id": "a3aeda85-6480-4e8b-a940-a7eabe9d6c4a",
   "metadata": {},
   "outputs": [
    {
     "data": {
      "text/plain": [
       "array([[ 0, 10, 20, 30],\n",
       "       [ 0, 10, 20, 30],\n",
       "       [ 0, 10, 20, 30]])"
      ]
     },
     "execution_count": 36,
     "metadata": {},
     "output_type": "execute_result"
    }
   ],
   "source": [
    "v = np.vstack(a)\n",
    "v"
   ]
  },
  {
   "cell_type": "code",
   "execution_count": 37,
   "id": "63da9606-8af7-49bf-a281-90a1ad901d47",
   "metadata": {},
   "outputs": [
    {
     "data": {
      "text/plain": [
       "array([[ 0, 10, 20, 30,  0, 10, 20, 30,  0, 10, 20, 30],\n",
       "       [ 0, 10, 20, 30,  0, 10, 20, 30,  0, 10, 20, 30],\n",
       "       [ 0, 10, 20, 30,  0, 10, 20, 30,  0, 10, 20, 30]])"
      ]
     },
     "execution_count": 37,
     "metadata": {},
     "output_type": "execute_result"
    }
   ],
   "source": [
    "j = np.concatenate((v,v),axis =1)\n",
    "j"
   ]
  },
  {
   "cell_type": "code",
   "execution_count": 38,
   "id": "18ae536b-14f0-467c-92f6-edaa1ae90375",
   "metadata": {},
   "outputs": [
    {
     "data": {
      "text/plain": [
       "array([0, 1, 2])"
      ]
     },
     "execution_count": 38,
     "metadata": {},
     "output_type": "execute_result"
    }
   ],
   "source": [
    "i = np.arange(0,3)\n",
    "i"
   ]
  },
  {
   "cell_type": "code",
   "execution_count": 39,
   "id": "715e582c-8c27-4e92-8105-ca135261fb4d",
   "metadata": {},
   "outputs": [
    {
     "ename": "ValueError",
     "evalue": "operands could not be broadcast together with shapes (3,12) (3,) ",
     "output_type": "error",
     "traceback": [
      "\u001b[1;31m---------------------------------------------------------------------------\u001b[0m",
      "\u001b[1;31mValueError\u001b[0m                                Traceback (most recent call last)",
      "Cell \u001b[1;32mIn[39], line 1\u001b[0m\n\u001b[1;32m----> 1\u001b[0m \u001b[43mj\u001b[49m\u001b[38;5;241;43m+\u001b[39;49m\u001b[43mi\u001b[49m\n",
      "\u001b[1;31mValueError\u001b[0m: operands could not be broadcast together with shapes (3,12) (3,) "
     ]
    }
   ],
   "source": [
    "j+i"
   ]
  },
  {
   "cell_type": "markdown",
   "id": "d6edf63d-5336-44f7-ba75-3b1b1cb45fc3",
   "metadata": {},
   "source": [
    "## Case 2"
   ]
  },
  {
   "cell_type": "code",
   "execution_count": 40,
   "id": "6fa2c89c-fbb7-488f-b7d6-01562035f450",
   "metadata": {},
   "outputs": [
    {
     "data": {
      "text/plain": [
       "array([[ 0, 10, 20, 30,  0, 10, 20, 30,  0, 10, 20, 30],\n",
       "       [ 0, 10, 20, 30,  0, 10, 20, 30,  0, 10, 20, 30],\n",
       "       [ 0, 10, 20, 30,  0, 10, 20, 30,  0, 10, 20, 30]])"
      ]
     },
     "execution_count": 40,
     "metadata": {},
     "output_type": "execute_result"
    }
   ],
   "source": [
    "j"
   ]
  },
  {
   "cell_type": "code",
   "execution_count": 41,
   "id": "f2502cb8-298d-4457-a722-cdfbf9b70084",
   "metadata": {},
   "outputs": [
    {
     "data": {
      "text/plain": [
       "array([[0, 1, 2],\n",
       "       [0, 1, 2],\n",
       "       [0, 1, 2],\n",
       "       [0, 1, 2]])"
      ]
     },
     "execution_count": 41,
     "metadata": {},
     "output_type": "execute_result"
    }
   ],
   "source": [
    "k = np.vstack((i,i,i,i))\n",
    "k"
   ]
  },
  {
   "cell_type": "code",
   "execution_count": 42,
   "id": "3b61e02e-2a20-478b-9a3d-9a2784ef1546",
   "metadata": {},
   "outputs": [
    {
     "ename": "ValueError",
     "evalue": "operands could not be broadcast together with shapes (3,12) (4,3) ",
     "output_type": "error",
     "traceback": [
      "\u001b[1;31m---------------------------------------------------------------------------\u001b[0m",
      "\u001b[1;31mValueError\u001b[0m                                Traceback (most recent call last)",
      "Cell \u001b[1;32mIn[42], line 1\u001b[0m\n\u001b[1;32m----> 1\u001b[0m \u001b[43mj\u001b[49m\u001b[38;5;241;43m+\u001b[39;49m\u001b[43mk\u001b[49m\n",
      "\u001b[1;31mValueError\u001b[0m: operands could not be broadcast together with shapes (3,12) (4,3) "
     ]
    }
   ],
   "source": [
    "j+k"
   ]
  },
  {
   "cell_type": "markdown",
   "id": "ba4fea2e-d475-47d6-8535-b4bd55a1cc45",
   "metadata": {},
   "source": [
    "## Case 3"
   ]
  },
  {
   "cell_type": "code",
   "execution_count": 43,
   "id": "a1838d2c-2bae-42a1-b1e5-b01c93d0fbf0",
   "metadata": {},
   "outputs": [
    {
     "data": {
      "text/plain": [
       "array([0, 1, 2])"
      ]
     },
     "execution_count": 43,
     "metadata": {},
     "output_type": "execute_result"
    }
   ],
   "source": [
    "i"
   ]
  },
  {
   "cell_type": "code",
   "execution_count": 44,
   "id": "265e4ea5-b85b-4967-b79e-05989a5b94d5",
   "metadata": {},
   "outputs": [
    {
     "data": {
      "text/plain": [
       "array([[ 0, 10, 20, 30],\n",
       "       [ 0, 10, 20, 30],\n",
       "       [ 0, 10, 20, 30]])"
      ]
     },
     "execution_count": 44,
     "metadata": {},
     "output_type": "execute_result"
    }
   ],
   "source": [
    "v"
   ]
  },
  {
   "cell_type": "code",
   "execution_count": 45,
   "id": "6732d979-e925-4f29-9565-f30e26ae6fa5",
   "metadata": {},
   "outputs": [
    {
     "data": {
      "text/plain": [
       "array([[ 0, 10, 20, 30,  0, 10, 20, 30,  0, 10, 20, 30],\n",
       "       [ 0, 10, 20, 30,  0, 10, 20, 30,  0, 10, 20, 30],\n",
       "       [ 0, 10, 20, 30,  0, 10, 20, 30,  0, 10, 20, 30]])"
      ]
     },
     "execution_count": 45,
     "metadata": {},
     "output_type": "execute_result"
    }
   ],
   "source": [
    "o = np.concatenate((v,v,v),axis = 1)\n",
    "o"
   ]
  },
  {
   "cell_type": "code",
   "execution_count": 46,
   "id": "ebf36e87-93e9-414e-b02c-5ebbf401fe76",
   "metadata": {},
   "outputs": [
    {
     "data": {
      "text/plain": [
       "array([[0, 1, 2],\n",
       "       [0, 1, 2],\n",
       "       [0, 1, 2],\n",
       "       [0, 1, 2]])"
      ]
     },
     "execution_count": 46,
     "metadata": {},
     "output_type": "execute_result"
    }
   ],
   "source": [
    "p = np.vstack((i,i,i,i))\n",
    "p"
   ]
  },
  {
   "cell_type": "code",
   "execution_count": 47,
   "id": "6482fd0d-3a0e-4677-81a5-d351d3184515",
   "metadata": {},
   "outputs": [
    {
     "ename": "ValueError",
     "evalue": "operands could not be broadcast together with shapes (4,3) (3,12) ",
     "output_type": "error",
     "traceback": [
      "\u001b[1;31m---------------------------------------------------------------------------\u001b[0m",
      "\u001b[1;31mValueError\u001b[0m                                Traceback (most recent call last)",
      "Cell \u001b[1;32mIn[47], line 1\u001b[0m\n\u001b[1;32m----> 1\u001b[0m \u001b[43mp\u001b[49m\u001b[38;5;241;43m+\u001b[39;49m\u001b[43mo\u001b[49m\n",
      "\u001b[1;31mValueError\u001b[0m: operands could not be broadcast together with shapes (4,3) (3,12) "
     ]
    }
   ],
   "source": [
    "p+o"
   ]
  },
  {
   "cell_type": "markdown",
   "id": "bd571e3f-c804-43c0-87a4-b8c9801f3806",
   "metadata": {},
   "source": [
    "# Rule 1 : If two array differ in the number of dimesions, the shape of one with fewer dimensions is padded with ones on its leading (Left side)\n",
    "# Rule 2 : If the shape of two arrays doesnot match in any dimensions, the array with shape equal to 1 is stretched to match the other shape."
   ]
  },
  {
   "cell_type": "code",
   "execution_count": 48,
   "id": "b85155df-dfc1-43e8-ae76-fea07457c5af",
   "metadata": {},
   "outputs": [
    {
     "data": {
      "text/plain": [
       "array([[ 0,  1,  2,  3],\n",
       "       [ 4,  5,  6,  7],\n",
       "       [ 8,  9, 10, 11],\n",
       "       [12, 13, 14, 15]])"
      ]
     },
     "execution_count": 48,
     "metadata": {},
     "output_type": "execute_result"
    }
   ],
   "source": [
    "array = np.arange(16).reshape(4,4)\n",
    "array"
   ]
  },
  {
   "cell_type": "code",
   "execution_count": 49,
   "id": "e1d7e373-23c5-4808-8bfb-eb0660feea71",
   "metadata": {},
   "outputs": [],
   "source": [
    "arr = np.array([0,1,2,3])"
   ]
  },
  {
   "cell_type": "code",
   "execution_count": 50,
   "id": "1fe122b9-fb47-41e1-aadb-688689fe1286",
   "metadata": {},
   "outputs": [
    {
     "data": {
      "text/plain": [
       "array([[ 0,  2,  4,  6],\n",
       "       [ 4,  6,  8, 10],\n",
       "       [ 8, 10, 12, 14],\n",
       "       [12, 14, 16, 18]])"
      ]
     },
     "execution_count": 50,
     "metadata": {},
     "output_type": "execute_result"
    }
   ],
   "source": [
    "array+arr"
   ]
  },
  {
   "cell_type": "code",
   "execution_count": 51,
   "id": "77f7351f-781e-473a-b8f7-3eb0da288616",
   "metadata": {},
   "outputs": [
    {
     "data": {
      "text/plain": [
       "array([0, 1, 2, 3, 4, 5])"
      ]
     },
     "execution_count": 51,
     "metadata": {},
     "output_type": "execute_result"
    }
   ],
   "source": [
    "a = np.arange(6)\n",
    "a"
   ]
  },
  {
   "cell_type": "code",
   "execution_count": 52,
   "id": "72a532d1-0191-4d0b-ab64-bf433a687d73",
   "metadata": {},
   "outputs": [
    {
     "data": {
      "text/plain": [
       "(6,)"
      ]
     },
     "execution_count": 52,
     "metadata": {},
     "output_type": "execute_result"
    }
   ],
   "source": [
    "a.shape"
   ]
  },
  {
   "cell_type": "markdown",
   "id": "98c89cfd-a034-4823-a589-d6a8efe664a1",
   "metadata": {},
   "source": [
    "# Day 33 28-11-23"
   ]
  },
  {
   "cell_type": "markdown",
   "id": "b6d80c9a-0c01-47ef-a81c-3d854706174c",
   "metadata": {},
   "source": [
    "# Other function to increase the dimensions"
   ]
  },
  {
   "cell_type": "code",
   "execution_count": 58,
   "id": "9e9f3b4b-b136-40e9-ba0e-79a8887edbd1",
   "metadata": {},
   "outputs": [],
   "source": [
    "b = np.expand_dims(a,axis=0)"
   ]
  },
  {
   "cell_type": "code",
   "execution_count": 60,
   "id": "c9151e1b-bbe9-4e46-8ed8-3ff1adca93ca",
   "metadata": {},
   "outputs": [
    {
     "name": "stdout",
     "output_type": "stream",
     "text": [
      "[[0 1 2 3 4 5]]\n"
     ]
    },
    {
     "data": {
      "text/plain": [
       "(1, 6)"
      ]
     },
     "execution_count": 60,
     "metadata": {},
     "output_type": "execute_result"
    }
   ],
   "source": [
    "print(b)\n",
    "b.shape"
   ]
  },
  {
   "cell_type": "code",
   "execution_count": 61,
   "id": "58204f34-0aaf-477e-93c0-90eb3fe94133",
   "metadata": {},
   "outputs": [
    {
     "data": {
      "text/plain": [
       "(1, 6)"
      ]
     },
     "execution_count": 61,
     "metadata": {},
     "output_type": "execute_result"
    }
   ],
   "source": [
    "c = a[np.newaxis,:]\n",
    "c.shape"
   ]
  },
  {
   "cell_type": "code",
   "execution_count": 62,
   "id": "ac5a2d2d-3e59-48e0-83a6-fc4e3e5aa0ff",
   "metadata": {},
   "outputs": [
    {
     "data": {
      "text/plain": [
       "array([[0, 1, 2, 3, 4, 5]])"
      ]
     },
     "execution_count": 62,
     "metadata": {},
     "output_type": "execute_result"
    }
   ],
   "source": [
    "c"
   ]
  },
  {
   "cell_type": "code",
   "execution_count": 63,
   "id": "661a7599-b0cd-42ff-8aa7-8f66127cc6a5",
   "metadata": {},
   "outputs": [
    {
     "data": {
      "text/plain": [
       "array([[0],\n",
       "       [1],\n",
       "       [2],\n",
       "       [3],\n",
       "       [4],\n",
       "       [5]])"
      ]
     },
     "execution_count": 63,
     "metadata": {},
     "output_type": "execute_result"
    }
   ],
   "source": [
    "d = a[:,np.newaxis]\n",
    "d"
   ]
  },
  {
   "cell_type": "code",
   "execution_count": 64,
   "id": "af127e2c-2fb4-460d-8e76-a99f5b83fb1f",
   "metadata": {},
   "outputs": [
    {
     "data": {
      "text/plain": [
       "array([[0, 1, 2],\n",
       "       [3, 4, 5]])"
      ]
     },
     "execution_count": 64,
     "metadata": {},
     "output_type": "execute_result"
    }
   ],
   "source": [
    "e = np.arange(6).reshape(2,3)\n",
    "e"
   ]
  },
  {
   "cell_type": "code",
   "execution_count": 65,
   "id": "0df7b8e3-c8b8-4a35-895d-4f9f1919fd12",
   "metadata": {},
   "outputs": [
    {
     "data": {
      "text/plain": [
       "(1, 2, 3)"
      ]
     },
     "execution_count": 65,
     "metadata": {},
     "output_type": "execute_result"
    }
   ],
   "source": [
    "np.expand_dims(e,axis=0).shape"
   ]
  },
  {
   "cell_type": "code",
   "execution_count": 68,
   "id": "7b80e453-002f-402c-b480-05ba0771c14c",
   "metadata": {},
   "outputs": [
    {
     "data": {
      "text/plain": [
       "array([[[0],\n",
       "        [1],\n",
       "        [2]],\n",
       "\n",
       "       [[3],\n",
       "        [4],\n",
       "        [5]]])"
      ]
     },
     "execution_count": 68,
     "metadata": {},
     "output_type": "execute_result"
    }
   ],
   "source": [
    "f = np.arange(6).reshape(2,3)\n",
    "np.expand_dims(f,axis=2)"
   ]
  },
  {
   "cell_type": "markdown",
   "id": "a74cb07f-e8d1-4753-8241-4485ade88503",
   "metadata": {},
   "source": [
    "# Removing Dimensions"
   ]
  },
  {
   "cell_type": "code",
   "execution_count": 78,
   "id": "8b87627c-874e-44ab-9485-588a75739e75",
   "metadata": {},
   "outputs": [
    {
     "data": {
      "text/plain": [
       "array([[0],\n",
       "       [1],\n",
       "       [2],\n",
       "       [3],\n",
       "       [4]])"
      ]
     },
     "execution_count": 78,
     "metadata": {},
     "output_type": "execute_result"
    }
   ],
   "source": [
    "a = np.arange(5)\n",
    "b = np.expand_dims(a,axis=1)\n",
    "b"
   ]
  },
  {
   "cell_type": "code",
   "execution_count": 79,
   "id": "2f493f44-2ce3-4ca6-9b64-c6e32d8d5d54",
   "metadata": {},
   "outputs": [
    {
     "data": {
      "text/plain": [
       "array([0, 1, 2, 3, 4])"
      ]
     },
     "execution_count": 79,
     "metadata": {},
     "output_type": "execute_result"
    }
   ],
   "source": [
    "np.squeeze(b,axis=1)"
   ]
  },
  {
   "cell_type": "code",
   "execution_count": 92,
   "id": "97ce87da-27cb-4983-a99a-246f62822ba9",
   "metadata": {},
   "outputs": [
    {
     "data": {
      "text/plain": [
       "array([[ 0,  1,  2,  3,  4,  5,  6,  7,  8,  9, 10, 11]])"
      ]
     },
     "execution_count": 92,
     "metadata": {},
     "output_type": "execute_result"
    }
   ],
   "source": [
    "k = np.arange(12).reshape(1,12)\n",
    "k"
   ]
  },
  {
   "cell_type": "code",
   "execution_count": 86,
   "id": "c568ad5d-6f95-42a0-ba30-c5636e641371",
   "metadata": {},
   "outputs": [
    {
     "data": {
      "text/plain": [
       "(12,)"
      ]
     },
     "execution_count": 86,
     "metadata": {},
     "output_type": "execute_result"
    }
   ],
   "source": [
    "np.squeeze(k).shape"
   ]
  },
  {
   "cell_type": "markdown",
   "id": "a60ee040-928b-4317-91f0-2eed366bdec8",
   "metadata": {},
   "source": [
    "### NumPy cannot remove the original dimension but can remove the fake dimension"
   ]
  },
  {
   "cell_type": "code",
   "execution_count": 93,
   "id": "db19396f-6536-450d-a387-ca17a9eacf97",
   "metadata": {},
   "outputs": [
    {
     "ename": "ValueError",
     "evalue": "cannot select an axis to squeeze out which has size not equal to one",
     "output_type": "error",
     "traceback": [
      "\u001b[1;31m---------------------------------------------------------------------------\u001b[0m",
      "\u001b[1;31mValueError\u001b[0m                                Traceback (most recent call last)",
      "Cell \u001b[1;32mIn[93], line 1\u001b[0m\n\u001b[1;32m----> 1\u001b[0m \u001b[43mnp\u001b[49m\u001b[38;5;241;43m.\u001b[39;49m\u001b[43msqueeze\u001b[49m\u001b[43m(\u001b[49m\u001b[43mk\u001b[49m\u001b[43m,\u001b[49m\u001b[43maxis\u001b[49m\u001b[38;5;241;43m=\u001b[39;49m\u001b[38;5;241;43m1\u001b[39;49m\u001b[43m)\u001b[49m\u001b[38;5;241m.\u001b[39mshape\n",
      "File \u001b[1;32mC:\\Data\\env\\Lib\\site-packages\\numpy\\core\\fromnumeric.py:1558\u001b[0m, in \u001b[0;36msqueeze\u001b[1;34m(a, axis)\u001b[0m\n\u001b[0;32m   1556\u001b[0m     \u001b[38;5;28;01mreturn\u001b[39;00m squeeze()\n\u001b[0;32m   1557\u001b[0m \u001b[38;5;28;01melse\u001b[39;00m:\n\u001b[1;32m-> 1558\u001b[0m     \u001b[38;5;28;01mreturn\u001b[39;00m \u001b[43msqueeze\u001b[49m\u001b[43m(\u001b[49m\u001b[43maxis\u001b[49m\u001b[38;5;241;43m=\u001b[39;49m\u001b[43maxis\u001b[49m\u001b[43m)\u001b[49m\n",
      "\u001b[1;31mValueError\u001b[0m: cannot select an axis to squeeze out which has size not equal to one"
     ]
    }
   ],
   "source": [
    "np.squeeze(k,axis=1).shape"
   ]
  },
  {
   "cell_type": "code",
   "execution_count": 94,
   "id": "85880e9f-2e47-45e2-9650-88ef6a96b19b",
   "metadata": {},
   "outputs": [
    {
     "data": {
      "text/plain": [
       "array([[[ 0]],\n",
       "\n",
       "       [[ 1]],\n",
       "\n",
       "       [[ 2]],\n",
       "\n",
       "       [[ 3]],\n",
       "\n",
       "       [[ 4]],\n",
       "\n",
       "       [[ 5]],\n",
       "\n",
       "       [[ 6]],\n",
       "\n",
       "       [[ 7]],\n",
       "\n",
       "       [[ 8]],\n",
       "\n",
       "       [[ 9]],\n",
       "\n",
       "       [[10]],\n",
       "\n",
       "       [[11]]])"
      ]
     },
     "execution_count": 94,
     "metadata": {},
     "output_type": "execute_result"
    }
   ],
   "source": [
    "a = np.arange(12).reshape(12,1,1)\n",
    "a"
   ]
  },
  {
   "cell_type": "code",
   "execution_count": 95,
   "id": "b07570d6-4698-48f1-b468-0304904e1337",
   "metadata": {},
   "outputs": [
    {
     "data": {
      "text/plain": [
       "array([[ 0],\n",
       "       [ 1],\n",
       "       [ 2],\n",
       "       [ 3],\n",
       "       [ 4],\n",
       "       [ 5],\n",
       "       [ 6],\n",
       "       [ 7],\n",
       "       [ 8],\n",
       "       [ 9],\n",
       "       [10],\n",
       "       [11]])"
      ]
     },
     "execution_count": 95,
     "metadata": {},
     "output_type": "execute_result"
    }
   ],
   "source": [
    "np.squeeze(a,axis=-1)"
   ]
  },
  {
   "cell_type": "code",
   "execution_count": 98,
   "id": "b44c1a18-d376-4137-8f3a-91195010a128",
   "metadata": {},
   "outputs": [
    {
     "data": {
      "text/plain": [
       "array([[ 0],\n",
       "       [ 1],\n",
       "       [ 2],\n",
       "       [ 3],\n",
       "       [ 4],\n",
       "       [ 5],\n",
       "       [ 6],\n",
       "       [ 7],\n",
       "       [ 8],\n",
       "       [ 9],\n",
       "       [10],\n",
       "       [11]])"
      ]
     },
     "execution_count": 98,
     "metadata": {},
     "output_type": "execute_result"
    }
   ],
   "source": [
    "np.squeeze(a,axis=-2)"
   ]
  },
  {
   "cell_type": "code",
   "execution_count": 99,
   "id": "ee0ca670-9315-423a-80e8-5b58bce4f064",
   "metadata": {},
   "outputs": [],
   "source": [
    "array = np.arange(10)"
   ]
  },
  {
   "cell_type": "code",
   "execution_count": 100,
   "id": "7602f805-3c45-43b9-831e-daa570d94652",
   "metadata": {},
   "outputs": [],
   "source": [
    "array2 = array.view"
   ]
  },
  {
   "cell_type": "code",
   "execution_count": 102,
   "id": "ef30f653-b562-4b22-bb92-eed41827ccc7",
   "metadata": {},
   "outputs": [
    {
     "data": {
      "text/plain": [
       "False"
      ]
     },
     "execution_count": 102,
     "metadata": {},
     "output_type": "execute_result"
    }
   ],
   "source": [
    "np.shares_memory(array2,array)"
   ]
  },
  {
   "cell_type": "code",
   "execution_count": 101,
   "id": "ed8413ba-f286-4df8-a796-6da781f7e787",
   "metadata": {},
   "outputs": [],
   "source": [
    "array3 = array.copy"
   ]
  },
  {
   "cell_type": "code",
   "execution_count": 103,
   "id": "b6f2df23-1564-41a8-911c-dd00f2c1c152",
   "metadata": {},
   "outputs": [
    {
     "data": {
      "text/plain": [
       "False"
      ]
     },
     "execution_count": 103,
     "metadata": {},
     "output_type": "execute_result"
    }
   ],
   "source": [
    "np.shares_memory(array3,array)"
   ]
  },
  {
   "cell_type": "code",
   "execution_count": null,
   "id": "521c7814-acf6-40f1-8823-ba42d49c1de4",
   "metadata": {},
   "outputs": [],
   "source": []
  }
 ],
 "metadata": {
  "kernelspec": {
   "display_name": "Python 3 (ipykernel)",
   "language": "python",
   "name": "python3"
  },
  "language_info": {
   "codemirror_mode": {
    "name": "ipython",
    "version": 3
   },
   "file_extension": ".py",
   "mimetype": "text/x-python",
   "name": "python",
   "nbconvert_exporter": "python",
   "pygments_lexer": "ipython3",
   "version": "3.12.0"
  }
 },
 "nbformat": 4,
 "nbformat_minor": 5
}
