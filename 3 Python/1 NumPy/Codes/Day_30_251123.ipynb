{
 "cells": [
  {
   "cell_type": "markdown",
   "id": "f0ea067c-b65b-4e82-be23-a244d2b64a99",
   "metadata": {},
   "source": [
    "# Fitbit data analysis using NumPy 2D arrays"
   ]
  },
  {
   "cell_type": "code",
   "execution_count": 2,
   "id": "6cbc1ea1-9ca0-4495-9c0d-fa8d0c8617e8",
   "metadata": {},
   "outputs": [],
   "source": [
    "import numpy as np"
   ]
  },
  {
   "cell_type": "code",
   "execution_count": 1,
   "id": "593717b9-c223-44f7-8b75-0c8c23a3a10f",
   "metadata": {},
   "outputs": [
    {
     "name": "stderr",
     "output_type": "stream",
     "text": [
      "Downloading...\n",
      "From: https://drive.google.com/uc?id=1vk1Pu0djiYcrdc85yUXZ_Rqq2oZNcohd\n",
      "To: C:\\Data\\Data_science\\Data Science RIA\\3 Python\\Codes\\fit.txt\n",
      "\n",
      "  0%|          | 0.00/3.43k [00:00<?, ?B/s]\n",
      "100%|##########| 3.43k/3.43k [00:00<?, ?B/s]\n"
     ]
    }
   ],
   "source": [
    "!gdown 1vk1Pu0djiYcrdc85yUXZ_Rqq2oZNcohd"
   ]
  },
  {
   "cell_type": "code",
   "execution_count": 6,
   "id": "77a74995-093a-49e2-8543-433d0575f97e",
   "metadata": {},
   "outputs": [],
   "source": [
    "data = np.loadtxt(\"fit.txt\",dtype='str')"
   ]
  },
  {
   "cell_type": "code",
   "execution_count": 8,
   "id": "c107a6e9-55a3-4c09-b36c-830349d28a39",
   "metadata": {},
   "outputs": [
    {
     "data": {
      "text/plain": [
       "2"
      ]
     },
     "execution_count": 8,
     "metadata": {},
     "output_type": "execute_result"
    }
   ],
   "source": [
    "data.ndim"
   ]
  },
  {
   "cell_type": "code",
   "execution_count": 9,
   "id": "f7952515-255e-4002-808c-5a1be4c31c11",
   "metadata": {},
   "outputs": [
    {
     "data": {
      "text/plain": [
       "(96, 6)"
      ]
     },
     "execution_count": 9,
     "metadata": {},
     "output_type": "execute_result"
    }
   ],
   "source": [
    "data.shape"
   ]
  },
  {
   "cell_type": "code",
   "execution_count": 11,
   "id": "6c228f14-5f7f-45b2-8355-7732abb94d4f",
   "metadata": {},
   "outputs": [],
   "source": [
    "date,step_count,mood,calories_burned,hours_of_sleep,activity_status = data.T"
   ]
  },
  {
   "cell_type": "code",
   "execution_count": 13,
   "id": "7ec002a0-6b1f-4a8e-9860-b6ac8cb33fc8",
   "metadata": {},
   "outputs": [],
   "source": [
    "step_count = np.array(step_count,dtype='int')"
   ]
  },
  {
   "cell_type": "code",
   "execution_count": 14,
   "id": "459295f1-6989-4332-8f33-3f786e27e55e",
   "metadata": {},
   "outputs": [],
   "source": [
    "calories_burned = np.array(calories_burned,dtype='int')"
   ]
  },
  {
   "cell_type": "code",
   "execution_count": 15,
   "id": "08746f5b-c8e0-4905-838b-f6bc7ef870a7",
   "metadata": {},
   "outputs": [],
   "source": [
    "hours_of_sleep = np.array(hours_of_sleep,dtype='int')"
   ]
  },
  {
   "cell_type": "code",
   "execution_count": 31,
   "id": "0edaaf33-39f0-404f-bc1b-c6f45bdedb63",
   "metadata": {},
   "outputs": [
    {
     "data": {
      "text/plain": [
       "(array(['Happy', 'Neutral', 'Sad'], dtype='<U10'),\n",
       " array([40, 27, 29], dtype=int64))"
      ]
     },
     "execution_count": 31,
     "metadata": {},
     "output_type": "execute_result"
    }
   ],
   "source": [
    "np.unique(mood,return_counts = 'True')"
   ]
  },
  {
   "cell_type": "code",
   "execution_count": 33,
   "id": "016ed0b9-5050-45c2-a8b6-930f17609a93",
   "metadata": {},
   "outputs": [
    {
     "data": {
      "text/plain": [
       "array([42, 54], dtype=int64)"
      ]
     },
     "execution_count": 33,
     "metadata": {},
     "output_type": "execute_result"
    }
   ],
   "source": [
    "unique, counts = np.unique(activity_status,return_counts = 'True')\n",
    "counts"
   ]
  },
  {
   "cell_type": "markdown",
   "id": "5389b5f1-36cd-4202-a345-6eb186c52fd6",
   "metadata": {},
   "source": [
    "#### Operating with data and getting insights"
   ]
  },
  {
   "cell_type": "code",
   "execution_count": 18,
   "id": "ed1c69af-acaa-490d-ad11-991af0c56f01",
   "metadata": {},
   "outputs": [
    {
     "data": {
      "text/plain": [
       "2935.9375"
      ]
     },
     "execution_count": 18,
     "metadata": {},
     "output_type": "execute_result"
    }
   ],
   "source": [
    "step_count.mean()"
   ]
  },
  {
   "cell_type": "code",
   "execution_count": 21,
   "id": "75d291d9-263d-449a-abe8-a2e431c05897",
   "metadata": {},
   "outputs": [
    {
     "data": {
      "text/plain": [
       "7422"
      ]
     },
     "execution_count": 21,
     "metadata": {},
     "output_type": "execute_result"
    }
   ],
   "source": [
    "step_count.max()"
   ]
  },
  {
   "cell_type": "code",
   "execution_count": 23,
   "id": "cd887d93-33b4-4ccc-acff-b1c676a4f9f3",
   "metadata": {},
   "outputs": [
    {
     "data": {
      "text/plain": [
       "69"
      ]
     },
     "execution_count": 23,
     "metadata": {},
     "output_type": "execute_result"
    }
   ],
   "source": [
    "step_count.argmax()"
   ]
  },
  {
   "cell_type": "code",
   "execution_count": 26,
   "id": "71f5a93a-c01f-4389-b7dd-9ecb764a2ff9",
   "metadata": {},
   "outputs": [
    {
     "data": {
      "text/plain": [
       "'14-12-2017'"
      ]
     },
     "execution_count": 26,
     "metadata": {},
     "output_type": "execute_result"
    }
   ],
   "source": [
    "date[step_count.argmax()]"
   ]
  },
  {
   "cell_type": "code",
   "execution_count": 27,
   "id": "3dbc9c5b-31b2-40a6-9225-55d9cea195c6",
   "metadata": {},
   "outputs": [
    {
     "data": {
      "text/plain": [
       "'08-10-2017'"
      ]
     },
     "execution_count": 27,
     "metadata": {},
     "output_type": "execute_result"
    }
   ],
   "source": [
    "date[step_count.argmin()]"
   ]
  },
  {
   "cell_type": "code",
   "execution_count": 34,
   "id": "1253ae0d-540f-48ac-a18a-3f54983f0561",
   "metadata": {},
   "outputs": [
    {
     "data": {
      "text/plain": [
       "243"
      ]
     },
     "execution_count": 34,
     "metadata": {},
     "output_type": "execute_result"
    }
   ],
   "source": [
    "calories_burned[step_count.argmax()]"
   ]
  },
  {
   "cell_type": "code",
   "execution_count": 36,
   "id": "1971f42a-d54c-4a87-8ce0-1907ea7b592a",
   "metadata": {},
   "outputs": [
    {
     "data": {
      "text/plain": [
       "2103.0689655172414"
      ]
     },
     "execution_count": 36,
     "metadata": {},
     "output_type": "execute_result"
    }
   ],
   "source": [
    "np.mean(step_count[mood=='Sad'])"
   ]
  },
  {
   "cell_type": "code",
   "execution_count": 38,
   "id": "444cc56a-c627-4fe8-8768-3ed81c875dcd",
   "metadata": {},
   "outputs": [
    {
     "data": {
      "text/plain": [
       "3392.725"
      ]
     },
     "execution_count": 38,
     "metadata": {},
     "output_type": "execute_result"
    }
   ],
   "source": [
    "np.mean(step_count[mood=='Happy'])"
   ]
  },
  {
   "cell_type": "code",
   "execution_count": 39,
   "id": "bc4c2eb3-9f46-4561-8d88-5e00e0778f3b",
   "metadata": {},
   "outputs": [
    {
     "data": {
      "text/plain": [
       "(array(['Happy', 'Neutral', 'Sad'], dtype='<U10'),\n",
       " array([22,  9,  7], dtype=int64))"
      ]
     },
     "execution_count": 39,
     "metadata": {},
     "output_type": "execute_result"
    }
   ],
   "source": [
    "np.unique(mood[step_count>4000],return_counts='True')"
   ]
  },
  {
   "cell_type": "code",
   "execution_count": 42,
   "id": "45c13a17-724c-4b66-b914-68804d5c186f",
   "metadata": {},
   "outputs": [
    {
     "data": {
      "text/plain": [
       "(array(['Happy', 'Neutral', 'Sad'], dtype='<U10'),\n",
       " array([13,  8, 18], dtype=int64))"
      ]
     },
     "execution_count": 42,
     "metadata": {},
     "output_type": "execute_result"
    }
   ],
   "source": [
    "np.unique(mood[step_count<2000],return_counts='True')"
   ]
  },
  {
   "cell_type": "code",
   "execution_count": 44,
   "id": "d9fd265a-56b4-4614-b534-6c40120532d5",
   "metadata": {},
   "outputs": [
    {
     "data": {
      "text/plain": [
       "5.4523809523809526"
      ]
     },
     "execution_count": 44,
     "metadata": {},
     "output_type": "execute_result"
    }
   ],
   "source": [
    "np.mean(hours_of_sleep[activity_status=='Active'])"
   ]
  },
  {
   "cell_type": "code",
   "execution_count": 51,
   "id": "be05824c-4585-404e-9944-9e1df8bc5002",
   "metadata": {},
   "outputs": [
    {
     "data": {
      "text/plain": [
       "array([[9, 8, 7],\n",
       "       [6, 5, 4],\n",
       "       [3, 2, 1]])"
      ]
     },
     "execution_count": 51,
     "metadata": {},
     "output_type": "execute_result"
    }
   ],
   "source": [
    "a = np.arange(9,0,-1).reshape(3,3)\n",
    "a"
   ]
  },
  {
   "cell_type": "code",
   "execution_count": 57,
   "id": "52712096-970f-4db5-8cb3-b507b3006708",
   "metadata": {},
   "outputs": [],
   "source": [
    "a.sort(axis = 1)"
   ]
  },
  {
   "cell_type": "code",
   "execution_count": 58,
   "id": "c1785ec0-ab27-4651-900d-425d694df4ea",
   "metadata": {},
   "outputs": [
    {
     "data": {
      "text/plain": [
       "array([[7, 8, 9],\n",
       "       [4, 5, 6],\n",
       "       [1, 2, 3]])"
      ]
     },
     "execution_count": 58,
     "metadata": {},
     "output_type": "execute_result"
    }
   ],
   "source": [
    "a"
   ]
  },
  {
   "cell_type": "markdown",
   "id": "b80d38a9-7b69-4356-82fa-fe2a84966bd4",
   "metadata": {},
   "source": [
    "# Matrix Multiplications"
   ]
  },
  {
   "cell_type": "code",
   "execution_count": 12,
   "id": "bd4ea3b0-30d8-4345-bf0a-98549fdf6b26",
   "metadata": {},
   "outputs": [],
   "source": [
    "a = np.arange(5)"
   ]
  },
  {
   "cell_type": "markdown",
   "id": "e9cfd454-5ce8-4fa0-8375-6c71ac8498b1",
   "metadata": {},
   "source": [
    "#### To generate the matrix of shape (n*m) with all ones we use np.ones(shape=(n,m))"
   ]
  },
  {
   "cell_type": "code",
   "execution_count": 70,
   "id": "642dd12a-aff4-4e77-bc45-54e9aae3a259",
   "metadata": {},
   "outputs": [
    {
     "data": {
      "text/plain": [
       "array([0., 2., 4., 6., 8.])"
      ]
     },
     "execution_count": 70,
     "metadata": {},
     "output_type": "execute_result"
    }
   ],
   "source": [
    "b = np.ones(shape=(5)) * 2 \n",
    "a*b"
   ]
  },
  {
   "cell_type": "code",
   "execution_count": 71,
   "id": "4e2e5f29-3ecf-41ce-99fb-dc20a6ca1dcd",
   "metadata": {},
   "outputs": [],
   "source": [
    "a = np.arange(12).reshape(3,4)"
   ]
  },
  {
   "cell_type": "code",
   "execution_count": 72,
   "id": "f8cb47d5-a0bc-4eb8-8c03-bd9f8446599d",
   "metadata": {},
   "outputs": [
    {
     "data": {
      "text/plain": [
       "array([[ 0,  1,  2,  3],\n",
       "       [ 4,  5,  6,  7],\n",
       "       [ 8,  9, 10, 11]])"
      ]
     },
     "execution_count": 72,
     "metadata": {},
     "output_type": "execute_result"
    }
   ],
   "source": [
    "a"
   ]
  },
  {
   "cell_type": "markdown",
   "id": "572486ed-7b0f-4aa5-b40f-80e6dc590f13",
   "metadata": {},
   "source": [
    "#### If the matrix shapes are same we do element multiplication a*b or np.dot(a,b) but the shape is Transpose of it we use np.matmul(matrix1,matrix2) or a@b"
   ]
  },
  {
   "cell_type": "code",
   "execution_count": 85,
   "id": "162e6f9b-c72d-4a33-922c-76620dbcca44",
   "metadata": {},
   "outputs": [
    {
     "data": {
      "text/plain": [
       "array([[4., 4., 4.],\n",
       "       [4., 4., 4.],\n",
       "       [4., 4., 4.]])"
      ]
     },
     "execution_count": 85,
     "metadata": {},
     "output_type": "execute_result"
    }
   ],
   "source": [
    "a = np.ones(shape=(3,4))\n",
    "b = np.ones(shape=(4,3))\n",
    "np.matmul(a,b)"
   ]
  },
  {
   "cell_type": "code",
   "execution_count": 86,
   "id": "f56fd821-ac53-4960-a780-ec4e8695fd75",
   "metadata": {},
   "outputs": [
    {
     "data": {
      "text/plain": [
       "array([[4., 4., 4., 4.],\n",
       "       [4., 4., 4., 4.],\n",
       "       [4., 4., 4., 4.],\n",
       "       [4., 4., 4., 4.]])"
      ]
     },
     "execution_count": 86,
     "metadata": {},
     "output_type": "execute_result"
    }
   ],
   "source": [
    "c = np.ones(shape=(4,4))\n",
    "d = np.ones(shape=(4,4))\n",
    "np.matmul(c,d)"
   ]
  },
  {
   "cell_type": "code",
   "execution_count": 87,
   "id": "8dfa477e-4dd3-416f-9958-e8bedafd8c14",
   "metadata": {},
   "outputs": [
    {
     "data": {
      "text/plain": [
       "array([[4., 4., 4., 4.],\n",
       "       [4., 4., 4., 4.],\n",
       "       [4., 4., 4., 4.],\n",
       "       [4., 4., 4., 4.]])"
      ]
     },
     "execution_count": 87,
     "metadata": {},
     "output_type": "execute_result"
    }
   ],
   "source": [
    "c@d"
   ]
  },
  {
   "cell_type": "code",
   "execution_count": 101,
   "id": "39848327-af88-4319-b522-51100d9c39d3",
   "metadata": {},
   "outputs": [
    {
     "data": {
      "text/plain": [
       "array([[ 56,  62,  68,  74],\n",
       "       [152, 174, 196, 218],\n",
       "       [248, 286, 324, 362],\n",
       "       [344, 398, 452, 506]])"
      ]
     },
     "execution_count": 101,
     "metadata": {},
     "output_type": "execute_result"
    }
   ],
   "source": [
    "f = np.arange(16).reshape(4,4)\n",
    "g = np.arange(16).reshape(4,4)\n",
    "np.dot(f,g)"
   ]
  },
  {
   "cell_type": "code",
   "execution_count": 102,
   "id": "49875ec8-ab8f-4b96-adcf-4bdb6b9dbb9c",
   "metadata": {},
   "outputs": [
    {
     "data": {
      "text/plain": [
       "array([[ 20,  23,  26,  29],\n",
       "       [ 56,  68,  80,  92],\n",
       "       [ 92, 113, 134, 155],\n",
       "       [128, 158, 188, 218]])"
      ]
     },
     "execution_count": 102,
     "metadata": {},
     "output_type": "execute_result"
    }
   ],
   "source": [
    "h = np.arange(12).reshape(4,3)\n",
    "j = np.arange(12).reshape(3,4)\n",
    "np.matmul(h,j)"
   ]
  },
  {
   "cell_type": "markdown",
   "id": "a6ed39ac-32bb-4795-b96e-6f7be26c60ff",
   "metadata": {},
   "source": [
    "# Vectorization"
   ]
  },
  {
   "cell_type": "code",
   "execution_count": 3,
   "id": "2235f3fe-c387-42f2-9831-e09375cf7154",
   "metadata": {},
   "outputs": [],
   "source": [
    "z = np.arange(12)"
   ]
  },
  {
   "cell_type": "code",
   "execution_count": 4,
   "id": "02289eb5-8b22-4825-a13a-07c965d66f11",
   "metadata": {},
   "outputs": [],
   "source": [
    "import math"
   ]
  },
  {
   "cell_type": "code",
   "execution_count": 5,
   "id": "96f0e3d2-460e-4482-baa4-4c9ebd4a4255",
   "metadata": {},
   "outputs": [
    {
     "data": {
      "text/plain": [
       "array([ 0,  1,  2,  3,  4,  5,  6,  7,  8,  9, 10, 11])"
      ]
     },
     "execution_count": 5,
     "metadata": {},
     "output_type": "execute_result"
    }
   ],
   "source": [
    "z"
   ]
  },
  {
   "cell_type": "code",
   "execution_count": null,
   "id": "316f81a0-3639-4492-b11e-b14ba9c7e4ad",
   "metadata": {},
   "outputs": [],
   "source": [
    "x = np.vectorize(math.log)(a)"
   ]
  },
  {
   "cell_type": "code",
   "execution_count": null,
   "id": "74ccb961-b9ec-4a84-98d4-3e1f185abb2c",
   "metadata": {},
   "outputs": [],
   "source": [
    "x"
   ]
  },
  {
   "cell_type": "markdown",
   "id": "78ff01f0-39c1-4cb0-ad45-4d55065a3c1f",
   "metadata": {},
   "source": [
    "# 3D "
   ]
  },
  {
   "cell_type": "code",
   "execution_count": 117,
   "id": "e9441fa3-8641-409d-b4fa-ebad41c60b75",
   "metadata": {},
   "outputs": [],
   "source": [
    "a = np.arange(24).reshape(2,3,4)"
   ]
  },
  {
   "cell_type": "code",
   "execution_count": 118,
   "id": "b64a683f-403d-4601-8e4e-c6cf86e3162f",
   "metadata": {},
   "outputs": [
    {
     "data": {
      "text/plain": [
       "array([[[ 0,  1,  2,  3],\n",
       "        [ 4,  5,  6,  7],\n",
       "        [ 8,  9, 10, 11]],\n",
       "\n",
       "       [[12, 13, 14, 15],\n",
       "        [16, 17, 18, 19],\n",
       "        [20, 21, 22, 23]]])"
      ]
     },
     "execution_count": 118,
     "metadata": {},
     "output_type": "execute_result"
    }
   ],
   "source": [
    "a"
   ]
  },
  {
   "cell_type": "code",
   "execution_count": 114,
   "id": "ef9a38bb-c6e3-4c9c-93de-69a6149bca51",
   "metadata": {},
   "outputs": [
    {
     "data": {
      "text/plain": [
       "24"
      ]
     },
     "execution_count": 114,
     "metadata": {},
     "output_type": "execute_result"
    }
   ],
   "source": [
    "a.size"
   ]
  },
  {
   "cell_type": "code",
   "execution_count": 120,
   "id": "8606ff6b-08dd-4354-8d3c-882e5e34863d",
   "metadata": {},
   "outputs": [
    {
     "data": {
      "text/plain": [
       "3"
      ]
     },
     "execution_count": 120,
     "metadata": {},
     "output_type": "execute_result"
    }
   ],
   "source": [
    "a.ndim"
   ]
  },
  {
   "cell_type": "code",
   "execution_count": 133,
   "id": "7c9445f5-6073-44ed-ad9b-73960f580fee",
   "metadata": {},
   "outputs": [],
   "source": [
    "a = np.arange(12).reshape(3,4)"
   ]
  },
  {
   "cell_type": "code",
   "execution_count": 134,
   "id": "c44be4ac-ec0d-4aee-a77a-01e8c59994b4",
   "metadata": {},
   "outputs": [
    {
     "data": {
      "text/plain": [
       "array([[ 0,  1,  2,  3],\n",
       "       [ 4,  5,  6,  7],\n",
       "       [ 8,  9, 10, 11]])"
      ]
     },
     "execution_count": 134,
     "metadata": {},
     "output_type": "execute_result"
    }
   ],
   "source": [
    "a"
   ]
  },
  {
   "cell_type": "code",
   "execution_count": 135,
   "id": "1b858473-fd77-4075-af55-34028b863d67",
   "metadata": {},
   "outputs": [],
   "source": [
    "b = np.arange(16).reshape(4,4)"
   ]
  },
  {
   "cell_type": "code",
   "execution_count": 136,
   "id": "c32792ad-f418-4b2a-954a-10bbce72629c",
   "metadata": {},
   "outputs": [
    {
     "data": {
      "text/plain": [
       "array([[ 0,  1,  2,  3],\n",
       "       [ 4,  5,  6,  7],\n",
       "       [ 8,  9, 10, 11],\n",
       "       [12, 13, 14, 15]])"
      ]
     },
     "execution_count": 136,
     "metadata": {},
     "output_type": "execute_result"
    }
   ],
   "source": [
    "b"
   ]
  },
  {
   "cell_type": "code",
   "execution_count": 137,
   "id": "d4a0ef9a-b13f-437c-97b3-3d034f65ac42",
   "metadata": {},
   "outputs": [
    {
     "data": {
      "text/plain": [
       "array([[ 56,  62,  68,  74],\n",
       "       [152, 174, 196, 218],\n",
       "       [248, 286, 324, 362]])"
      ]
     },
     "execution_count": 137,
     "metadata": {},
     "output_type": "execute_result"
    }
   ],
   "source": [
    "np.matmul(a,b)"
   ]
  }
 ],
 "metadata": {
  "kernelspec": {
   "display_name": "Python 3 (ipykernel)",
   "language": "python",
   "name": "python3"
  },
  "language_info": {
   "codemirror_mode": {
    "name": "ipython",
    "version": 3
   },
   "file_extension": ".py",
   "mimetype": "text/x-python",
   "name": "python",
   "nbconvert_exporter": "python",
   "pygments_lexer": "ipython3",
   "version": "3.12.0"
  }
 },
 "nbformat": 4,
 "nbformat_minor": 5
}
