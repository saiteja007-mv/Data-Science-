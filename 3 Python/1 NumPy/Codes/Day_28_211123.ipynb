{
 "cells": [
  {
   "cell_type": "code",
   "execution_count": 5,
   "id": "ba4142e3-1efe-4089-a5c6-d2999c3434b9",
   "metadata": {},
   "outputs": [],
   "source": [
    "import numpy as np"
   ]
  },
  {
   "cell_type": "markdown",
   "id": "97edfa18-c491-451f-9554-61314c3eb5f1",
   "metadata": {},
   "source": [
    "#### When we have a different dataTypes in a single array there is a priority followed "
   ]
  },
  {
   "cell_type": "markdown",
   "id": "c712bc24-e6fc-40f0-b7d7-8dd588a0a16d",
   "metadata": {},
   "source": [
    "* string > Float > int > Boolean"
   ]
  },
  {
   "cell_type": "code",
   "execution_count": 6,
   "id": "d67b2c34-aa21-45d2-89e3-357017734341",
   "metadata": {},
   "outputs": [],
   "source": [
    "a = np.array([1,2,3,4,5,6,7,8,9,10,'a',2.55])"
   ]
  },
  {
   "cell_type": "code",
   "execution_count": 7,
   "id": "44e7d44d-0d21-45e4-aa48-f2cd4bbf3c2c",
   "metadata": {},
   "outputs": [
    {
     "data": {
      "text/plain": [
       "array(['1', '2', '3', '4', '5', '6', '7', '8', '9', '10', 'a', '2.55'],\n",
       "      dtype='<U32')"
      ]
     },
     "execution_count": 7,
     "metadata": {},
     "output_type": "execute_result"
    }
   ],
   "source": [
    "a"
   ]
  },
  {
   "cell_type": "markdown",
   "id": "3910dbeb-a791-4022-ae63-56f6a2d03ba2",
   "metadata": {},
   "source": [
    "#### Assigning DataTypes when creating array"
   ]
  },
  {
   "cell_type": "code",
   "execution_count": 8,
   "id": "2814fb67-9116-4502-850a-a4653e01fe87",
   "metadata": {},
   "outputs": [
    {
     "data": {
      "text/plain": [
       "array([[1., 2., 3., 4.],\n",
       "       [2., 3., 5., 4.]])"
      ]
     },
     "execution_count": 8,
     "metadata": {},
     "output_type": "execute_result"
    }
   ],
   "source": [
    "a = np.array([[1,2,3,4],[2,3,5,4]],dtype='float')\n",
    "a"
   ]
  },
  {
   "cell_type": "markdown",
   "id": "34abf1c6-0b5c-426e-8cb0-8d32a60b711a",
   "metadata": {},
   "source": [
    "#### When ever we want help about any function we can use help"
   ]
  },
  {
   "cell_type": "code",
   "execution_count": 9,
   "id": "6a7afe34-493a-4d56-b513-1a5a3c630f4a",
   "metadata": {},
   "outputs": [],
   "source": [
    "#help(np.array([1,2,3]))"
   ]
  },
  {
   "cell_type": "markdown",
   "id": "169b7563-94ea-4ed6-90e6-0ca483e5dc5c",
   "metadata": {},
   "source": [
    "#### Changing the DataType after creating array"
   ]
  },
  {
   "cell_type": "code",
   "execution_count": 10,
   "id": "87822d74-d6cc-49f2-8d8c-d93f8be17a9f",
   "metadata": {},
   "outputs": [
    {
     "data": {
      "text/plain": [
       "array([[1, 2, 3, 4],\n",
       "       [2, 3, 5, 4]])"
      ]
     },
     "execution_count": 10,
     "metadata": {},
     "output_type": "execute_result"
    }
   ],
   "source": [
    "b = a.astype('int')\n",
    "b"
   ]
  },
  {
   "cell_type": "code",
   "execution_count": 11,
   "id": "979aeaed-2ad9-4b02-a15a-bd86a7038851",
   "metadata": {},
   "outputs": [],
   "source": [
    "arr = np.arange(1,40,0.5)"
   ]
  },
  {
   "cell_type": "code",
   "execution_count": 12,
   "id": "f9ef9c3e-fe44-4cc1-a76d-c42fce6a9cc0",
   "metadata": {},
   "outputs": [
    {
     "data": {
      "text/plain": [
       "array([ 1. ,  1.5,  2. ,  2.5,  3. ,  3.5,  4. ,  4.5,  5. ,  5.5,  6. ,\n",
       "        6.5,  7. ,  7.5,  8. ,  8.5,  9. ,  9.5, 10. , 10.5, 11. , 11.5,\n",
       "       12. , 12.5, 13. , 13.5, 14. , 14.5, 15. , 15.5, 16. , 16.5, 17. ,\n",
       "       17.5, 18. , 18.5, 19. , 19.5, 20. , 20.5, 21. , 21.5, 22. , 22.5,\n",
       "       23. , 23.5, 24. , 24.5, 25. , 25.5, 26. , 26.5, 27. , 27.5, 28. ,\n",
       "       28.5, 29. , 29.5, 30. , 30.5, 31. , 31.5, 32. , 32.5, 33. , 33.5,\n",
       "       34. , 34.5, 35. , 35.5, 36. , 36.5, 37. , 37.5, 38. , 38.5, 39. ,\n",
       "       39.5])"
      ]
     },
     "execution_count": 12,
     "metadata": {},
     "output_type": "execute_result"
    }
   ],
   "source": [
    "arr"
   ]
  },
  {
   "cell_type": "markdown",
   "id": "780aa870-5f41-4589-a503-0709d49d889c",
   "metadata": {},
   "source": [
    "#### Where will return the particular index value of the element based on condition"
   ]
  },
  {
   "cell_type": "code",
   "execution_count": 13,
   "id": "b865d77d-ab16-422d-9803-c6ae081ccb0d",
   "metadata": {},
   "outputs": [
    {
     "data": {
      "text/plain": [
       "(array([17, 18, 19, 20, 21, 22, 23, 24, 25, 26, 27, 28, 29, 30, 31, 32, 33,\n",
       "        34, 35, 36, 37, 38, 39, 40, 41, 42, 43, 44, 45, 46, 47, 48, 49, 50,\n",
       "        51, 52, 53, 54, 55, 56, 57, 58, 59, 60, 61, 62, 63, 64, 65, 66, 67,\n",
       "        68, 69, 70, 71, 72, 73, 74, 75], dtype=int64),)"
      ]
     },
     "execution_count": 13,
     "metadata": {},
     "output_type": "execute_result"
    }
   ],
   "source": [
    "np.where((arr>9) & (arr<39))"
   ]
  },
  {
   "cell_type": "code",
   "execution_count": 14,
   "id": "447b4ab9-358f-4178-ac61-dc090d485575",
   "metadata": {},
   "outputs": [
    {
     "data": {
      "text/plain": [
       "(array([ 3,  4,  5,  6,  7,  8,  9, 10, 11, 12, 13, 14, 15, 16, 17, 18, 19,\n",
       "        20, 21, 22, 23, 24, 25, 26, 27, 28, 29, 30, 31, 32, 33, 34, 35, 36,\n",
       "        37, 38, 39, 40, 41, 42, 43, 44, 45, 46, 47, 48, 49, 50, 51, 52, 53,\n",
       "        54, 55, 56, 57, 58, 59, 60, 61, 62, 63, 64, 65, 66, 67, 68, 69, 70,\n",
       "        71, 72, 73, 74, 75, 76, 77], dtype=int64),)"
      ]
     },
     "execution_count": 14,
     "metadata": {},
     "output_type": "execute_result"
    }
   ],
   "source": [
    "np.where(arr>2)"
   ]
  },
  {
   "cell_type": "code",
   "execution_count": 15,
   "id": "7db82909-73d8-4044-a3f5-9be22756d26e",
   "metadata": {},
   "outputs": [
    {
     "data": {
      "text/plain": [
       "array([[1., 2., 3., 4.],\n",
       "       [2., 3., 5., 4.]])"
      ]
     },
     "execution_count": 15,
     "metadata": {},
     "output_type": "execute_result"
    }
   ],
   "source": [
    "a"
   ]
  },
  {
   "cell_type": "markdown",
   "id": "e95791ff-36e5-4be6-a9db-0a1fa246bdb4",
   "metadata": {},
   "source": [
    "#### Using multiple condition in where"
   ]
  },
  {
   "cell_type": "code",
   "execution_count": 16,
   "id": "44c7c14e-f1be-4b15-a51d-c84883597ba3",
   "metadata": {},
   "outputs": [
    {
     "data": {
      "text/plain": [
       "array([[100., 200., 300.,   4.],\n",
       "       [200., 300.,   5.,   4.]])"
      ]
     },
     "execution_count": 16,
     "metadata": {},
     "output_type": "execute_result"
    }
   ],
   "source": [
    "np.where(a>3,a,a*100)"
   ]
  },
  {
   "cell_type": "code",
   "execution_count": 17,
   "id": "ceae594c-4c12-473d-934e-ee90fc0b4d81",
   "metadata": {},
   "outputs": [
    {
     "data": {
      "text/plain": [
       "array([  0.2,   0.5,   0.4,   0.6, -30. , -70. ,   0.5, -30. , -90. ])"
      ]
     },
     "execution_count": 17,
     "metadata": {},
     "output_type": "execute_result"
    }
   ],
   "source": [
    "own = np.array([2,5,4,6,-3,-7,5,-3,-9])\n",
    "np.where(own<0,own*10,own/10)"
   ]
  },
  {
   "cell_type": "markdown",
   "id": "9ebad788-edfe-49c4-b0a7-85d8b4441ee2",
   "metadata": {},
   "source": [
    "## Airbnb is a company send us the data in 1D array"
   ]
  },
  {
   "cell_type": "code",
   "execution_count": 18,
   "id": "a749708c-37ad-4b3a-96d1-0bc1ec4bb021",
   "metadata": {},
   "outputs": [
    {
     "name": "stderr",
     "output_type": "stream",
     "text": [
      "Downloading...\n",
      "From: https://drive.google.com/uc?id=1c0ClC8SrPwJq5rrkyMKyPn80nyHcFikK\n",
      "To: C:\\Data\\Data_science\\Data Science RIA\\3 Python\\Codes\\survey.txt\n",
      "\n",
      "  0%|          | 0.00/2.55k [00:00<?, ?B/s]\n",
      "100%|##########| 2.55k/2.55k [00:00<?, ?B/s]\n"
     ]
    }
   ],
   "source": [
    "!gdown 1c0ClC8SrPwJq5rrkyMKyPn80nyHcFikK"
   ]
  },
  {
   "cell_type": "code",
   "execution_count": 19,
   "id": "eaeada63-d75d-4292-be65-20bde794be3a",
   "metadata": {},
   "outputs": [],
   "source": [
    "score = np.loadtxt(\"survey.txt\", dtype=\"int\")"
   ]
  },
  {
   "cell_type": "code",
   "execution_count": 20,
   "id": "88cfb136-3533-44e5-b87e-57d2a66940fd",
   "metadata": {},
   "outputs": [
    {
     "data": {
      "text/plain": [
       "array([ 7, 10,  5, ...,  5,  9, 10])"
      ]
     },
     "execution_count": 20,
     "metadata": {},
     "output_type": "execute_result"
    }
   ],
   "source": [
    "score"
   ]
  },
  {
   "cell_type": "code",
   "execution_count": 21,
   "id": "b6437174-b01d-4851-a8e3-4975a0990661",
   "metadata": {},
   "outputs": [
    {
     "data": {
      "text/plain": [
       "(1167,)"
      ]
     },
     "execution_count": 21,
     "metadata": {},
     "output_type": "execute_result"
    }
   ],
   "source": [
    "score.shape"
   ]
  },
  {
   "cell_type": "code",
   "execution_count": 22,
   "id": "0f405727-f637-4fe3-943c-3e95b96a1169",
   "metadata": {},
   "outputs": [
    {
     "data": {
      "text/plain": [
       "1"
      ]
     },
     "execution_count": 22,
     "metadata": {},
     "output_type": "execute_result"
    }
   ],
   "source": [
    "score.ndim"
   ]
  },
  {
   "cell_type": "code",
   "execution_count": 23,
   "id": "7cc6a649-dadb-4f86-a47e-926aa297bb1c",
   "metadata": {},
   "outputs": [
    {
     "data": {
      "text/plain": [
       "1167"
      ]
     },
     "execution_count": 23,
     "metadata": {},
     "output_type": "execute_result"
    }
   ],
   "source": [
    "score.size"
   ]
  },
  {
   "cell_type": "code",
   "execution_count": 24,
   "id": "eae0dc22-6f55-4f37-95e1-866a0878c254",
   "metadata": {},
   "outputs": [
    {
     "data": {
      "text/plain": [
       "1"
      ]
     },
     "execution_count": 24,
     "metadata": {},
     "output_type": "execute_result"
    }
   ],
   "source": [
    "score.min()"
   ]
  },
  {
   "cell_type": "code",
   "execution_count": 25,
   "id": "c76b6b72-d268-446b-b23d-eb403a6e188c",
   "metadata": {},
   "outputs": [
    {
     "data": {
      "text/plain": [
       "10"
      ]
     },
     "execution_count": 25,
     "metadata": {},
     "output_type": "execute_result"
    }
   ],
   "source": [
    "score.max()"
   ]
  },
  {
   "cell_type": "code",
   "execution_count": 26,
   "id": "02672b15-a5aa-4653-b08e-25b722e6b3ec",
   "metadata": {},
   "outputs": [],
   "source": [
    "promoters = score[score>=9].shape[0]"
   ]
  },
  {
   "cell_type": "code",
   "execution_count": 27,
   "id": "51ffef58-3077-4800-8c8c-82931af7069b",
   "metadata": {},
   "outputs": [],
   "source": [
    "detractors = score[score<=6].shape[0]"
   ]
  },
  {
   "cell_type": "code",
   "execution_count": 28,
   "id": "7bbcd958-226a-46eb-94b0-7c71564c5b94",
   "metadata": {},
   "outputs": [],
   "source": [
    "neutral = score[(score>6)&(score<9)].shape[0]"
   ]
  },
  {
   "cell_type": "code",
   "execution_count": 29,
   "id": "d3498444-b8d6-4d68-a89c-3ceaf4434140",
   "metadata": {},
   "outputs": [],
   "source": [
    "nps = ( (promoters/(score.shape[0])) - (detractors/(score.shape[0])) ) * 100"
   ]
  },
  {
   "cell_type": "code",
   "execution_count": 30,
   "id": "bd182c29-0076-45dc-9dec-dd9a9e35fc8f",
   "metadata": {},
   "outputs": [
    {
     "name": "stdout",
     "output_type": "stream",
     "text": [
      "Net Promoter Score: 23.74\n"
     ]
    }
   ],
   "source": [
    "print(f\"Net Promoter Score: {round(nps,2)}\")"
   ]
  },
  {
   "cell_type": "markdown",
   "id": "e8ea895b-1823-49f2-be2d-bd3248492570",
   "metadata": {},
   "source": [
    "# Creating an empty array with shape"
   ]
  },
  {
   "cell_type": "code",
   "execution_count": 31,
   "id": "c902802f-6a34-422a-9c30-1aa18479f324",
   "metadata": {},
   "outputs": [],
   "source": [
    "arr = np.empty(shape=score.shape,dtype='U20')"
   ]
  },
  {
   "cell_type": "code",
   "execution_count": 32,
   "id": "949a550a-7337-4ab6-9f5f-2cdd93a19c83",
   "metadata": {},
   "outputs": [
    {
     "data": {
      "text/plain": [
       "(1167,)"
      ]
     },
     "execution_count": 32,
     "metadata": {},
     "output_type": "execute_result"
    }
   ],
   "source": [
    "arr.shape"
   ]
  },
  {
   "cell_type": "code",
   "execution_count": 33,
   "id": "f1625849-2fb2-447a-874e-44cdfc2f69fb",
   "metadata": {},
   "outputs": [
    {
     "data": {
      "text/plain": [
       "array(['', '', '', ..., '', '', ''], dtype='<U20')"
      ]
     },
     "execution_count": 33,
     "metadata": {},
     "output_type": "execute_result"
    }
   ],
   "source": [
    "arr # Here U1 indicates that Unicode<lenght of element in array>"
   ]
  },
  {
   "cell_type": "markdown",
   "id": "55d14e75-881d-4568-8e50-997bf97a4643",
   "metadata": {},
   "source": [
    "### Converting Continous to Categorical data "
   ]
  },
  {
   "cell_type": "code",
   "execution_count": 34,
   "id": "c61aed54-fa4b-450b-ae6b-d597842f7a8a",
   "metadata": {},
   "outputs": [],
   "source": [
    "arr[score>=9] = \"promoters\"\n",
    "arr[(score>=7) & (score<=8)] = \"passive\"\n",
    "arr[score<=6] = \"detractors\""
   ]
  },
  {
   "cell_type": "code",
   "execution_count": 35,
   "id": "76de469a-cf25-4a2d-a58f-a4e517e4a588",
   "metadata": {},
   "outputs": [
    {
     "data": {
      "text/plain": [
       "array(['passive', 'promoters', 'detractors', ..., 'detractors',\n",
       "       'promoters', 'promoters'], dtype='<U20')"
      ]
     },
     "execution_count": 35,
     "metadata": {},
     "output_type": "execute_result"
    }
   ],
   "source": [
    "arr"
   ]
  },
  {
   "cell_type": "code",
   "execution_count": 36,
   "id": "7515973e-6d12-4bd9-8b70-9fb0b271424f",
   "metadata": {},
   "outputs": [
    {
     "data": {
      "text/plain": [
       "(1167,)"
      ]
     },
     "execution_count": 36,
     "metadata": {},
     "output_type": "execute_result"
    }
   ],
   "source": [
    "arr.shape"
   ]
  },
  {
   "cell_type": "code",
   "execution_count": 37,
   "id": "d6bca320-5220-4e26-b8f1-b97cb48466a5",
   "metadata": {},
   "outputs": [
    {
     "data": {
      "text/plain": [
       "609"
      ]
     },
     "execution_count": 37,
     "metadata": {},
     "output_type": "execute_result"
    }
   ],
   "source": [
    "arr[arr=='promoters'].size"
   ]
  },
  {
   "cell_type": "code",
   "execution_count": 38,
   "id": "ae7bfe99-4814-483f-a3b4-f6af8c89bb9e",
   "metadata": {},
   "outputs": [
    {
     "data": {
      "text/plain": [
       "226"
      ]
     },
     "execution_count": 38,
     "metadata": {},
     "output_type": "execute_result"
    }
   ],
   "source": [
    "arr[arr=='passive'].size"
   ]
  },
  {
   "cell_type": "code",
   "execution_count": 39,
   "id": "db018588-b318-402c-ac01-37ef198bc901",
   "metadata": {},
   "outputs": [
    {
     "data": {
      "text/plain": [
       "332"
      ]
     },
     "execution_count": 39,
     "metadata": {},
     "output_type": "execute_result"
    }
   ],
   "source": [
    "arr[arr=='detractors'].size"
   ]
  },
  {
   "cell_type": "markdown",
   "id": "9822fd5b-7d54-4452-9b09-780a1970f644",
   "metadata": {},
   "source": [
    "#### What if there are more no of elements we use unique function to get unique elements"
   ]
  },
  {
   "cell_type": "code",
   "execution_count": 40,
   "id": "714081d9-fe37-42ff-8902-1e15ec180d0c",
   "metadata": {},
   "outputs": [],
   "source": [
    "unique, count = np.unique(arr,return_counts='True')"
   ]
  },
  {
   "cell_type": "code",
   "execution_count": 41,
   "id": "0086adcf-b92a-4859-bd1f-30d374f6dff6",
   "metadata": {},
   "outputs": [
    {
     "data": {
      "text/plain": [
       "array([332, 226, 609], dtype=int64)"
      ]
     },
     "execution_count": 41,
     "metadata": {},
     "output_type": "execute_result"
    }
   ],
   "source": [
    "count"
   ]
  },
  {
   "cell_type": "code",
   "execution_count": 42,
   "id": "683e4d37-ffed-473f-83fb-d2103e88f04e",
   "metadata": {},
   "outputs": [],
   "source": [
    "pod = count[0] / count.sum() * 100"
   ]
  },
  {
   "cell_type": "code",
   "execution_count": 43,
   "id": "94d1201c-6f64-48ff-a5ec-891df05d4b98",
   "metadata": {},
   "outputs": [],
   "source": [
    "pop = count[2] / count.sum() * 100"
   ]
  },
  {
   "cell_type": "code",
   "execution_count": 44,
   "id": "43f71b4f-6b3a-4669-b7d0-0b0fdec8822f",
   "metadata": {},
   "outputs": [
    {
     "data": {
      "text/plain": [
       "23.73607540702657"
      ]
     },
     "execution_count": 44,
     "metadata": {},
     "output_type": "execute_result"
    }
   ],
   "source": [
    "nps = pop - pod\n",
    "nps"
   ]
  }
 ],
 "metadata": {
  "kernelspec": {
   "display_name": "Python 3 (ipykernel)",
   "language": "python",
   "name": "python3"
  },
  "language_info": {
   "codemirror_mode": {
    "name": "ipython",
    "version": 3
   },
   "file_extension": ".py",
   "mimetype": "text/x-python",
   "name": "python",
   "nbconvert_exporter": "python",
   "pygments_lexer": "ipython3",
   "version": "3.12.0"
  }
 },
 "nbformat": 4,
 "nbformat_minor": 5
}
