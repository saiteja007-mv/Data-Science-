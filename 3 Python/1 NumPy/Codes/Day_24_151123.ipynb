{
 "cells": [
  {
   "cell_type": "markdown",
   "id": "1e2f1ebc-92e0-446e-842a-9e4faddc8af6",
   "metadata": {},
   "source": [
    "# Revision"
   ]
  },
  {
   "cell_type": "code",
   "execution_count": 2,
   "id": "846b7f39-694d-4a4c-8777-02befc519a1f",
   "metadata": {},
   "outputs": [
    {
     "name": "stdout",
     "output_type": "stream",
     "text": [
      "Saiteja        \n",
      "     Saiteja        \n"
     ]
    }
   ],
   "source": [
    "s = 'Saiteja'\n",
    "z = s.ljust(15)\n",
    "print(z)\n",
    "z1 = z.rjust(20)\n",
    "print(z1)"
   ]
  },
  {
   "cell_type": "code",
   "execution_count": 6,
   "id": "559b7b61-be40-454b-9f03-0e286cec4fda",
   "metadata": {},
   "outputs": [
    {
     "name": "stdout",
     "output_type": "stream",
     "text": [
      "[1, 3, 5, 7]\n"
     ]
    }
   ],
   "source": [
    "b = [1,2,3,4,5,6,7,8]\n",
    "print(b[:7:2])"
   ]
  },
  {
   "cell_type": "code",
   "execution_count": null,
   "id": "17ea1491-316f-44cb-8a23-cec329d872c7",
   "metadata": {},
   "outputs": [],
   "source": []
  }
 ],
 "metadata": {
  "kernelspec": {
   "display_name": "Python 3 (ipykernel)",
   "language": "python",
   "name": "python3"
  },
  "language_info": {
   "codemirror_mode": {
    "name": "ipython",
    "version": 3
   },
   "file_extension": ".py",
   "mimetype": "text/x-python",
   "name": "python",
   "nbconvert_exporter": "python",
   "pygments_lexer": "ipython3",
   "version": "3.12.0"
  }
 },
 "nbformat": 4,
 "nbformat_minor": 5
}
