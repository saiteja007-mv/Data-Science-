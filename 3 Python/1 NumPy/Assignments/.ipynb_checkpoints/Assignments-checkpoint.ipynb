{
 "cells": [
  {
   "cell_type": "markdown",
   "id": "b3f217a2-ca3a-4642-ad17-b85ae00dc1a9",
   "metadata": {},
   "source": [
    "# Assignment 1 - 15 11 23"
   ]
  },
  {
   "cell_type": "markdown",
   "id": "72ca2408-91e3-4519-8be3-5c697550b40e",
   "metadata": {},
   "source": [
    "#### 1. What is the result of the following expression in Python?"
   ]
  },
  {
   "cell_type": "code",
   "execution_count": 1,
   "id": "04b308b1-01b3-49e8-8634-537fdfaa74a3",
   "metadata": {},
   "outputs": [
    {
     "name": "stdout",
     "output_type": "stream",
     "text": [
      "True\n"
     ]
    }
   ],
   "source": [
    "print(True==1)"
   ]
  },
  {
   "cell_type": "markdown",
   "id": "3208f4f2-9bd9-4b53-906d-5865a77adf70",
   "metadata": {},
   "source": [
    "#### 2. Write a program that takes the age of the user as input and tells them if they're old enough to ride a roller coaster. The minimum age to ride the roller coaster in this question is 13."
   ]
  },
  {
   "cell_type": "code",
   "execution_count": 5,
   "id": "17e69626-6d26-4125-9683-ad7a4990894f",
   "metadata": {},
   "outputs": [
    {
     "name": "stdin",
     "output_type": "stream",
     "text": [
      "Enter your age: 66\n"
     ]
    },
    {
     "name": "stdout",
     "output_type": "stream",
     "text": [
      "You are old enough to ride a roller coaster... Enjoy the ride !!\n"
     ]
    }
   ],
   "source": [
    "age = int(input(\"Enter your age:\"))\n",
    "if age >= 13:\n",
    "    print(\"You are old enough to ride a roller coaster... Enjoy the ride !!\")\n",
    "elif age < 13:\n",
    "    print(\"You are not old enough to ride a roller coaster\")\n",
    "else:\n",
    "    print(\"Enter Correct value\")"
   ]
  },
  {
   "cell_type": "markdown",
   "id": "6b0f2755-900f-47a0-8fbe-80b66ed8d8c8",
   "metadata": {},
   "source": [
    "#### 3.You are given 3 integer angles(in degrees) A, B and C of a triangle. You have to tell whether the triangle is valid or not. A triangle is valid if sum of its angles equals to 180.\n"
   ]
  },
  {
   "cell_type": "code",
   "execution_count": 6,
   "id": "e766e37a-8965-4f79-8480-ac02ec0e7b7f",
   "metadata": {},
   "outputs": [
    {
     "name": "stdin",
     "output_type": "stream",
     "text": [
      "Enter angle A of triangle: 34\n",
      "Enter angle B of triangle: 110\n",
      "Enter angle C of triangle: 66\n"
     ]
    },
    {
     "name": "stdout",
     "output_type": "stream",
     "text": [
      "The given angles does not a triangle\n"
     ]
    }
   ],
   "source": [
    "a = int(input(\"Enter angle A of triangle:\"))\n",
    "b = int(input(\"Enter angle B of triangle:\"))\n",
    "c = int(input(\"Enter angle C of triangle:\"))\n",
    "sum_of_angles = a+b+c\n",
    "if sum_of_angles == 180:\n",
    "    print(\"The give angles form a triangle\")\n",
    "else:\n",
    "    print(\"The given angles does not a triangle\")"
   ]
  },
  {
   "cell_type": "markdown",
   "id": "a7917891-4262-470b-a2d8-78e131f7c905",
   "metadata": {},
   "source": [
    "#### 4. Write a program to input two numbers(A & B) from user and print the maximum element among A & B in each line"
   ]
  },
  {
   "cell_type": "code",
   "execution_count": 10,
   "id": "a6b5d623-97b8-41eb-8b03-bb5ef1480968",
   "metadata": {},
   "outputs": [
    {
     "name": "stdin",
     "output_type": "stream",
     "text": [
      "Enter number 1 : 3\n",
      "Enter number 2 : 3\n"
     ]
    },
    {
     "name": "stdout",
     "output_type": "stream",
     "text": [
      "Both are equal\n"
     ]
    }
   ],
   "source": [
    "A = int(input(\"Enter number 1 :\"))\n",
    "B = int(input(\"Enter number 2 :\"))\n",
    "if A>B:\n",
    "    print(f\"Maximum Element is {A}\\n\")\n",
    "elif B>A:\n",
    "    print(f\"Maximum Element is {B}\\n\")\n",
    "elif A == B:\n",
    "    print(\"Both are equal\")\n",
    "else:\n",
    "    print(\"Enter correct number\")"
   ]
  },
  {
   "cell_type": "markdown",
   "id": "6015dc5d-09f5-4236-82ea-06d1275b2822",
   "metadata": {},
   "source": [
    "#### 5. Given the number N, Categorise the number according to following condition :\n",
    "####   1. Odd-Positive\n",
    "####   2. Odd-Negative\n",
    "####   3. Even-Positive\n",
    "####   4. Even-Negative"
   ]
  },
  {
   "cell_type": "code",
   "execution_count": 20,
   "id": "7fe07ff2-5086-4c97-916a-79294a088938",
   "metadata": {},
   "outputs": [
    {
     "name": "stdin",
     "output_type": "stream",
     "text": [
      "Enter number : -55\n"
     ]
    },
    {
     "name": "stdout",
     "output_type": "stream",
     "text": [
      "Odd-Negative\n"
     ]
    }
   ],
   "source": [
    "n = int(input(\"Enter number :\"))\n",
    "\n",
    "if n%2==1 and n>0:\n",
    "    print(\"Odd-Positive\")\n",
    "elif n%2==1 and n<0:\n",
    "    print(\"Odd-Negative\")\n",
    "elif n%2==0 and n>0:\n",
    "    print(\"Even-Positive\")\n",
    "elif n%2==0 and n<0:\n",
    "    print(\"Even-Negative\")\n",
    "else:\n",
    "    print(\"Zero\")"
   ]
  },
  {
   "cell_type": "markdown",
   "id": "818640f3-3998-4e0b-8a2b-f0f507f40740",
   "metadata": {},
   "source": [
    "#### 6. Given a positive integer A, return an array of strings with all the integers from 1 to N. But for multiples of 3 the array should have “Fizz” instead of the number. For the multiples of 5, the array should have “Buzz” instead of the number. For numbers which are multiple of 3 and 5 both, the array should have \"FizzBuzz\" instead of the number."
   ]
  },
  {
   "cell_type": "code",
   "execution_count": 25,
   "id": "c1058598-dde9-4127-9a66-59e4922643ea",
   "metadata": {},
   "outputs": [
    {
     "name": "stdin",
     "output_type": "stream",
     "text": [
      "Enter Positive Integer: 13\n"
     ]
    },
    {
     "name": "stdout",
     "output_type": "stream",
     "text": [
      "[1, 2, 'Fizz', 4, 'Buzz', 'Fizz', 7, 8, 'Fizz', 'Buzz', 11, 'Fizz', 13]\n"
     ]
    }
   ],
   "source": [
    "a = int(input(\"Enter Positive Integer:\"))\n",
    "array = []\n",
    "for i in range(1,a+1):\n",
    "    if i%3 == 0:\n",
    "        array.append('Fizz')\n",
    "    elif i%5 == 0:\n",
    "        array.append('Buzz')\n",
    "    elif i%3 == 0 and i%5 == 0:\n",
    "        array.append('FizzBuzz')\n",
    "    else:\n",
    "        array.append(i)\n",
    "print(array)"
   ]
  },
  {
   "cell_type": "markdown",
   "id": "440c0e36-74ac-4378-966a-53f9f8d4bddb",
   "metadata": {},
   "source": [
    "#### 7. Take an integer A as input. You have to tell whether A is divisible by both 5 and 11 or not."
   ]
  },
  {
   "cell_type": "code",
   "execution_count": 27,
   "id": "795ca48d-5ac3-4820-91a9-6fa207b5b86f",
   "metadata": {},
   "outputs": [
    {
     "name": "stdin",
     "output_type": "stream",
     "text": [
      "Enter integer A: 552\n"
     ]
    },
    {
     "name": "stdout",
     "output_type": "stream",
     "text": [
      "Given number 552 is not divisible by 5 and 11\n"
     ]
    }
   ],
   "source": [
    "A = int(input(\"Enter integer A:\"))\n",
    "if A%5 == 0 and A%11 == 0:\n",
    "    print(f\"Given number {A} is divisible by 5 and 11\")\n",
    "else:\n",
    "    print(f\"Given number {A} is not divisible by 5 and 11\")"
   ]
  },
  {
   "cell_type": "markdown",
   "id": "7644580b-ca62-4288-85e7-34217e9c7f9b",
   "metadata": {},
   "source": [
    "#### 8. Write a program to print all even numbers from 1 to N where you have to take N as input from the user. Note: Use while-loop OR for-loop, according to session flow"
   ]
  },
  {
   "cell_type": "markdown",
   "id": "fcded7b8-bd83-4997-be05-bd454fa823aa",
   "metadata": {},
   "source": [
    "###### Using while loop"
   ]
  },
  {
   "cell_type": "code",
   "execution_count": 38,
   "id": "0c71bc78-2383-4ce3-a595-533bbd90f161",
   "metadata": {},
   "outputs": [
    {
     "name": "stdin",
     "output_type": "stream",
     "text": [
      "Enter N: 56\n"
     ]
    },
    {
     "name": "stdout",
     "output_type": "stream",
     "text": [
      "[2, 4, 6, 8, 10, 12, 14, 16, 18, 20, 22, 24, 26, 28, 30, 32, 34, 36, 38, 40, 42, 44, 46, 48, 50, 52, 54, 56]\n"
     ]
    }
   ],
   "source": [
    "n = int(input(\"Enter N:\"))\n",
    "even_array = []\n",
    "while n>0:\n",
    "    if n%2 == 0:\n",
    "        even_array.append(n)\n",
    "    n = n-1\n",
    "print(even_array[::-1])"
   ]
  },
  {
   "cell_type": "markdown",
   "id": "5c04d91c-5f6b-41ac-877f-f88d38c717b9",
   "metadata": {},
   "source": [
    "###### Using For loop"
   ]
  },
  {
   "cell_type": "code",
   "execution_count": 40,
   "id": "557597d9-0a2e-4e87-ac39-a55fb0c671a9",
   "metadata": {},
   "outputs": [
    {
     "name": "stdin",
     "output_type": "stream",
     "text": [
      "Enter N: 56\n"
     ]
    },
    {
     "name": "stdout",
     "output_type": "stream",
     "text": [
      "[2, 4, 6, 8, 10, 12, 14, 16, 18, 20, 22, 24, 26, 28, 30, 32, 34, 36, 38, 40, 42, 44, 46, 48, 50, 52, 54, 56]\n"
     ]
    }
   ],
   "source": [
    "n = int(input(\"Enter N:\"))\n",
    "even_array = []\n",
    "for i in range(1,n+1):\n",
    "    if i % 2 == 0:\n",
    "        even_array.append(i)\n",
    "print(even_array)"
   ]
  },
  {
   "cell_type": "markdown",
   "id": "af6c1982-3473-4650-8672-bfa2daa125c0",
   "metadata": {},
   "source": [
    "#### 9. Write a program to print all odd numbers from 1 to N where you have to take N as input from the user. Here N is inclusive.\n"
   ]
  },
  {
   "cell_type": "markdown",
   "id": "29b1e010-b476-41f1-b8f5-f4881b2ba483",
   "metadata": {},
   "source": [
    "###### Using While Loop"
   ]
  },
  {
   "cell_type": "code",
   "execution_count": 41,
   "id": "7af564d2-99f3-492e-a458-3132aa5b1649",
   "metadata": {},
   "outputs": [
    {
     "name": "stdin",
     "output_type": "stream",
     "text": [
      "Enter N: 23\n"
     ]
    },
    {
     "name": "stdout",
     "output_type": "stream",
     "text": [
      "[1, 3, 5, 7, 9, 11, 13, 15, 17, 19, 21, 23]\n"
     ]
    }
   ],
   "source": [
    "n = int(input(\"Enter N:\"))\n",
    "even_array = []\n",
    "while n>0:\n",
    "    if n%2 != 0:\n",
    "        even_array.append(n)\n",
    "    n = n-1\n",
    "print(even_array[::-1])"
   ]
  },
  {
   "cell_type": "markdown",
   "id": "578b72a6-d9af-4642-95d1-02f7935ff161",
   "metadata": {},
   "source": [
    "###### Using for loop"
   ]
  },
  {
   "cell_type": "code",
   "execution_count": 42,
   "id": "361b1c84-fe48-4713-b976-9c9bada8f55e",
   "metadata": {},
   "outputs": [
    {
     "name": "stdin",
     "output_type": "stream",
     "text": [
      "Enter N: 23\n"
     ]
    },
    {
     "name": "stdout",
     "output_type": "stream",
     "text": [
      "[1, 3, 5, 7, 9, 11, 13, 15, 17, 19, 21, 23]\n"
     ]
    }
   ],
   "source": [
    "n = int(input(\"Enter N:\"))\n",
    "even_array = []\n",
    "for i in range(1,n+1):\n",
    "    if i % 2 != 0:\n",
    "        even_array.append(i)\n",
    "print(even_array)"
   ]
  },
  {
   "cell_type": "markdown",
   "id": "5606239f-09d5-4790-aa0c-cc20b3b4646a",
   "metadata": {},
   "source": [
    "#### 10. How many times will the following loop run?\n",
    "\n"
   ]
  },
  {
   "cell_type": "code",
   "execution_count": 2,
   "id": "e76a1c73-ef38-41ef-8684-92be55fafb66",
   "metadata": {},
   "outputs": [],
   "source": [
    "# c = 0\n",
    "# while c<=10:\n",
    "#     print(c)\n",
    "#     if c%2:\n",
    "#         c-=1\n",
    "#     else:\n",
    "#         c+=1\n",
    "# The loop will run infinite time\n",
    "# Loop 1 : c = 0 go to if(False) then go to else block Then c value changes to 1 \n",
    "# c = 1\n",
    "# Loop 2 : c = 1 go to if(True) Then c value changes to 0\n",
    "# c = 0\n",
    "# Loop 3 : c = 0  ( Same as Loop 1 and then Loop 2 )\n",
    "# It will run again and again and again\n",
    "\n",
    "# Note : We can put break statement in while loop to exit loop"
   ]
  },
  {
   "cell_type": "markdown",
   "id": "5d44681a-5039-4f33-ab5b-e8751d65fc39",
   "metadata": {},
   "source": [
    "# Assignment 2 - 16 11 23 "
   ]
  },
  {
   "cell_type": "markdown",
   "id": "40a86fc2-f947-44c0-ba23-8db7cbad9070",
   "metadata": {},
   "source": [
    "#### Level 1"
   ]
  },
  {
   "cell_type": "markdown",
   "id": "5afba858-e587-4278-a05c-cd09cae19f77",
   "metadata": {},
   "source": [
    "#### 1. Given two numbers A and B. Concatenate the two numbers and print it."
   ]
  },
  {
   "cell_type": "code",
   "execution_count": 1,
   "id": "34fdcb6c-2b12-44f5-b4e6-86144dfedf02",
   "metadata": {},
   "outputs": [
    {
     "name": "stdout",
     "output_type": "stream",
     "text": [
      "45\n"
     ]
    }
   ],
   "source": [
    "a = '4'\n",
    "b = '5'\n",
    "print(a+b)"
   ]
  },
  {
   "cell_type": "markdown",
   "id": "5a9e048b-386d-407d-8d6f-79c0220fb138",
   "metadata": {},
   "source": [
    "#### 2. What is the result of the following expression in Python? print(\"1\" == 1)"
   ]
  },
  {
   "cell_type": "code",
   "execution_count": 2,
   "id": "ac38cba3-cf02-46d8-b24d-1b9ad58fa99e",
   "metadata": {},
   "outputs": [
    {
     "name": "stdout",
     "output_type": "stream",
     "text": [
      "False\n"
     ]
    }
   ],
   "source": [
    "print(\"1\" == 1)"
   ]
  },
  {
   "cell_type": "markdown",
   "id": "f859a5aa-cb51-4c7d-a6da-e16aeb988494",
   "metadata": {},
   "source": [
    "#### 3.What is the output for the following statements?"
   ]
  },
  {
   "cell_type": "code",
   "execution_count": 3,
   "id": "8d1b8d7d-8634-458f-bd73-e8d61fad891c",
   "metadata": {},
   "outputs": [
    {
     "name": "stdout",
     "output_type": "stream",
     "text": [
      "5.0\n"
     ]
    }
   ],
   "source": [
    "x = 55 / 11\n",
    "print(x)"
   ]
  },
  {
   "cell_type": "markdown",
   "id": "b4202bfb-bcc7-4013-8531-d99dcbbcce9e",
   "metadata": {},
   "source": [
    "#### 4. Write a program that asks the user to input their favorite programming language and output a specific string based on their answer. Based on the user minputs these are the outputs to be shown to the user."
   ]
  },
  {
   "cell_type": "code",
   "execution_count": 9,
   "id": "298fc4ae-c98f-4dfc-b92f-7ffb1f613f2e",
   "metadata": {},
   "outputs": [
    {
     "name": "stdin",
     "output_type": "stream",
     "text": [
      "Enter your favorite programming language: JaVa\n"
     ]
    },
    {
     "name": "stdout",
     "output_type": "stream",
     "text": [
      "That's cool!\n"
     ]
    }
   ],
   "source": [
    "pro = input(\"Enter your favorite programming language:\")\n",
    "pro = pro.lower()\n",
    "if pro == 'python':\n",
    "    print(\"Nice choice!\")\n",
    "elif pro == 'java':\n",
    "    print(\"That's cool!\")\n",
    "elif pro == 'javascript':\n",
    "    print(\"Okay so your are the web developer!\")\n",
    "elif pro == 'c++':\n",
    "    print(\"Too old school\")\n",
    "else:\n",
    "    print(\"I don't know that language\")"
   ]
  },
  {
   "cell_type": "markdown",
   "id": "a8f4bd39-f768-42ae-9de6-11fa2f3a9dae",
   "metadata": {},
   "source": [
    "#### 5. Write a program that takes a positive integer N as input from the user and prints all natural numbers from 1 to N, with each number followed by a space (including the last number)."
   ]
  },
  {
   "cell_type": "code",
   "execution_count": 13,
   "id": "dc7354fc-3df8-4189-ac2c-ff37dda328ba",
   "metadata": {},
   "outputs": [
    {
     "name": "stdin",
     "output_type": "stream",
     "text": [
      "Enter positive integer: 30\n"
     ]
    },
    {
     "name": "stdout",
     "output_type": "stream",
     "text": [
      "1 2 3 4 5 6 7 8 9 10 11 12 13 14 15 16 17 18 19 20 21 22 23 24 25 26 27 28 29 30 "
     ]
    }
   ],
   "source": [
    "n = int(input(\"Enter positive integer:\"))\n",
    "for i in range(1,n+1):\n",
    "    print(i,end=\" \")"
   ]
  },
  {
   "cell_type": "markdown",
   "id": "09e8252d-0db8-44f7-8d69-7fd90df8e34a",
   "metadata": {},
   "source": [
    "#### Level 2"
   ]
  },
  {
   "cell_type": "markdown",
   "id": "ef249aeb-a7b6-48b2-9a1b-063161779811",
   "metadata": {},
   "source": [
    "#### 1. Given a number A and a digit B. Find the frequency of digit B in the number A. Return the frequency of digit B."
   ]
  },
  {
   "cell_type": "code",
   "execution_count": 15,
   "id": "14c252e2-1ef8-4e10-b57a-460f0a82dcdc",
   "metadata": {},
   "outputs": [
    {
     "name": "stdin",
     "output_type": "stream",
     "text": [
      "Enter number: 34445566543453\n",
      "Enter digit: 3\n"
     ]
    },
    {
     "name": "stdout",
     "output_type": "stream",
     "text": [
      "3 occured 3 times in 34445566543453\n"
     ]
    }
   ],
   "source": [
    "a = input(\"Enter number:\")\n",
    "b = input(\"Enter digit:\")\n",
    "count = 0\n",
    "for i in a:\n",
    "    if i == b:\n",
    "        count+=1\n",
    "print(f\"{b} occured {count} times in {a}\")\n"
   ]
  },
  {
   "cell_type": "markdown",
   "id": "c4535fd4-db47-48d3-9530-74d34ef63c5b",
   "metadata": {},
   "source": [
    "#### 2. You are given lowercase string (A) and you have to return after reversing that."
   ]
  },
  {
   "cell_type": "code",
   "execution_count": 16,
   "id": "7324c74c-2e65-400b-a5e8-3421a3f89d04",
   "metadata": {},
   "outputs": [
    {
     "name": "stdout",
     "output_type": "stream",
     "text": [
      "gnirts\n"
     ]
    }
   ],
   "source": [
    "a = 'string'\n",
    "print(a[::-1])"
   ]
  },
  {
   "cell_type": "markdown",
   "id": "c9372cc9-9947-4564-b4e6-2116eca4adc9",
   "metadata": {},
   "source": [
    "#### 3. You are given lowercase string (A) and you have to tell the count of vowels and consonants in it."
   ]
  },
  {
   "cell_type": "code",
   "execution_count": 18,
   "id": "582bbf25-a78d-4dde-a867-0fec260f90cc",
   "metadata": {},
   "outputs": [
    {
     "name": "stdin",
     "output_type": "stream",
     "text": [
      "Enter string saiteja\n"
     ]
    },
    {
     "name": "stdout",
     "output_type": "stream",
     "text": [
      "There are total of 4 vowels and 3 consonants in given string saiteja\n"
     ]
    }
   ],
   "source": [
    "s = input(\"Enter string\")\n",
    "vowel_count = 0\n",
    "cons_count = 0\n",
    "for i in s:\n",
    "    if i in ['a','e','i','o','u']:\n",
    "        vowel_count += 1\n",
    "    else:\n",
    "        cons_count += 1\n",
    "print(f\"There are total of {vowel_count} vowels and {cons_count} consonants in given string {s}\")"
   ]
  },
  {
   "cell_type": "markdown",
   "id": "5b52e060-764e-43d9-91df-4e3503e031be",
   "metadata": {},
   "source": [
    "#### 4. You are given uppercase string (S) and you have to return a string that is the lower case form of S.\n",
    "* Uppercase strings are those which have all letters in uppercase (Example: MACHINE)\n",
    "* Lowercase strings are those which have all letters in lowercase (Example: machine)"
   ]
  },
  {
   "cell_type": "code",
   "execution_count": 21,
   "id": "aa11a8b0-ac34-4750-a49a-4ccbd29ba2dc",
   "metadata": {},
   "outputs": [
    {
     "name": "stdout",
     "output_type": "stream",
     "text": [
      "Upper Case: MACHINE\n",
      "Lower Case: machine\n"
     ]
    }
   ],
   "source": [
    "s = 'MACHINE'\n",
    "print(f\"Upper Case: {s.upper()}\")\n",
    "print(f\"Lower Case: {s.lower()}\")"
   ]
  },
  {
   "cell_type": "markdown",
   "id": "b1941830-7860-4cdc-a4a4-032ce3be97b5",
   "metadata": {},
   "source": [
    "#### 5. Given the temperature of a day in Degrees Celsius, convert this given temperature from Celsius to Fahrenheit. Complete the function to do so. Round the output up to 2 decimal places"
   ]
  },
  {
   "cell_type": "code",
   "execution_count": 23,
   "id": "f546a0f3-0d74-4e39-8829-a5b1a91388b1",
   "metadata": {},
   "outputs": [
    {
     "name": "stdin",
     "output_type": "stream",
     "text": [
      "Enter celsius degrees: 44\n"
     ]
    },
    {
     "name": "stdout",
     "output_type": "stream",
     "text": [
      "44 celsius degree is 111.2 in fahrenheit\n"
     ]
    }
   ],
   "source": [
    "def c_to_f(cel):\n",
    "    return (cel * (9/5)) + 32\n",
    "cel = int(input(\"Enter celsius degrees:\"))\n",
    "print(f\"{cel} celsius degree is {round(c_to_f(cel),2)} in fahrenheit\")"
   ]
  },
  {
   "cell_type": "markdown",
   "id": "ceb347d3-889f-4714-b65d-6e65936f0138",
   "metadata": {},
   "source": [
    "#### 6. Write a program to calculate the total amount if the principal amount, simple interest rate per annum, and time in the number of days are given. The simple interest rate per annum is provided as a percentage. Assuming that there are 365 days in a year, print the total amount rounded up to 2 decimal places."
   ]
  },
  {
   "cell_type": "code",
   "execution_count": 1,
   "id": "1bce31b4-002f-4bb2-80c2-71bee6740b48",
   "metadata": {},
   "outputs": [
    {
     "name": "stdin",
     "output_type": "stream",
     "text": [
      "Enter Principal Amount: 50000\n",
      "Enter Simple interest rate per annum: 3\n",
      "Enter no of days are given: 365\n"
     ]
    },
    {
     "name": "stdout",
     "output_type": "stream",
     "text": [
      "==================================\n",
      "Principal Amount        | 50000.0\n",
      "Simple Interest         | 3.0\n",
      "Time (in days)          | 365\n",
      "Total Amount to be paid | 51500.0\n"
     ]
    }
   ],
   "source": [
    "def total_amount(p,i,t):\n",
    "    i_dec = i / 100\n",
    "    si = (p*i_dec*t)/365\n",
    "    total_amount = round(p+si,2)\n",
    "    return total_amount\n",
    "\n",
    "p = float(input(\"Enter Principal Amount:\"))\n",
    "i = float(input(\"Enter Simple interest rate per annum:\"))\n",
    "t = int(input(\"Enter no of days are given:\"))\n",
    "print(\"==================================\")\n",
    "print(f\"Principal Amount        | {p}\")\n",
    "print(f\"Simple Interest         | {i}\")\n",
    "print(f\"Time (in days)          | {t}\")\n",
    "print(f\"Total Amount to be paid | {total_amount(p,i,t)}\")"
   ]
  },
  {
   "cell_type": "markdown",
   "id": "2b365a1c-7a5a-4335-b95d-b21553c0208c",
   "metadata": {},
   "source": [
    "#### 7. Write a program that takes the cost price of a vehicle as an argument and returns the road tax, that the vehicle owner has to pay according to the following criteria:"
   ]
  },
  {
   "cell_type": "code",
   "execution_count": 45,
   "id": "0128e4f2-5b4c-4b7c-884a-ec0593ead156",
   "metadata": {},
   "outputs": [
    {
     "name": "stdin",
     "output_type": "stream",
     "text": [
      "Enter cost price of a vehicle: 100000\n"
     ]
    },
    {
     "name": "stdout",
     "output_type": "stream",
     "text": [
      "Road tax to be paid : 15000.0\n"
     ]
    }
   ],
   "source": [
    "def road_tax(cost):\n",
    "    if cost > 100000:\n",
    "        print(f\"Road tax to be paid : {round(cost*(20/100),2)}\")\n",
    "    elif cost > 75000 and cost<=100000:\n",
    "        print(f\"Road tax to be paid : {round(cost*(15/100),2)}\")\n",
    "    elif cost > 50000 and cost <= 75000:\n",
    "        print(f\"Road tax to be paid : {round(cost*(10/100),2)}\")\n",
    "    elif cost <=50000:\n",
    "        print(f\"Road tax to be paid : {round(cost*(5/100),2)}\")\n",
    "cost = int(input(\"Enter cost price of a vehicle:\"))\n",
    "road_tax(cost)"
   ]
  },
  {
   "cell_type": "markdown",
   "id": "96da7419-c74a-448e-8504-1e366d7a4077",
   "metadata": {},
   "source": [
    "# Assignment 3 - 17 11 23"
   ]
  },
  {
   "cell_type": "markdown",
   "id": "287127e4-2417-4819-b665-c9d558a84afa",
   "metadata": {},
   "source": [
    "#### Level 1"
   ]
  },
  {
   "cell_type": "markdown",
   "id": "c1c6cfee-7c84-4f38-b013-846333944c4d",
   "metadata": {},
   "source": [
    "#### 1. Write a program to create a function show_employee() using the following conditions.\n",
    "* It should accept the employee’s name and salary and display both.\n",
    "* If the salary is missing in the function call then assign default value 50,000 to salary\n"
   ]
  },
  {
   "cell_type": "code",
   "execution_count": 3,
   "id": "5eddaa04-fffa-4352-9645-bd2c0d6f767d",
   "metadata": {},
   "outputs": [
    {
     "name": "stdin",
     "output_type": "stream",
     "text": [
      "Enter employee name: sai\n",
      "Enter employee salary: 60000\n"
     ]
    },
    {
     "name": "stdout",
     "output_type": "stream",
     "text": [
      "Employee Name: sai\n",
      "Employee Salary: 50000\n"
     ]
    }
   ],
   "source": [
    "def show_employee(name,salary=50000):\n",
    "    print(f\"Employee Name: {name}\")\n",
    "    print(f\"Employee Salary: {salary}\")\n",
    "\n",
    "name = input(\"Enter employee name:\")\n",
    "salary = int(input(\"Enter employee salary:\"))\n",
    "show_employee(name)"
   ]
  },
  {
   "cell_type": "markdown",
   "id": "1aa3182e-34d2-4073-a9b0-5003891ad870",
   "metadata": {},
   "source": [
    "#### 2. Write a Python programme to Print First 10 natural numbers using while loop"
   ]
  },
  {
   "cell_type": "code",
   "execution_count": 9,
   "id": "0a314595-43fd-48c4-81e7-5db00c9ba94a",
   "metadata": {},
   "outputs": [
    {
     "name": "stdin",
     "output_type": "stream",
     "text": [
      "Enter range of natural numbers you want to get: 4\n"
     ]
    },
    {
     "name": "stdout",
     "output_type": "stream",
     "text": [
      "1\n",
      "2\n",
      "3\n",
      "4\n"
     ]
    }
   ],
   "source": [
    "# Approach 1\n",
    "n = int(input(\"Enter range of natural numbers you want to get:\"))\n",
    "num = 1\n",
    "while num<=n:\n",
    "    print(num)\n",
    "    num+=1"
   ]
  },
  {
   "cell_type": "code",
   "execution_count": 10,
   "id": "c8575e1a-164c-4dd8-bb67-e78a275eaf4e",
   "metadata": {},
   "outputs": [
    {
     "name": "stdin",
     "output_type": "stream",
     "text": [
      "Enter range of natural numbers you want to get: 5\n"
     ]
    },
    {
     "name": "stdout",
     "output_type": "stream",
     "text": [
      "5\n",
      "4\n",
      "3\n",
      "2\n",
      "1\n"
     ]
    }
   ],
   "source": [
    "# Approach 2\n",
    "n = int(input(\"Enter range of natural numbers you want to get:\"))\n",
    "while n>0:\n",
    "    print(n)\n",
    "    n -= 1"
   ]
  },
  {
   "cell_type": "markdown",
   "id": "be1ee1cd-799d-43ef-838f-7f36047dbdf3",
   "metadata": {},
   "source": [
    "#### 3. Write a program to print multiplication table of a given number"
   ]
  },
  {
   "cell_type": "code",
   "execution_count": 14,
   "id": "deeac9ff-d4ca-449d-92ef-8f48d23a4b49",
   "metadata": {},
   "outputs": [
    {
     "name": "stdin",
     "output_type": "stream",
     "text": [
      "Enter number for multiplication table: 10\n"
     ]
    },
    {
     "name": "stdout",
     "output_type": "stream",
     "text": [
      "10 * 0 = 0\n",
      "10 * 1 = 10\n",
      "10 * 2 = 20\n",
      "10 * 3 = 30\n",
      "10 * 4 = 40\n",
      "10 * 5 = 50\n",
      "10 * 6 = 60\n",
      "10 * 7 = 70\n",
      "10 * 8 = 80\n",
      "10 * 9 = 90\n",
      "10 * 10 = 100\n"
     ]
    }
   ],
   "source": [
    "n = int(input(\"Enter number for multiplication table:\"))\n",
    "for i in range(0,11):\n",
    "    print(f\"{n} * {i} = {n*i}\")"
   ]
  },
  {
   "cell_type": "markdown",
   "id": "a2da29ee-3c4f-451b-bafb-408fca14f6ce",
   "metadata": {},
   "source": [
    "#### 4. Write a program to count the total number of digits in a number using a while loop\n"
   ]
  },
  {
   "cell_type": "code",
   "execution_count": 18,
   "id": "dc5bb41f-8fd8-4c2e-9bd6-19b7edca10eb",
   "metadata": {},
   "outputs": [
    {
     "name": "stdin",
     "output_type": "stream",
     "text": [
      "Enter number: 987452631\n"
     ]
    },
    {
     "name": "stdout",
     "output_type": "stream",
     "text": [
      "9\n"
     ]
    }
   ],
   "source": [
    "n = int(input(\"Enter number:\"))\n",
    "count = 0\n",
    "while n>0:\n",
    "    n //= 10\n",
    "    count += 1\n",
    "print(count)"
   ]
  },
  {
   "cell_type": "markdown",
   "id": "f57ac550-9ff3-4deb-833a-69ac71ba59ec",
   "metadata": {},
   "source": [
    "#### 5. Given two integer numbers, return their product only if the product is equal to or lower than 1000. Otherwise, return their sum."
   ]
  },
  {
   "cell_type": "code",
   "execution_count": 21,
   "id": "c742b2d3-0004-47ea-9a50-96b288df9baf",
   "metadata": {},
   "outputs": [
    {
     "name": "stdin",
     "output_type": "stream",
     "text": [
      "Enter integer number 1: 400\n",
      "Enter integer number 2: 400\n"
     ]
    },
    {
     "name": "stdout",
     "output_type": "stream",
     "text": [
      "800\n"
     ]
    }
   ],
   "source": [
    "a = int(input(\"Enter integer number 1:\"))\n",
    "b = int(input(\"Enter integer number 2:\"))\n",
    "if a*b <= 1000:\n",
    "    print(a*b)\n",
    "else:\n",
    "    print(a+b)"
   ]
  },
  {
   "cell_type": "markdown",
   "id": "a8f57652-a695-4ab4-bf1d-3e2cfcce9b31",
   "metadata": {},
   "source": [
    "#### 6. Write a Python programme to calculate Income tax of an employee following the below criteria.\n",
    "* 5 Lakhs - 10%\n",
    "* 5 -7 Lakhs - 20%\n",
    "* 7-10 Lakhs - 30%\n",
    "* \\>15 Lakhs - 40%"
   ]
  },
  {
   "cell_type": "code",
   "execution_count": 25,
   "id": "7a3808f5-2f36-4d6a-9864-c3085c29c1ed",
   "metadata": {},
   "outputs": [
    {
     "name": "stdin",
     "output_type": "stream",
     "text": [
      "Enter the total earnings: 500000\n"
     ]
    },
    {
     "name": "stdout",
     "output_type": "stream",
     "text": [
      "Income Tax to be paid: 50000.0\n"
     ]
    }
   ],
   "source": [
    "salary = int(input(\"Enter the total earnings:\"))\n",
    "if salary == 500000:\n",
    "    print(f\"Income Tax to be paid: {salary*0.1}\")\n",
    "elif salary >= 500000 and salary <= 700000:\n",
    "    print(f\"Income Tax to be paid: {salary*0.2}\")\n",
    "elif salary >= 700000 and salary <= 1000000:\n",
    "    print(f\"Income Tax to be paid: {salary*0.3}\")\n",
    "elif salary > 1500000:\n",
    "    print(f\"Income Tax to be paid: {salary*0.4}\")"
   ]
  },
  {
   "cell_type": "markdown",
   "id": "275d528e-22e1-4e96-9e2d-ce93b28aba61",
   "metadata": {},
   "source": [
    "#### 8. Write a python programme to Count all letters, digits, and special symbols from a given string"
   ]
  },
  {
   "cell_type": "code",
   "execution_count": 56,
   "id": "5c6feec8-47a1-4142-b439-83b2ced91133",
   "metadata": {},
   "outputs": [
    {
     "name": "stdin",
     "output_type": "stream",
     "text": [
      "Enter string here: &8*4#kgf\n"
     ]
    },
    {
     "name": "stdout",
     "output_type": "stream",
     "text": [
      "There are \n",
      "2 digits\n",
      "3 letters\n",
      "3 special characters\n"
     ]
    }
   ],
   "source": [
    "string = input(\"Enter string here:\")\n",
    "digit = 0\n",
    "letters = 0\n",
    "special = 0\n",
    "for i in string:\n",
    "    if i.isdigit():\n",
    "        digit += 1\n",
    "    elif i.isalpha():\n",
    "        letters += 1\n",
    "    else:\n",
    "        special += 1\n",
    "print(f\"There are \\n{digit} digits\\n{letters} letters\\n{special} special characters\")"
   ]
  },
  {
   "cell_type": "markdown",
   "id": "3e7b6690-1990-4509-9cdc-d5b11b9694a1",
   "metadata": {},
   "source": [
    "#### Level 2"
   ]
  },
  {
   "cell_type": "markdown",
   "id": "b049d760-030b-43fb-bb57-c2d8ec7893ca",
   "metadata": {},
   "source": [
    "#### 1. Write a program to iterate the first 10 numbers, and in each iteration, print the sum of the current and previous number.\n"
   ]
  },
  {
   "cell_type": "code",
   "execution_count": 33,
   "id": "d6ea63ad-02a9-4b00-87b6-9a7d4b3a3a66",
   "metadata": {},
   "outputs": [
    {
     "name": "stdout",
     "output_type": "stream",
     "text": [
      "1 2 3 5 8 13 21 34 55 89 "
     ]
    }
   ],
   "source": [
    "# It is an example of Fibonacci Series\n",
    "first = 0\n",
    "second = 1\n",
    "for _ in range(10):\n",
    "    n1 = first + second\n",
    "    first = second\n",
    "    second = n1\n",
    "    print(n1,end=\" \")"
   ]
  },
  {
   "cell_type": "markdown",
   "id": "563173d0-570f-455f-a26e-a5073eb58551",
   "metadata": {},
   "source": [
    "#### 2. Write a program to accept a string from the user and display characters that are present at an even index number."
   ]
  },
  {
   "cell_type": "code",
   "execution_count": 34,
   "id": "38200672-90dc-4483-a25f-b34cb148fc7e",
   "metadata": {},
   "outputs": [
    {
     "name": "stdin",
     "output_type": "stream",
     "text": [
      "Enter the string: string\n"
     ]
    },
    {
     "name": "stdout",
     "output_type": "stream",
     "text": [
      "s\n",
      "r\n",
      "n\n"
     ]
    }
   ],
   "source": [
    "str = input(\"Enter the string:\")\n",
    "for i in str:\n",
    "    if str.index(i) % 2 == 0:\n",
    "        print(i)    "
   ]
  },
  {
   "cell_type": "markdown",
   "id": "8748ea84-2a1b-4720-a0bc-2dae5caa33a2",
   "metadata": {},
   "source": [
    "#### 3. Given two list of numbers, write a program to create a new list such that the new list should contain odd numbers from the first list and even numbers from the second list"
   ]
  },
  {
   "cell_type": "code",
   "execution_count": 36,
   "id": "3072b4f5-7e17-4c30-aa81-96c6479cc015",
   "metadata": {},
   "outputs": [
    {
     "name": "stdin",
     "output_type": "stream",
     "text": [
      "Enter numbers of list 1 separated by space: 3 5 7 1 4\n",
      "Enter numbers of list 2 separated by space: 7 8 9 11 2 3\n"
     ]
    },
    {
     "name": "stdout",
     "output_type": "stream",
     "text": [
      "Odd numbers from list 1: [3, 5, 7, 1]\n",
      "Even numbers from list 2: [8, 2]\n"
     ]
    }
   ],
   "source": [
    "list1 = list(map(int,input(\"Enter numbers of list 1 separated by space:\").split(\" \")))\n",
    "list2 = list(map(int,input(\"Enter numbers of list 2 separated by space:\").split(\" \")))\n",
    "new_odd = []\n",
    "new_even = []\n",
    "for i in list1:\n",
    "    if i % 2 != 0:\n",
    "        new_odd.append(i)\n",
    "for j in list2:\n",
    "    if j % 2 == 0:\n",
    "        new_even.append(j)\n",
    "\n",
    "print(\"Odd numbers from list 1:\",new_odd)\n",
    "print(\"Even numbers from list 2:\",new_even)"
   ]
  },
  {
   "cell_type": "markdown",
   "id": "61b75080-8add-4fca-b1b8-80863447bde6",
   "metadata": {},
   "source": [
    "#### 4. Write a program to add two lists index-wise. Create a new list that contains the 0th index item from both the list, then the 1st index item, and so on till the last element. any leftover items will get added at the end of the new list."
   ]
  },
  {
   "cell_type": "code",
   "execution_count": 47,
   "id": "7a238eca-cddc-40cb-9047-3ac8c2d43d66",
   "metadata": {},
   "outputs": [
    {
     "name": "stdin",
     "output_type": "stream",
     "text": [
      "Enter numbers of list 1 separated by space: M na i Ri\n",
      "Enter numbers of list 2 separated by space: y me s A 4 3 5 t h jji\n"
     ]
    },
    {
     "name": "stdout",
     "output_type": "stream",
     "text": [
      "List1: ['M', 'na', 'i', 'Ri']\n",
      "List2: ['y', 'me', 's', 'A', '4', '3', '5', 't', 'h', 'jji']\n",
      "Output: ['My', 'name', 'is', 'RiA', '4', '3', '5', 't', 'h', 'jji']\n"
     ]
    }
   ],
   "source": [
    "list1 = list(input(\"Enter numbers of list 1 separated by space:\").split(\" \"))\n",
    "list2 = list(input(\"Enter numbers of list 2 separated by space:\").split(\" \"))\n",
    "print(\"List1:\",list1)\n",
    "print(\"List2:\",list2)\n",
    "new_list = []\n",
    "min_length = min(len(list1), len(list2))\n",
    "for i in range(min_length):\n",
    "    new_list.append(list1[i] + list2[i])\n",
    "\n",
    "if len(list1) > len(list2):\n",
    "    new_list.extend(list1[min_length:])\n",
    "else:\n",
    "    new_list.extend(list2[min_length:])\n",
    "\n",
    "print(\"Output:\",new_list)"
   ]
  },
  {
   "cell_type": "markdown",
   "id": "ffd4b3e9-540b-404e-8bc0-38fb237850ce",
   "metadata": {},
   "source": [
    "#### 5. Write a Python program to return a new set with unique items from both sets by removing duplicates.\n"
   ]
  },
  {
   "cell_type": "code",
   "execution_count": 49,
   "id": "0e86a6d0-f217-46f6-accc-b56fa2c93090",
   "metadata": {},
   "outputs": [
    {
     "name": "stdin",
     "output_type": "stream",
     "text": [
      "Enter numbers of Set1 separated by space: 3 4 5 6 8 9\n",
      "Enter numbers of Set2 separated by space: 2 3 4 6 99 9\n"
     ]
    },
    {
     "name": "stdout",
     "output_type": "stream",
     "text": [
      "{2, 3, 4, 5, 6, 99, 8, 9}\n"
     ]
    }
   ],
   "source": [
    "set1 = set(map(int,input(\"Enter numbers of Set1 separated by space:\").split(\" \")))\n",
    "set2 = set(map(int,input(\"Enter numbers of Set2 separated by space:\").split(\" \")))\n",
    "new_set = set1.union(set2)\n",
    "print(new_set)"
   ]
  },
  {
   "cell_type": "markdown",
   "id": "5e26c14b-3885-4f79-aefe-9fb7b3987724",
   "metadata": {},
   "source": [
    "#### 6. Write a program to unpack the following tuple into four variables and display each variable"
   ]
  },
  {
   "cell_type": "code",
   "execution_count": 50,
   "id": "c0a611f5-822c-4447-91e9-586a65dd408e",
   "metadata": {},
   "outputs": [
    {
     "name": "stdin",
     "output_type": "stream",
     "text": [
      "Enter 4 tuple elements separated by space: 4 5 6 7\n"
     ]
    },
    {
     "name": "stdout",
     "output_type": "stream",
     "text": [
      "4\n",
      "5\n",
      "6\n",
      "7\n"
     ]
    }
   ],
   "source": [
    "tuple = tuple(input(\"Enter 4 tuple elements separated by space:\").split(\" \"))\n",
    "(var1, var2, var3, var4) = tuple\n",
    "print(var1)\n",
    "print(var2)\n",
    "print(var3)\n",
    "print(var4)"
   ]
  },
  {
   "cell_type": "markdown",
   "id": "4b79c145-2a4c-4710-824c-daf80edfcb81",
   "metadata": {},
   "source": [
    "#### 7. Write a function to return True if the first and last number of a given list is the same. If numbers are different then return False."
   ]
  },
  {
   "cell_type": "code",
   "execution_count": 51,
   "id": "cedb2f57-9232-4ffb-a681-a7dd9f4f2076",
   "metadata": {},
   "outputs": [
    {
     "name": "stdin",
     "output_type": "stream",
     "text": [
      "Enter number: 45784\n"
     ]
    },
    {
     "data": {
      "text/plain": [
       "True"
      ]
     },
     "execution_count": 51,
     "metadata": {},
     "output_type": "execute_result"
    }
   ],
   "source": [
    "def check(num):\n",
    "    if num[0] == num[-1]:\n",
    "        return True\n",
    "    else:\n",
    "        return False\n",
    "\n",
    "num = input(\"Enter number:\")\n",
    "check(num)"
   ]
  },
  {
   "cell_type": "markdown",
   "id": "3b35471d-2739-4f6c-b507-3fab1afda5b9",
   "metadata": {},
   "source": [
    "#### 8. Write a program to check if the given number is a palindrome number.\n",
    "* A palindrome number is a number that is the same after reverse. For example, 545, is the palindrome numbers"
   ]
  },
  {
   "cell_type": "code",
   "execution_count": 55,
   "id": "aa00f325-8c58-4c3f-b42f-0ff4c1952c0e",
   "metadata": {},
   "outputs": [
    {
     "name": "stdin",
     "output_type": "stream",
     "text": [
      "Enter number: bob\n"
     ]
    },
    {
     "name": "stdout",
     "output_type": "stream",
     "text": [
      "bob is a palindrome\n"
     ]
    }
   ],
   "source": [
    "n = input(\"Enter number:\")\n",
    "if n == n[::-1]:\n",
    "    print(f\"{n} is a palindrome\")\n",
    "else:\n",
    "    print(f\"{n} is not a palindrome\")"
   ]
  },
  {
   "cell_type": "markdown",
   "id": "9cb19a27-67b4-4217-90eb-ea512fca0f75",
   "metadata": {},
   "source": [
    "# Assignment 4 - 20 11 23 (NumPy)"
   ]
  },
  {
   "cell_type": "code",
   "execution_count": 19,
   "id": "474fd0b2-621e-48ef-b2d7-74323941e135",
   "metadata": {
    "jp-MarkdownHeadingCollapsed": true
   },
   "outputs": [],
   "source": [
    "import numpy as np"
   ]
  },
  {
   "cell_type": "markdown",
   "id": "e7dd8b76-a51a-47a4-b156-c333ffc759f0",
   "metadata": {},
   "source": [
    "#### 1. Which of the following option(s) can add 1 to each element of array A?\n",
    "\n",
    "#### A = np.array([2, 0, 1, 9, 1, 1, 1, 0, 3, 5])\n",
    "##### a) A+1\n",
    "##### b) list(map(lambda x:x+1, A))\n",
    "##### c) [x+1 for x in A]\n",
    "##### d) A+\"1\""
   ]
  },
  {
   "cell_type": "markdown",
   "id": "7bf55e58-13ce-4b57-b645-37562d6c24a4",
   "metadata": {
    "jp-MarkdownHeadingCollapsed": true
   },
   "source": [
    "* Options a,b,c are correct but option d will throw an error"
   ]
  },
  {
   "cell_type": "markdown",
   "id": "a78e0732-826b-43e3-a8c1-97e273b9faba",
   "metadata": {},
   "source": [
    "#### 2. Given an array, return the shape and dimension of the array."
   ]
  },
  {
   "cell_type": "code",
   "execution_count": 20,
   "id": "d25b61b7-9113-46d1-a6e1-c802fabb753a",
   "metadata": {
    "jp-MarkdownHeadingCollapsed": true
   },
   "outputs": [
    {
     "name": "stdout",
     "output_type": "stream",
     "text": [
      "1\n",
      "(10,)\n"
     ]
    }
   ],
   "source": [
    "A = np.array([2, 0, 1, 9, 1, 1, 1, 0, 3, 5])\n",
    "print(A.ndim)\n",
    "print(A.shape)"
   ]
  },
  {
   "cell_type": "markdown",
   "id": "b6d1efda-e978-45bd-ab26-ae9acb083f6e",
   "metadata": {},
   "source": [
    "#### 3 a)Write the code using np.arange() to get all even numbers between 21 and 70, (70 inclusive)"
   ]
  },
  {
   "cell_type": "code",
   "execution_count": 21,
   "id": "31cbac35-722d-4b23-8907-02df0d74f205",
   "metadata": {
    "jp-MarkdownHeadingCollapsed": true
   },
   "outputs": [
    {
     "data": {
      "text/plain": [
       "array([22, 24, 26, 28, 30, 32, 34, 36, 38, 40, 42, 44, 46, 48, 50, 52, 54,\n",
       "       56, 58, 60, 62, 64, 66, 68, 70])"
      ]
     },
     "execution_count": 21,
     "metadata": {},
     "output_type": "execute_result"
    }
   ],
   "source": [
    "np.arange(22,71,2)"
   ]
  },
  {
   "cell_type": "markdown",
   "id": "4217f6d7-a06e-41e7-bca5-45771bc3c5ff",
   "metadata": {},
   "source": [
    "#### 3 b) Write the code using np.arange() to get all odd numbers between 20 and 71. (71 inclusive)"
   ]
  },
  {
   "cell_type": "code",
   "execution_count": 22,
   "id": "fad68919-55df-4cf5-a730-7b9e6289e516",
   "metadata": {
    "jp-MarkdownHeadingCollapsed": true
   },
   "outputs": [
    {
     "data": {
      "text/plain": [
       "array([21, 23, 25, 27, 29, 31, 33, 35, 37, 39, 41, 43, 45, 47, 49, 51, 53,\n",
       "       55, 57, 59, 61, 63, 65, 67, 69, 71])"
      ]
     },
     "execution_count": 22,
     "metadata": {},
     "output_type": "execute_result"
    }
   ],
   "source": [
    "np.arange(21,72,2)"
   ]
  },
  {
   "cell_type": "markdown",
   "id": "10ef95bd-09b2-4cab-8289-135ab4012cfe",
   "metadata": {
    "jp-MarkdownHeadingCollapsed": true
   },
   "source": [
    "#### The correct option for 3 question is a,d"
   ]
  },
  {
   "cell_type": "markdown",
   "id": "85c9205f-d5bc-4126-9fcf-fc3fe2961136",
   "metadata": {},
   "source": [
    "#### 4. Given the start, end, and the stepsize return a numpy array sequence in given range with the specified stepsize."
   ]
  },
  {
   "cell_type": "code",
   "execution_count": 23,
   "id": "a2f463c6-0eb3-4b1f-8323-22d0c2e0f928",
   "metadata": {
    "jp-MarkdownHeadingCollapsed": true
   },
   "outputs": [
    {
     "name": "stdin",
     "output_type": "stream",
     "text": [
      "Enter number to start from: 4\n",
      "Enter number to end: 200\n",
      "Enter step size: 5\n"
     ]
    },
    {
     "data": {
      "text/plain": [
       "array([  4,   9,  14,  19,  24,  29,  34,  39,  44,  49,  54,  59,  64,\n",
       "        69,  74,  79,  84,  89,  94,  99, 104, 109, 114, 119, 124, 129,\n",
       "       134, 139, 144, 149, 154, 159, 164, 169, 174, 179, 184, 189, 194,\n",
       "       199])"
      ]
     },
     "execution_count": 23,
     "metadata": {},
     "output_type": "execute_result"
    }
   ],
   "source": [
    "start = int(input(\"Enter number to start from:\"))\n",
    "end = int(input(\"Enter number to end:\"))\n",
    "step = int(input(\"Enter step size:\"))\n",
    "np.array(range(start,end,step))"
   ]
  },
  {
   "cell_type": "markdown",
   "id": "a7b2ed7f-5fb0-4eb7-8600-ae4b6270c5c9",
   "metadata": {},
   "source": [
    "#### 5. Which option is correct about the output of the following code snippet?"
   ]
  },
  {
   "cell_type": "code",
   "execution_count": 24,
   "id": "6d41876b-811a-4105-ad05-c2b7ed864c36",
   "metadata": {
    "jp-MarkdownHeadingCollapsed": true
   },
   "outputs": [
    {
     "name": "stdout",
     "output_type": "stream",
     "text": [
      "[  5  -9  20  25   3  -5  16 -10  -8]\n"
     ]
    }
   ],
   "source": [
    "x = np.array([-5, 9 , 20 , 25, -3, 5, 16, 10,-8])\n",
    "x[(x >= -5) & (x <= 15)] *= -1\n",
    "print(x)"
   ]
  },
  {
   "cell_type": "markdown",
   "id": "180f322f-65d3-45a9-9896-ab14c3e6fbd6",
   "metadata": {},
   "source": [
    "#### Correct option is b) Given code will change the sign of all the numbers in range [-5, 15] in x."
   ]
  },
  {
   "cell_type": "code",
   "execution_count": null,
   "id": "7a20fa12-6c56-4dcb-b767-0507745b7f6c",
   "metadata": {},
   "outputs": [],
   "source": []
  }
 ],
 "metadata": {
  "kernelspec": {
   "display_name": "Python 3 (ipykernel)",
   "language": "python",
   "name": "python3"
  },
  "language_info": {
   "codemirror_mode": {
    "name": "ipython",
    "version": 3
   },
   "file_extension": ".py",
   "mimetype": "text/x-python",
   "name": "python",
   "nbconvert_exporter": "python",
   "pygments_lexer": "ipython3",
   "version": "3.12.0"
  }
 },
 "nbformat": 4,
 "nbformat_minor": 5
}
