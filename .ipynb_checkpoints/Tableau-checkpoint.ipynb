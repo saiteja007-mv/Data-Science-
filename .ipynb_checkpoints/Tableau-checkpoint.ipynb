{
 "cells": [
  {
   "cell_type": "code",
   "execution_count": null,
   "id": "ea7cf9d2-f9cf-4e55-9ec7-fe0adff8110d",
   "metadata": {},
   "outputs": [],
   "source": [
    "By using tablet, we can create dashboards. Have you guys heard of exactly? Have you got. of tablet. I heard of tablet, but so tableau. This is a data visualization tool, right? So big companies gives you data, big data. Say it could be sales data. It could be revenue data. It could be employees data, which has N number of columns and rows. And you will have to identify what the data is, and you will have to visualize it. You will have to give a visual representation of the data, which is exactly why you use tablet, right? So we will learn that. And I will tell you why it should be learn that. And then. comes sequential. All of you know. See, I have most of you should not sequence out of it. Yes, sir. Database management system, right? So we will have to learn the sql part, right? And then whatever you guys have learned right now, python. So what I would do is, whatever you guys have learned till now, will quickly revise that. And then continue with whatever you guys are left out. Any. questions in this. In this regard, we will quickly revise python. Whatever is stopped in the 2000. Since I am the first, I am the trainer continuing you from the previous batches. I should have a flow of what has happened. I should know what have you guys come through. I should know what are the doubts that you guys have. So to revise that will just so once python is done, then we will have something called probability and statistics. You know, one of these. because I hope you guys have all seen this in your PU levels and all of that in mathematics, right? And then you will have data Analytics. And then we will have something called machine learning. So this is how the flow should go. But again, these flow, whatever I am writing here, it is the same thing what you guys would have been given, right? The entire content. You guys have the content of the entire yeah, exactly. So all of that will come in this way. In this section, all of that is going to be covered. So the audio. So this is going to be the flow guy. So we will be starting off with tableau at the moment. Fine, everyone is comfortable thinking something. You are fine. Everyone is fine with that, right? So I will give you guys just two minutes time. So just Google it"
   ]
  },
  {
   "cell_type": "code",
   "execution_count": null,
   "id": "f22a5ded-036d-446a-a405-aad62692c5bb",
   "metadata": {},
   "outputs": [],
   "source": [
    "Tableau\n",
    "SQL\n",
    "Python\n",
    "P & S\n",
    "Data Analysis\n",
    "M L"
   ]
  },
  {
   "cell_type": "code",
   "execution_count": null,
   "id": "37938637-f10d-4e9f-ab34-ea5eba613a41",
   "metadata": {},
   "outputs": [],
   "source": []
  },
  {
   "cell_type": "code",
   "execution_count": null,
   "id": "84b42852-bd64-4a6b-824a-249696192b7b",
   "metadata": {},
   "outputs": [],
   "source": [
    "Could be our first class that switching could be there. But trust me, I am going to be there one of the most friendliest trailers. So feel comfortable. Firstly, the class starts at 7:00. am sharp. Sorry, the time. because earlier we used to have either suicide is fine even because earlier we used to wait. But actually I come from a bit far clean. So it takes me one and half an hour to reach. And so where do you come from meter aluminum near hospital. Yeah. So it is bit difficult for me because 7:30 is fine. Because by that time since a while like when I leave the home its very dark and its not actually I understand. Yeah that is very so can you feel like 730 or 730 is fine because 80 generally one and half an hour and from. how how long do you guys all travel to you camera carefully you. are you from here on the bed. So from beginning what was the time that you guys frustrated the 730 then again it was changed to 830 my my conditions are starting 830 a first back so starts at 732nd batch from 8:30 and then why did we start for 7:00 o'clock did the maximum. because I was told which is why I called you over here. If the usual time was 7:30 no problem you can do it that actually because even my office time starts at 10:00 so I have to wrap it up here and go back and then I can go to the office so. I will once again speak to the. and I will tell the final time on this right. Hopefully I can change it to I'll tell you. So so I give just 5 minutes of our time. I know. I know sometimes but III will be doing that later after one or two weeks. But now till this settle I am gonna give 5 minutes buffer time. I want everyone to settle within this 5 minutes Then we will start off with 7. 05 or 735. If I process and then give the changes. And once the class starts, I want it to be interactive. I do not want it to be a boring history lecture. We are not learning history of civics or anything as such. It used to be boring back then. I wanted to be data science. I want to be seeing 10 data scientists, future data scientists sitting here. I do not want someone just listening to whatever its whatever I am telling here. I just want to go out after two hours. After every session, I want each one of you to feel that I have done something extremely good today. And this is exactly what I am pay for right? I want you guys to go out with that mention, because you guys are putting in lot of effort breaking up early in the morning when everyone is sleeping. Waking up and putting in the effort and coming here. And when you go out, I want you to feel that relief and that energized feel from the knowledge that you get here. So I want issue of you to be in an active mind state. I can ask anyone any question at any point. And I want you to tell that. Sorry. I am not telling this as a strict mathematics lecture or something. I am telling it because of your own goodness. I we will be teaching something. And if 50 part of something, then you would not be able to understand the further training, right? What do you think? So unattended attention. And then in the end of the class, I would be giving. So why you is getting assignments before No, actually, in a second. trainer that I was in. So they used to give. But after that, actually, we were again continuing with the basics. And all they have started all over again. So still be there on basics. So after a few days, they were planning to give us. So I will be putting an extra effort for you all. I would be giving at least four to five questions. right? And you need to put in at least another 30 to 45 minutes after the class to solve this. That is I would try to give it for as many classes as possible. There would be some classes for which assignments might not be required. There would be certain classes for which assignments should for sure is required. I would be giving you ncqs, or I would be giving you reasoning handling, or these sorts of stress Any point of the time, anyone gets bored. Please feel free to tell me that I can track some jokes also in the list. Ok, so I want you guys to be attentive. So once assignment is done, I want you guys to solve it. And the next day, when we class, we are going to discuss about this question. So I want to check each one of you if you have tell me now only if it is going to be additional further. You may want to do assignments next time. Will you guys do it? And I want you guys to really spend to go the ammo. I put an extra effort to identify this classiness, right? So once. the assignment is done, then next day we are going to analyze it. And then. after each module, we will be having modules for whatever after each module will be conducting a small module. Let's see. I have data sets. I have the industry based data sets. I have the real life scenarios. I have big companies, data sets between. I would be giving you a data sets, and I will be telling you, create dashboards, do it with Excel or sql, extract the data, operate with the data, and then so on with all these data. sets. And then once it is over, then you will also come up with projects. So you guys have to might have told that you will have a project in the end of it, right? But I would be giving you guys more and more qualities, because more and more projects you add in your resume is when your profile will be highlighted, isn't it? So now please look into this. If you need to do projects, you need to have a strong audio test. Because whatever you learn doing, this is what you use it here in order. to do these module tests properly, you need to have an assignment completed to have these alignments completed in the understand the concepts, which is what I want and only attended attention to. And to. be all these to be disciplined to be consistent. I want you all to be online. The race can see how it is simply connected. When you have one thing is missed out, it's going to be difficult for you to do the other one. So please understand. I hope you all will be assuming to this clear. So I just wanted to understand what used to be your previous. flow of learning written how it used to be like beginning pending. how the treasure is to start what he needs to do. So it is to come and profile film. Then we need to learn 11.1 topic. Then is to explain how it works and how we have to run them in the system at all. So then like we used to be able to make one more questions on the board then leads to a software. Can you continue like he told he used to keep certain questions in the salt and then what is do not. for how long you it is to happen the classes what time was it ended 1 time 1 another initial the you take older then any day in the later on they will be extending the classes. But since it was only on basics and all the quantitative focus on the basis information as much so they were giving us time to understand that actually they will have to look for one and the less topic because already you have seen they told us there will be extending classes so that my. class can stretch a little guy with everybody. So there will be going deep into it. So it might take some time. There could be chances it can get over by 1 1/2 hour. So please give repair some time. And in the ending of the thrust you were not waiting in the assignment itself for you. You are not getting a statement. Perfect place. So my class, I will just give you first. I will start off with the concept. We will learn theoretically 1st understand the outline of what we are learning for today. Agenda I will give you. And then we will dive into practical part of the practicality of it. But now again, I have one, I do not know if it is a good thing on tracking your perspective. Anytime I can stop, I can pick somebody, I can fix some and ask. you what are us teaching? And I really expect you to answer it. If you are dreaming about what breadth first is it there? Where do I go after the class or what is the plan for today? What is the plan for weekend all of that? Please keep it outside. Because tomorrow in the interview the all these learnings that you have is what you are going to use it in an interviews there. They are not going to ask already. Where did you enjoy? Where did you go to all of that you want to have the discussion we will definitely have it also after the class hours. So we will start off with tabloids."
   ]
  }
 ],
 "metadata": {
  "kernelspec": {
   "display_name": "Python 3 (ipykernel)",
   "language": "python",
   "name": "python3"
  },
  "language_info": {
   "codemirror_mode": {
    "name": "ipython",
    "version": 3
   },
   "file_extension": ".py",
   "mimetype": "text/x-python",
   "name": "python",
   "nbconvert_exporter": "python",
   "pygments_lexer": "ipython3",
   "version": "3.12.0"
  }
 },
 "nbformat": 4,
 "nbformat_minor": 5
}
